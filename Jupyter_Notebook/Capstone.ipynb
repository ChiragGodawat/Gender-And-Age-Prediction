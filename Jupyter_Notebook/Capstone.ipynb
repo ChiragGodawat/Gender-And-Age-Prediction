{
 "cells": [
  {
   "cell_type": "code",
   "execution_count": 119,
   "id": "acc2a86c",
   "metadata": {},
   "outputs": [],
   "source": [
    "import numpy as np\n",
    "import pandas as pd\n",
    "import os\n",
    "\n",
    "os.environ[\"PROJ_LIB\"] = \"/Users/chiraggodawat/opt/anaconda3/envs/python_3.7/share/proj/\"\n",
    "import matplotlib.pyplot as plt\n",
    "import seaborn as sns \n",
    "from mpl_toolkits.basemap import Basemap\n",
    "\n",
    "import pandas as pd\n",
    "from sklearn import preprocessing\n",
    "from sklearn.cluster import DBSCAN\n",
    "from mlxtend.classifier import StackingCVClassifier\n",
    "from sklearn.neighbors import KNeighborsClassifier\n",
    "from sklearn.ensemble import RandomForestClassifier\n",
    "from sklearn.linear_model import LogisticRegression\n",
    "from sklearn.naive_bayes import GaussianNB \n",
    "from sklearn import model_selection\n",
    "import numpy as np\n",
    "from xgboost import XGBClassifier\n",
    "from sklearn.model_selection import GridSearchCV\n",
    "from sklearn.metrics import classification_report, confusion_matrix, log_loss, roc_auc_score\n",
    "import boto3\n",
    "import warnings\n",
    "import pickle\n",
    "\n",
    "%matplotlib inline"
   ]
  },
  {
   "cell_type": "markdown",
   "id": "03c1f66c",
   "metadata": {},
   "source": [
    "# Reading Data"
   ]
  },
  {
   "cell_type": "code",
   "execution_count": 2,
   "id": "78692ef2",
   "metadata": {},
   "outputs": [
    {
     "name": "stderr",
     "output_type": "stream",
     "text": [
      "/Users/chiraggodawat/opt/anaconda3/envs/python_3.7/lib/python3.7/site-packages/IPython/core/interactiveshell.py:3441: DtypeWarning: Columns (4,6,7) have mixed types.Specify dtype option on import or set low_memory=False.\n",
      "  exec(code_obj, self.user_global_ns, self.user_ns)\n"
     ]
    },
    {
     "data": {
      "text/html": [
       "<div>\n",
       "<style scoped>\n",
       "    .dataframe tbody tr th:only-of-type {\n",
       "        vertical-align: middle;\n",
       "    }\n",
       "\n",
       "    .dataframe tbody tr th {\n",
       "        vertical-align: top;\n",
       "    }\n",
       "\n",
       "    .dataframe thead th {\n",
       "        text-align: right;\n",
       "    }\n",
       "</style>\n",
       "<table border=\"1\" class=\"dataframe\">\n",
       "  <thead>\n",
       "    <tr style=\"text-align: right;\">\n",
       "      <th></th>\n",
       "      <th>Device_Id</th>\n",
       "      <th>Gender</th>\n",
       "      <th>Age</th>\n",
       "      <th>Age Group</th>\n",
       "      <th>Event_ID</th>\n",
       "      <th>Event_Time_Stamp</th>\n",
       "      <th>Long</th>\n",
       "      <th>Lat</th>\n",
       "    </tr>\n",
       "  </thead>\n",
       "  <tbody>\n",
       "    <tr>\n",
       "      <th>0</th>\n",
       "      <td>-7548291590301750000</td>\n",
       "      <td>M</td>\n",
       "      <td>33</td>\n",
       "      <td>M32+</td>\n",
       "      <td>414</td>\n",
       "      <td>2016-05-03 00:05:31.0</td>\n",
       "      <td>116.79</td>\n",
       "      <td>33.98</td>\n",
       "    </tr>\n",
       "    <tr>\n",
       "      <th>1</th>\n",
       "      <td>-7548291590301750000</td>\n",
       "      <td>M</td>\n",
       "      <td>33</td>\n",
       "      <td>M32+</td>\n",
       "      <td>2604805</td>\n",
       "      <td>2016-05-04 03:01:32.0</td>\n",
       "      <td>116.79</td>\n",
       "      <td>33.98</td>\n",
       "    </tr>\n",
       "    <tr>\n",
       "      <th>2</th>\n",
       "      <td>-7548291590301750000</td>\n",
       "      <td>M</td>\n",
       "      <td>33</td>\n",
       "      <td>M32+</td>\n",
       "      <td>2588911</td>\n",
       "      <td>2016-05-03 16:14:14.0</td>\n",
       "      <td>116.79</td>\n",
       "      <td>33.98</td>\n",
       "    </tr>\n",
       "    <tr>\n",
       "      <th>3</th>\n",
       "      <td>-7548291590301750000</td>\n",
       "      <td>M</td>\n",
       "      <td>33</td>\n",
       "      <td>M32+</td>\n",
       "      <td>2586055</td>\n",
       "      <td>2016-05-02 14:36:04.0</td>\n",
       "      <td>116.79</td>\n",
       "      <td>33.98</td>\n",
       "    </tr>\n",
       "    <tr>\n",
       "      <th>4</th>\n",
       "      <td>-7548291590301750000</td>\n",
       "      <td>M</td>\n",
       "      <td>33</td>\n",
       "      <td>M32+</td>\n",
       "      <td>2560938</td>\n",
       "      <td>2016-05-02 18:01:00.0</td>\n",
       "      <td>116.79</td>\n",
       "      <td>33.98</td>\n",
       "    </tr>\n",
       "  </tbody>\n",
       "</table>\n",
       "</div>"
      ],
      "text/plain": [
       "             Device_Id Gender  Age Age Group Event_ID       Event_Time_Stamp  \\\n",
       "0 -7548291590301750000      M   33      M32+      414  2016-05-03 00:05:31.0   \n",
       "1 -7548291590301750000      M   33      M32+  2604805  2016-05-04 03:01:32.0   \n",
       "2 -7548291590301750000      M   33      M32+  2588911  2016-05-03 16:14:14.0   \n",
       "3 -7548291590301750000      M   33      M32+  2586055  2016-05-02 14:36:04.0   \n",
       "4 -7548291590301750000      M   33      M32+  2560938  2016-05-02 18:01:00.0   \n",
       "\n",
       "     Long    Lat  \n",
       "0  116.79  33.98  \n",
       "1  116.79  33.98  \n",
       "2  116.79  33.98  \n",
       "3  116.79  33.98  \n",
       "4  116.79  33.98  "
      ]
     },
     "execution_count": 2,
     "metadata": {},
     "output_type": "execute_result"
    }
   ],
   "source": [
    "df_event = pd.read_csv(\"/Users/chiraggodawat/Desktop/Upgrad/Capstone/Part_2/event_data/000000_0\",sep=\",\",header=None)\n",
    "df_event.columns =['Device_Id','Gender','Age','Age Group', 'Event_ID', 'Event_Time_Stamp', 'Long','Lat']\n",
    "df_event.head()"
   ]
  },
  {
   "cell_type": "code",
   "execution_count": 3,
   "id": "68293f3d",
   "metadata": {},
   "outputs": [
    {
     "data": {
      "text/html": [
       "<div>\n",
       "<style scoped>\n",
       "    .dataframe tbody tr th:only-of-type {\n",
       "        vertical-align: middle;\n",
       "    }\n",
       "\n",
       "    .dataframe tbody tr th {\n",
       "        vertical-align: top;\n",
       "    }\n",
       "\n",
       "    .dataframe thead th {\n",
       "        text-align: right;\n",
       "    }\n",
       "</style>\n",
       "<table border=\"1\" class=\"dataframe\">\n",
       "  <thead>\n",
       "    <tr style=\"text-align: right;\">\n",
       "      <th></th>\n",
       "      <th>Device_Id</th>\n",
       "      <th>Gender</th>\n",
       "      <th>Age</th>\n",
       "      <th>Age Group</th>\n",
       "      <th>Phone Brand</th>\n",
       "      <th>Device Model</th>\n",
       "    </tr>\n",
       "  </thead>\n",
       "  <tbody>\n",
       "    <tr>\n",
       "      <th>0</th>\n",
       "      <td>-7548291590301750000</td>\n",
       "      <td>M</td>\n",
       "      <td>33</td>\n",
       "      <td>M32+</td>\n",
       "      <td>Huawei</td>\n",
       "      <td>è£è€€3C</td>\n",
       "    </tr>\n",
       "    <tr>\n",
       "      <th>1</th>\n",
       "      <td>6943568600617760000</td>\n",
       "      <td>M</td>\n",
       "      <td>37</td>\n",
       "      <td>M32+</td>\n",
       "      <td>Xiaomi</td>\n",
       "      <td>xnote</td>\n",
       "    </tr>\n",
       "    <tr>\n",
       "      <th>2</th>\n",
       "      <td>5441349705980020000</td>\n",
       "      <td>M</td>\n",
       "      <td>40</td>\n",
       "      <td>M32+</td>\n",
       "      <td>OPPO</td>\n",
       "      <td>R7s</td>\n",
       "    </tr>\n",
       "    <tr>\n",
       "      <th>3</th>\n",
       "      <td>-5393876656119450000</td>\n",
       "      <td>M</td>\n",
       "      <td>33</td>\n",
       "      <td>M32+</td>\n",
       "      <td>Xiaomi</td>\n",
       "      <td>MI 4</td>\n",
       "    </tr>\n",
       "    <tr>\n",
       "      <th>4</th>\n",
       "      <td>4543988487649880000</td>\n",
       "      <td>M</td>\n",
       "      <td>53</td>\n",
       "      <td>M32+</td>\n",
       "      <td>samsung</td>\n",
       "      <td>Galaxy S4</td>\n",
       "    </tr>\n",
       "  </tbody>\n",
       "</table>\n",
       "</div>"
      ],
      "text/plain": [
       "             Device_Id Gender  Age Age Group Phone Brand Device Model\n",
       "0 -7548291590301750000      M   33      M32+      Huawei     è£è€€3C\n",
       "1  6943568600617760000      M   37      M32+      Xiaomi        xnote\n",
       "2  5441349705980020000      M   40      M32+        OPPO          R7s\n",
       "3 -5393876656119450000      M   33      M32+      Xiaomi         MI 4\n",
       "4  4543988487649880000      M   53      M32+     samsung    Galaxy S4"
      ]
     },
     "execution_count": 3,
     "metadata": {},
     "output_type": "execute_result"
    }
   ],
   "source": [
    "df_non_event = pd.read_csv(\"/Users/chiraggodawat/Desktop/Upgrad/Capstone/Part_2/non_event_data/000000_0\",sep=\",\",header=None)\n",
    "df_non_event.columns = ['Device_Id','Gender','Age','Age Group', 'Phone Brand', 'Device Model']\n",
    "df_non_event.head()"
   ]
  },
  {
   "cell_type": "code",
   "execution_count": 4,
   "id": "722c162e",
   "metadata": {},
   "outputs": [
    {
     "data": {
      "text/html": [
       "<div>\n",
       "<style scoped>\n",
       "    .dataframe tbody tr th:only-of-type {\n",
       "        vertical-align: middle;\n",
       "    }\n",
       "\n",
       "    .dataframe tbody tr th {\n",
       "        vertical-align: top;\n",
       "    }\n",
       "\n",
       "    .dataframe thead th {\n",
       "        text-align: right;\n",
       "    }\n",
       "</style>\n",
       "<table border=\"1\" class=\"dataframe\">\n",
       "  <thead>\n",
       "    <tr style=\"text-align: right;\">\n",
       "      <th></th>\n",
       "      <th>Event_Id</th>\n",
       "      <th>App_Id</th>\n",
       "      <th>Is_Installed</th>\n",
       "      <th>Is_Active</th>\n",
       "      <th>Label_Id</th>\n",
       "      <th>Label_Category</th>\n",
       "    </tr>\n",
       "  </thead>\n",
       "  <tbody>\n",
       "    <tr>\n",
       "      <th>0</th>\n",
       "      <td>2</td>\n",
       "      <td>5927333115845830913</td>\n",
       "      <td>1</td>\n",
       "      <td>1</td>\n",
       "      <td>549</td>\n",
       "      <td>Property Industry 1.0</td>\n",
       "    </tr>\n",
       "    <tr>\n",
       "      <th>1</th>\n",
       "      <td>2</td>\n",
       "      <td>5927333115845830913</td>\n",
       "      <td>1</td>\n",
       "      <td>1</td>\n",
       "      <td>172</td>\n",
       "      <td>IM</td>\n",
       "    </tr>\n",
       "    <tr>\n",
       "      <th>2</th>\n",
       "      <td>2</td>\n",
       "      <td>5927333115845830913</td>\n",
       "      <td>1</td>\n",
       "      <td>1</td>\n",
       "      <td>548</td>\n",
       "      <td>Industry tag</td>\n",
       "    </tr>\n",
       "    <tr>\n",
       "      <th>3</th>\n",
       "      <td>2</td>\n",
       "      <td>5927333115845830913</td>\n",
       "      <td>1</td>\n",
       "      <td>1</td>\n",
       "      <td>704</td>\n",
       "      <td>Property Industry 2.0</td>\n",
       "    </tr>\n",
       "    <tr>\n",
       "      <th>4</th>\n",
       "      <td>2</td>\n",
       "      <td>5927333115845830913</td>\n",
       "      <td>1</td>\n",
       "      <td>1</td>\n",
       "      <td>710</td>\n",
       "      <td>Relatives 1</td>\n",
       "    </tr>\n",
       "  </tbody>\n",
       "</table>\n",
       "</div>"
      ],
      "text/plain": [
       "   Event_Id               App_Id  Is_Installed  Is_Active  Label_Id  \\\n",
       "0         2  5927333115845830913             1          1       549   \n",
       "1         2  5927333115845830913             1          1       172   \n",
       "2         2  5927333115845830913             1          1       548   \n",
       "3         2  5927333115845830913             1          1       704   \n",
       "4         2  5927333115845830913             1          1       710   \n",
       "\n",
       "          Label_Category  \n",
       "0  Property Industry 1.0  \n",
       "1                     IM  \n",
       "2           Industry tag  \n",
       "3  Property Industry 2.0  \n",
       "4            Relatives 1  "
      ]
     },
     "execution_count": 4,
     "metadata": {},
     "output_type": "execute_result"
    }
   ],
   "source": [
    "#As app_data is in parts, reading them in parts and concating in one single dataframe\n",
    "df_app = pd.DataFrame()\n",
    "\n",
    "df_list = []\n",
    "for i in range(0,8):\n",
    "    df = pd.read_csv(\"/Users/chiraggodawat/Desktop/Upgrad/Capstone/Part_2/app_data/00000\"+ str(i) +\"_0\",sep=\",\",header=None)\n",
    "    df_list.append(df)\n",
    "\n",
    "df_app = pd.concat(df_list, axis=0, ignore_index=True)\n",
    "df_app.columns = ['Event_Id','App_Id','Is_Installed','Is_Active','Label_Id', 'Label_Category']\n",
    "df_app.head()"
   ]
  },
  {
   "cell_type": "code",
   "execution_count": 5,
   "id": "3b2dfcb5",
   "metadata": {},
   "outputs": [
    {
     "name": "stdout",
     "output_type": "stream",
     "text": [
      "df_app shape (104617724, 6)\n",
      "df_event shape (1266933, 8)\n",
      "df_non_event shape (74646, 6)\n"
     ]
    }
   ],
   "source": [
    "print(\"df_app shape\",df_app.shape)\n",
    "print(\"df_event shape\", df_event.shape)\n",
    "print(\"df_non_event shape\", df_non_event.shape)"
   ]
  },
  {
   "cell_type": "markdown",
   "id": "8de2e885",
   "metadata": {},
   "source": [
    "# Cleaning Data"
   ]
  },
  {
   "cell_type": "markdown",
   "id": "b5ce9787",
   "metadata": {},
   "source": [
    "   ### Geospatial Data Cleaning "
   ]
  },
  {
   "cell_type": "code",
   "execution_count": 6,
   "id": "183359d2",
   "metadata": {},
   "outputs": [],
   "source": [
    "df_event = df_event[-((df_event['Lat']==0) & (df_event['Long']==0))]"
   ]
  },
  {
   "cell_type": "code",
   "execution_count": 7,
   "id": "1cb9855d",
   "metadata": {},
   "outputs": [
    {
     "data": {
      "text/plain": [
       "(920392, 8)"
      ]
     },
     "execution_count": 7,
     "metadata": {},
     "output_type": "execute_result"
    }
   ],
   "source": [
    "df_event.shape"
   ]
  },
  {
   "cell_type": "markdown",
   "id": "4bc9962f",
   "metadata": {},
   "source": [
    "### Other Cleaning"
   ]
  },
  {
   "cell_type": "code",
   "execution_count": 8,
   "id": "502f5a38",
   "metadata": {},
   "outputs": [
    {
     "name": "stdout",
     "output_type": "stream",
     "text": [
      "<class 'pandas.core.frame.DataFrame'>\n",
      "Int64Index: 920392 entries, 0 to 1266932\n",
      "Data columns (total 8 columns):\n",
      " #   Column            Non-Null Count   Dtype         \n",
      "---  ------            --------------   -----         \n",
      " 0   Device_Id         920392 non-null  int64         \n",
      " 1   Gender            920392 non-null  object        \n",
      " 2   Age               920392 non-null  int64         \n",
      " 3   Age Group         920392 non-null  object        \n",
      " 4   Event_ID          920392 non-null  object        \n",
      " 5   Event_Time_Stamp  869057 non-null  datetime64[ns]\n",
      " 6   Long              920392 non-null  object        \n",
      " 7   Lat               920392 non-null  object        \n",
      "dtypes: datetime64[ns](1), int64(2), object(5)\n",
      "memory usage: 63.2+ MB\n"
     ]
    }
   ],
   "source": [
    "#Converting the timestamp column\n",
    "df_event['Event_Time_Stamp'] = pd.to_datetime(df_event['Event_Time_Stamp'],errors ='coerce')\n",
    "df_event.info()"
   ]
  },
  {
   "cell_type": "markdown",
   "id": "21ac7343",
   "metadata": {},
   "source": [
    "Null Value Checks \n"
   ]
  },
  {
   "cell_type": "code",
   "execution_count": 9,
   "id": "6c6cdb98",
   "metadata": {},
   "outputs": [
    {
     "data": {
      "text/plain": [
       "Device_Id           0.000000\n",
       "Gender              0.000000\n",
       "Age                 0.000000\n",
       "Age Group           0.000000\n",
       "Event_ID            0.000000\n",
       "Event_Time_Stamp    5.906977\n",
       "Long                0.000000\n",
       "Lat                 0.000000\n",
       "dtype: float64"
      ]
     },
     "execution_count": 9,
     "metadata": {},
     "output_type": "execute_result"
    }
   ],
   "source": [
    "#Get Percentage of null values\n",
    "df_event.isna().sum()*100/df_event.count()"
   ]
  },
  {
   "cell_type": "code",
   "execution_count": 10,
   "id": "041334b4",
   "metadata": {},
   "outputs": [
    {
     "data": {
      "text/plain": [
       "Event_Id          0.0\n",
       "App_Id            0.0\n",
       "Is_Installed      0.0\n",
       "Is_Active         0.0\n",
       "Label_Id          0.0\n",
       "Label_Category    0.0\n",
       "dtype: float64"
      ]
     },
     "execution_count": 10,
     "metadata": {},
     "output_type": "execute_result"
    }
   ],
   "source": [
    "df_app.isna().sum()*100/df_app.count()"
   ]
  },
  {
   "cell_type": "code",
   "execution_count": 11,
   "id": "592e3dea",
   "metadata": {},
   "outputs": [
    {
     "data": {
      "text/plain": [
       "Device_Id       0.0\n",
       "Gender          0.0\n",
       "Age             0.0\n",
       "Age Group       0.0\n",
       "Phone Brand     0.0\n",
       "Device Model    0.0\n",
       "dtype: float64"
      ]
     },
     "execution_count": 11,
     "metadata": {},
     "output_type": "execute_result"
    }
   ],
   "source": [
    "df_non_event.isna().sum()*100/df_non_event.count()"
   ]
  },
  {
   "cell_type": "code",
   "execution_count": 12,
   "id": "cb9f5792",
   "metadata": {},
   "outputs": [],
   "source": [
    "# So we have null values only in df_event and as it is around 6per only, \n",
    "# So we can remove the those rows as it wont affect our data much\n",
    "\n",
    "df_event.dropna(inplace=True)"
   ]
  },
  {
   "cell_type": "code",
   "execution_count": 13,
   "id": "6b03a37c",
   "metadata": {},
   "outputs": [
    {
     "data": {
      "text/plain": [
       "Device_Id           0.0\n",
       "Gender              0.0\n",
       "Age                 0.0\n",
       "Age Group           0.0\n",
       "Event_ID            0.0\n",
       "Event_Time_Stamp    0.0\n",
       "Long                0.0\n",
       "Lat                 0.0\n",
       "dtype: float64"
      ]
     },
     "execution_count": 13,
     "metadata": {},
     "output_type": "execute_result"
    }
   ],
   "source": [
    "df_event.isna().sum()*100/df_event.count()"
   ]
  },
  {
   "cell_type": "markdown",
   "id": "56747ee4",
   "metadata": {},
   "source": [
    "Lets check each of the necessary columns in each dataframe, whether they contain proper values or nor (For eg. Gender colum should have only M, F as values)"
   ]
  },
  {
   "cell_type": "code",
   "execution_count": 14,
   "id": "5ff90ca4",
   "metadata": {},
   "outputs": [
    {
     "name": "stdout",
     "output_type": "stream",
     "text": [
      "<class 'pandas.core.frame.DataFrame'>\n",
      "Int64Index: 869057 entries, 0 to 1251632\n",
      "Data columns (total 8 columns):\n",
      " #   Column            Non-Null Count   Dtype         \n",
      "---  ------            --------------   -----         \n",
      " 0   Device_Id         869057 non-null  int64         \n",
      " 1   Gender            869057 non-null  object        \n",
      " 2   Age               869057 non-null  int64         \n",
      " 3   Age Group         869057 non-null  object        \n",
      " 4   Event_ID          869057 non-null  object        \n",
      " 5   Event_Time_Stamp  869057 non-null  datetime64[ns]\n",
      " 6   Long              869057 non-null  object        \n",
      " 7   Lat               869057 non-null  object        \n",
      "dtypes: datetime64[ns](1), int64(2), object(5)\n",
      "memory usage: 59.7+ MB\n"
     ]
    }
   ],
   "source": [
    "#df_event\n",
    "\n",
    "df_event.info()"
   ]
  },
  {
   "cell_type": "code",
   "execution_count": 15,
   "id": "c25d0820",
   "metadata": {},
   "outputs": [
    {
     "data": {
      "text/html": [
       "<div>\n",
       "<style scoped>\n",
       "    .dataframe tbody tr th:only-of-type {\n",
       "        vertical-align: middle;\n",
       "    }\n",
       "\n",
       "    .dataframe tbody tr th {\n",
       "        vertical-align: top;\n",
       "    }\n",
       "\n",
       "    .dataframe thead th {\n",
       "        text-align: right;\n",
       "    }\n",
       "</style>\n",
       "<table border=\"1\" class=\"dataframe\">\n",
       "  <thead>\n",
       "    <tr style=\"text-align: right;\">\n",
       "      <th></th>\n",
       "      <th>Device_Id</th>\n",
       "      <th>Age</th>\n",
       "    </tr>\n",
       "  </thead>\n",
       "  <tbody>\n",
       "    <tr>\n",
       "      <th>count</th>\n",
       "      <td>8.690570e+05</td>\n",
       "      <td>869057.000000</td>\n",
       "    </tr>\n",
       "    <tr>\n",
       "      <th>mean</th>\n",
       "      <td>-9.784744e+16</td>\n",
       "      <td>33.623961</td>\n",
       "    </tr>\n",
       "    <tr>\n",
       "      <th>std</th>\n",
       "      <td>5.305375e+18</td>\n",
       "      <td>9.757887</td>\n",
       "    </tr>\n",
       "    <tr>\n",
       "      <th>min</th>\n",
       "      <td>-9.222957e+18</td>\n",
       "      <td>14.000000</td>\n",
       "    </tr>\n",
       "    <tr>\n",
       "      <th>25%</th>\n",
       "      <td>-4.752132e+18</td>\n",
       "      <td>27.000000</td>\n",
       "    </tr>\n",
       "    <tr>\n",
       "      <th>50%</th>\n",
       "      <td>-2.169639e+17</td>\n",
       "      <td>31.000000</td>\n",
       "    </tr>\n",
       "    <tr>\n",
       "      <th>75%</th>\n",
       "      <td>4.575946e+18</td>\n",
       "      <td>39.000000</td>\n",
       "    </tr>\n",
       "    <tr>\n",
       "      <th>max</th>\n",
       "      <td>9.220915e+18</td>\n",
       "      <td>88.000000</td>\n",
       "    </tr>\n",
       "  </tbody>\n",
       "</table>\n",
       "</div>"
      ],
      "text/plain": [
       "          Device_Id            Age\n",
       "count  8.690570e+05  869057.000000\n",
       "mean  -9.784744e+16      33.623961\n",
       "std    5.305375e+18       9.757887\n",
       "min   -9.222957e+18      14.000000\n",
       "25%   -4.752132e+18      27.000000\n",
       "50%   -2.169639e+17      31.000000\n",
       "75%    4.575946e+18      39.000000\n",
       "max    9.220915e+18      88.000000"
      ]
     },
     "execution_count": 15,
     "metadata": {},
     "output_type": "execute_result"
    }
   ],
   "source": [
    "df_event.describe()"
   ]
  },
  {
   "cell_type": "code",
   "execution_count": 16,
   "id": "152fc3b0",
   "metadata": {},
   "outputs": [
    {
     "data": {
      "text/plain": [
       "M    630201\n",
       "F    238856\n",
       "Name: Gender, dtype: int64"
      ]
     },
     "execution_count": 16,
     "metadata": {},
     "output_type": "execute_result"
    }
   ],
   "source": [
    "df_event['Gender'].value_counts()"
   ]
  },
  {
   "cell_type": "code",
   "execution_count": 17,
   "id": "0000d07d",
   "metadata": {
    "scrolled": true
   },
   "outputs": [
    {
     "data": {
      "text/plain": [
       "M32+      283687\n",
       "M25-32    255970\n",
       "F32+      113954\n",
       "M0-24      90544\n",
       "F25-32     88151\n",
       "F0-24      36751\n",
       "Name: Age Group, dtype: int64"
      ]
     },
     "execution_count": 17,
     "metadata": {},
     "output_type": "execute_result"
    }
   ],
   "source": [
    "df_event['Age Group'].value_counts()"
   ]
  },
  {
   "cell_type": "code",
   "execution_count": 18,
   "id": "79dec2bc",
   "metadata": {},
   "outputs": [
    {
     "data": {
      "text/plain": [
       "count     869057.0\n",
       "unique      3316.0\n",
       "top            1.0\n",
       "freq       27612.0\n",
       "Name: Lat, dtype: float64"
      ]
     },
     "execution_count": 18,
     "metadata": {},
     "output_type": "execute_result"
    }
   ],
   "source": [
    "df_event['Lat'].describe()"
   ]
  },
  {
   "cell_type": "code",
   "execution_count": 19,
   "id": "16ad45e9",
   "metadata": {
    "scrolled": true
   },
   "outputs": [
    {
     "data": {
      "text/plain": [
       "count     869057.0\n",
       "unique      3566.0\n",
       "top            1.0\n",
       "freq       27604.0\n",
       "Name: Long, dtype: float64"
      ]
     },
     "execution_count": 19,
     "metadata": {},
     "output_type": "execute_result"
    }
   ],
   "source": [
    "df_event['Long'].describe()\n",
    "\n",
    "#This dataset looks good. Moving to df_app"
   ]
  },
  {
   "cell_type": "code",
   "execution_count": 20,
   "id": "e08c55ad",
   "metadata": {},
   "outputs": [
    {
     "name": "stdout",
     "output_type": "stream",
     "text": [
      "<class 'pandas.core.frame.DataFrame'>\n",
      "RangeIndex: 104617724 entries, 0 to 104617723\n",
      "Data columns (total 6 columns):\n",
      " #   Column          Dtype \n",
      "---  ------          ----- \n",
      " 0   Event_Id        int64 \n",
      " 1   App_Id          int64 \n",
      " 2   Is_Installed    int64 \n",
      " 3   Is_Active       int64 \n",
      " 4   Label_Id        int64 \n",
      " 5   Label_Category  object\n",
      "dtypes: int64(5), object(1)\n",
      "memory usage: 4.7+ GB\n"
     ]
    }
   ],
   "source": [
    "#Df_app\n",
    "\n",
    "df_app.info()"
   ]
  },
  {
   "cell_type": "code",
   "execution_count": 21,
   "id": "fec41563",
   "metadata": {
    "scrolled": true
   },
   "outputs": [
    {
     "data": {
      "text/html": [
       "<div>\n",
       "<style scoped>\n",
       "    .dataframe tbody tr th:only-of-type {\n",
       "        vertical-align: middle;\n",
       "    }\n",
       "\n",
       "    .dataframe tbody tr th {\n",
       "        vertical-align: top;\n",
       "    }\n",
       "\n",
       "    .dataframe thead th {\n",
       "        text-align: right;\n",
       "    }\n",
       "</style>\n",
       "<table border=\"1\" class=\"dataframe\">\n",
       "  <thead>\n",
       "    <tr style=\"text-align: right;\">\n",
       "      <th></th>\n",
       "      <th>Event_Id</th>\n",
       "      <th>App_Id</th>\n",
       "      <th>Is_Installed</th>\n",
       "      <th>Is_Active</th>\n",
       "      <th>Label_Id</th>\n",
       "    </tr>\n",
       "  </thead>\n",
       "  <tbody>\n",
       "    <tr>\n",
       "      <th>count</th>\n",
       "      <td>1.046177e+08</td>\n",
       "      <td>1.046177e+08</td>\n",
       "      <td>104617724.0</td>\n",
       "      <td>1.046177e+08</td>\n",
       "      <td>1.046177e+08</td>\n",
       "    </tr>\n",
       "    <tr>\n",
       "      <th>mean</th>\n",
       "      <td>1.624971e+06</td>\n",
       "      <td>1.336797e+18</td>\n",
       "      <td>1.0</td>\n",
       "      <td>3.411841e-01</td>\n",
       "      <td>5.947480e+02</td>\n",
       "    </tr>\n",
       "    <tr>\n",
       "      <th>std</th>\n",
       "      <td>9.377997e+05</td>\n",
       "      <td>5.201954e+18</td>\n",
       "      <td>0.0</td>\n",
       "      <td>4.741071e-01</td>\n",
       "      <td>2.388198e+02</td>\n",
       "    </tr>\n",
       "    <tr>\n",
       "      <th>min</th>\n",
       "      <td>2.000000e+00</td>\n",
       "      <td>-9.221157e+18</td>\n",
       "      <td>1.0</td>\n",
       "      <td>0.000000e+00</td>\n",
       "      <td>2.000000e+00</td>\n",
       "    </tr>\n",
       "    <tr>\n",
       "      <th>25%</th>\n",
       "      <td>8.134850e+05</td>\n",
       "      <td>-2.741012e+18</td>\n",
       "      <td>1.0</td>\n",
       "      <td>0.000000e+00</td>\n",
       "      <td>4.050000e+02</td>\n",
       "    </tr>\n",
       "    <tr>\n",
       "      <th>50%</th>\n",
       "      <td>1.626707e+06</td>\n",
       "      <td>1.886579e+18</td>\n",
       "      <td>1.0</td>\n",
       "      <td>0.000000e+00</td>\n",
       "      <td>7.040000e+02</td>\n",
       "    </tr>\n",
       "    <tr>\n",
       "      <th>75%</th>\n",
       "      <td>2.440243e+06</td>\n",
       "      <td>5.927333e+18</td>\n",
       "      <td>1.0</td>\n",
       "      <td>1.000000e+00</td>\n",
       "      <td>7.570000e+02</td>\n",
       "    </tr>\n",
       "    <tr>\n",
       "      <th>max</th>\n",
       "      <td>3.252948e+06</td>\n",
       "      <td>9.222488e+18</td>\n",
       "      <td>1.0</td>\n",
       "      <td>1.000000e+00</td>\n",
       "      <td>1.021000e+03</td>\n",
       "    </tr>\n",
       "  </tbody>\n",
       "</table>\n",
       "</div>"
      ],
      "text/plain": [
       "           Event_Id        App_Id  Is_Installed     Is_Active      Label_Id\n",
       "count  1.046177e+08  1.046177e+08   104617724.0  1.046177e+08  1.046177e+08\n",
       "mean   1.624971e+06  1.336797e+18           1.0  3.411841e-01  5.947480e+02\n",
       "std    9.377997e+05  5.201954e+18           0.0  4.741071e-01  2.388198e+02\n",
       "min    2.000000e+00 -9.221157e+18           1.0  0.000000e+00  2.000000e+00\n",
       "25%    8.134850e+05 -2.741012e+18           1.0  0.000000e+00  4.050000e+02\n",
       "50%    1.626707e+06  1.886579e+18           1.0  0.000000e+00  7.040000e+02\n",
       "75%    2.440243e+06  5.927333e+18           1.0  1.000000e+00  7.570000e+02\n",
       "max    3.252948e+06  9.222488e+18           1.0  1.000000e+00  1.021000e+03"
      ]
     },
     "execution_count": 21,
     "metadata": {},
     "output_type": "execute_result"
    }
   ],
   "source": [
    "df_app.describe()"
   ]
  },
  {
   "cell_type": "code",
   "execution_count": 22,
   "id": "6b0fad3a",
   "metadata": {},
   "outputs": [
    {
     "data": {
      "text/plain": [
       "Industry tag             12117200\n",
       "Property Industry 2.0     8411347\n",
       "Property Industry 1.0     6840511\n",
       "unknown                   6518956\n",
       "Custom label              4115987\n",
       "Name: Label_Category, dtype: int64"
      ]
     },
     "execution_count": 22,
     "metadata": {},
     "output_type": "execute_result"
    }
   ],
   "source": [
    "df_app['Label_Category'].value_counts()[:5]\n",
    "\n",
    "#Here we have category as unknown which is fourth largest in count. But maybe it might help us in model building.\n",
    "#So Lets keep it here for now. Will see if anything needs to be done for this in later stage\n",
    "#Moving to df_non_event"
   ]
  },
  {
   "cell_type": "code",
   "execution_count": 23,
   "id": "f81ee65f",
   "metadata": {},
   "outputs": [
    {
     "name": "stdout",
     "output_type": "stream",
     "text": [
      "<class 'pandas.core.frame.DataFrame'>\n",
      "RangeIndex: 74646 entries, 0 to 74645\n",
      "Data columns (total 6 columns):\n",
      " #   Column        Non-Null Count  Dtype \n",
      "---  ------        --------------  ----- \n",
      " 0   Device_Id     74646 non-null  int64 \n",
      " 1   Gender        74646 non-null  object\n",
      " 2   Age           74646 non-null  int64 \n",
      " 3   Age Group     74646 non-null  object\n",
      " 4   Phone Brand   74646 non-null  object\n",
      " 5   Device Model  74646 non-null  object\n",
      "dtypes: int64(2), object(4)\n",
      "memory usage: 3.4+ MB\n"
     ]
    }
   ],
   "source": [
    "df_non_event.info()"
   ]
  },
  {
   "cell_type": "code",
   "execution_count": 24,
   "id": "c8c5411e",
   "metadata": {},
   "outputs": [
    {
     "data": {
      "text/html": [
       "<div>\n",
       "<style scoped>\n",
       "    .dataframe tbody tr th:only-of-type {\n",
       "        vertical-align: middle;\n",
       "    }\n",
       "\n",
       "    .dataframe tbody tr th {\n",
       "        vertical-align: top;\n",
       "    }\n",
       "\n",
       "    .dataframe thead th {\n",
       "        text-align: right;\n",
       "    }\n",
       "</style>\n",
       "<table border=\"1\" class=\"dataframe\">\n",
       "  <thead>\n",
       "    <tr style=\"text-align: right;\">\n",
       "      <th></th>\n",
       "      <th>Device_Id</th>\n",
       "      <th>Age</th>\n",
       "    </tr>\n",
       "  </thead>\n",
       "  <tbody>\n",
       "    <tr>\n",
       "      <th>count</th>\n",
       "      <td>7.464600e+04</td>\n",
       "      <td>74646.000000</td>\n",
       "    </tr>\n",
       "    <tr>\n",
       "      <th>mean</th>\n",
       "      <td>-6.788546e+14</td>\n",
       "      <td>31.410163</td>\n",
       "    </tr>\n",
       "    <tr>\n",
       "      <th>std</th>\n",
       "      <td>5.327149e+18</td>\n",
       "      <td>9.868791</td>\n",
       "    </tr>\n",
       "    <tr>\n",
       "      <th>min</th>\n",
       "      <td>-9.223067e+18</td>\n",
       "      <td>1.000000</td>\n",
       "    </tr>\n",
       "    <tr>\n",
       "      <th>25%</th>\n",
       "      <td>-4.617358e+18</td>\n",
       "      <td>25.000000</td>\n",
       "    </tr>\n",
       "    <tr>\n",
       "      <th>50%</th>\n",
       "      <td>-1.837725e+16</td>\n",
       "      <td>29.000000</td>\n",
       "    </tr>\n",
       "    <tr>\n",
       "      <th>75%</th>\n",
       "      <td>4.637026e+18</td>\n",
       "      <td>36.000000</td>\n",
       "    </tr>\n",
       "    <tr>\n",
       "      <th>max</th>\n",
       "      <td>9.222849e+18</td>\n",
       "      <td>96.000000</td>\n",
       "    </tr>\n",
       "  </tbody>\n",
       "</table>\n",
       "</div>"
      ],
      "text/plain": [
       "          Device_Id           Age\n",
       "count  7.464600e+04  74646.000000\n",
       "mean  -6.788546e+14     31.410163\n",
       "std    5.327149e+18      9.868791\n",
       "min   -9.223067e+18      1.000000\n",
       "25%   -4.617358e+18     25.000000\n",
       "50%   -1.837725e+16     29.000000\n",
       "75%    4.637026e+18     36.000000\n",
       "max    9.222849e+18     96.000000"
      ]
     },
     "execution_count": 24,
     "metadata": {},
     "output_type": "execute_result"
    }
   ],
   "source": [
    "df_non_event.describe()"
   ]
  },
  {
   "cell_type": "code",
   "execution_count": 25,
   "id": "61dcf9ec",
   "metadata": {},
   "outputs": [
    {
     "data": {
      "text/plain": [
       "Device_Id       5\n",
       "Gender          5\n",
       "Age             5\n",
       "Age Group       5\n",
       "Phone Brand     5\n",
       "Device Model    5\n",
       "dtype: int64"
      ]
     },
     "execution_count": 25,
     "metadata": {},
     "output_type": "execute_result"
    }
   ],
   "source": [
    "# Min Age =1 ??!!  Seems wierd. \n",
    "# Lets check for number of rows with age <8 (After 8, a human can use the apps with a pattern and understanding) \n",
    "df_non_event[df_non_event.Age<8].count()"
   ]
  },
  {
   "cell_type": "code",
   "execution_count": 26,
   "id": "c574b7e3",
   "metadata": {},
   "outputs": [
    {
     "data": {
      "text/plain": [
       "Device_Id       0\n",
       "Gender          0\n",
       "Age             0\n",
       "Age Group       0\n",
       "Phone Brand     0\n",
       "Device Model    0\n",
       "dtype: int64"
      ]
     },
     "execution_count": 26,
     "metadata": {},
     "output_type": "execute_result"
    }
   ],
   "source": [
    "#So we have 5 rows with Age < 8. Lets remove them as it doesn't seem that for Age<8 the data would make any sense\n",
    "\n",
    "df_non_event = df_non_event[-(df_non_event.Age<8)]\n",
    "df_non_event[df_non_event.Age<8].count()"
   ]
  },
  {
   "cell_type": "code",
   "execution_count": 27,
   "id": "4c946052",
   "metadata": {
    "scrolled": true
   },
   "outputs": [
    {
     "data": {
      "text/plain": [
       "M25-32    19837\n",
       "M32+      16284\n",
       "M0-24     11779\n",
       "F25-32    10716\n",
       "F32+       9755\n",
       "F0-24      6270\n",
       "Name: Age Group, dtype: int64"
      ]
     },
     "execution_count": 27,
     "metadata": {},
     "output_type": "execute_result"
    }
   ],
   "source": [
    "df_non_event['Age Group'].value_counts()"
   ]
  },
  {
   "cell_type": "code",
   "execution_count": 28,
   "id": "c484627d",
   "metadata": {},
   "outputs": [
    {
     "data": {
      "text/plain": [
       "M    47900\n",
       "F    26741\n",
       "Name: Gender, dtype: int64"
      ]
     },
     "execution_count": 28,
     "metadata": {},
     "output_type": "execute_result"
    }
   ],
   "source": [
    "df_non_event['Gender'].value_counts()"
   ]
  },
  {
   "cell_type": "code",
   "execution_count": 29,
   "id": "f1213962",
   "metadata": {},
   "outputs": [
    {
     "data": {
      "text/plain": [
       "Xiaomi     17300\n",
       "samsung    13668\n",
       "Huawei     12960\n",
       "OPPO        5783\n",
       "vivo        5637\n",
       "           ...  \n",
       "fs             1\n",
       "pner           1\n",
       "MIL            1\n",
       "Ctyon          1\n",
       "mole           1\n",
       "Name: Phone Brand, Length: 97, dtype: int64"
      ]
     },
     "execution_count": 29,
     "metadata": {},
     "output_type": "execute_result"
    }
   ],
   "source": [
    "df_non_event['Phone Brand'].value_counts()"
   ]
  },
  {
   "cell_type": "code",
   "execution_count": 30,
   "id": "03090caa",
   "metadata": {},
   "outputs": [
    {
     "data": {
      "text/plain": [
       "xnote                 3013\n",
       "MI 3                  2299\n",
       "MI 2S                 2136\n",
       "Galaxy Note 3         2065\n",
       "MI 4                  1910\n",
       "                      ... \n",
       "MediaPad 10 Link+?       1\n",
       "a1234C                   1\n",
       "S90-e                    1\n",
       "F8909                    1\n",
       "A238t                    1\n",
       "Name: Device Model, Length: 1438, dtype: int64"
      ]
     },
     "execution_count": 30,
     "metadata": {},
     "output_type": "execute_result"
    }
   ],
   "source": [
    "df_non_event['Device Model'].value_counts()"
   ]
  },
  {
   "cell_type": "markdown",
   "id": "350b4563",
   "metadata": {},
   "source": [
    "Now our data looks good. Lets move ahead"
   ]
  },
  {
   "cell_type": "markdown",
   "id": "fecacae2",
   "metadata": {},
   "source": [
    "# Basic EDA and Visualization and Feature Engineering Ideas"
   ]
  },
  {
   "cell_type": "markdown",
   "id": "33fd9da6",
   "metadata": {},
   "source": [
    "Plot appropriate graphs representing the distribution of age and gender in the data set [univariate]."
   ]
  },
  {
   "cell_type": "code",
   "execution_count": 31,
   "id": "6b6fff1f",
   "metadata": {},
   "outputs": [
    {
     "data": {
      "text/plain": [
       "<matplotlib.axes._subplots.AxesSubplot at 0x7fb3eae24850>"
      ]
     },
     "execution_count": 31,
     "metadata": {},
     "output_type": "execute_result"
    },
    {
     "data": {
      "image/png": "[encoded data removed]",
      "text/plain": [
       "<Figure size 432x288 with 1 Axes>"
      ]
     },
     "metadata": {
      "needs_background": "light"
     },
     "output_type": "display_data"
    }
   ],
   "source": [
    "# Considering gender from both event and non event data\n",
    "\n",
    "gender_distribution = df_non_event.Gender.value_counts() + df_event.Gender.value_counts() \n",
    "gender_distribution.plot(kind='bar')"
   ]
  },
  {
   "cell_type": "code",
   "execution_count": 32,
   "id": "82283e80",
   "metadata": {},
   "outputs": [
    {
     "data": {
      "text/plain": [
       "<matplotlib.axes._subplots.AxesSubplot at 0x7fb4ef596110>"
      ]
     },
     "execution_count": 32,
     "metadata": {},
     "output_type": "execute_result"
    },
    {
     "data": {
      "image/png": "[encoded data removed]",
      "text/plain": [
       "<Figure size 432x288 with 1 Axes>"
      ]
     },
     "metadata": {
      "needs_background": "light"
     },
     "output_type": "display_data"
    }
   ],
   "source": [
    "age_dist = pd.concat([df_event['Age'],df_non_event['Age']],axis=0)\n",
    "age_dist.plot(kind='hist')"
   ]
  },
  {
   "cell_type": "markdown",
   "id": "0659686a",
   "metadata": {},
   "source": [
    "Boxplot analysis for gender and age [bivariate]."
   ]
  },
  {
   "cell_type": "code",
   "execution_count": 33,
   "id": "417bb129",
   "metadata": {},
   "outputs": [
    {
     "data": {
      "text/plain": [
       "<matplotlib.axes._subplots.AxesSubplot at 0x7fb33a59f050>"
      ]
     },
     "execution_count": 33,
     "metadata": {},
     "output_type": "execute_result"
    },
    {
     "data": {
      "image/png": "[encoded data removed]",
      "text/plain": [
       "<Figure size 432x288 with 1 Axes>"
      ]
     },
     "metadata": {
      "needs_background": "light"
     },
     "output_type": "display_data"
    }
   ],
   "source": [
    "gender_age_dist = pd.concat([df_event[['Age','Gender']],df_non_event[['Age','Gender']]],axis=0)\n",
    "gender_age_dist.plot(kind='box')"
   ]
  },
  {
   "cell_type": "markdown",
   "id": "511d5d75",
   "metadata": {},
   "source": [
    "Plot the percentage of the device_ids with and without event data. "
   ]
  },
  {
   "cell_type": "code",
   "execution_count": 34,
   "id": "e767053f",
   "metadata": {},
   "outputs": [
    {
     "data": {
      "image/png": "[encoded data removed]",
      "text/plain": [
       "<Figure size 432x288 with 1 Axes>"
      ]
     },
     "metadata": {
      "needs_background": "light"
     },
     "output_type": "display_data"
    }
   ],
   "source": [
    "#With Event Data\n",
    "\n",
    "total_count =df_event.shape[0] + df_non_event.shape[0]\n",
    "\n",
    "dict_percentage = {'event percentage': float(df_event.shape[0]*100/total_count), 'non_event percentage': float(df_non_event.shape[0]*100/total_count)}\n",
    "\n",
    "plt.bar(range(len(dict_percentage)), list(dict_percentage.values()), align='center')\n",
    "plt.xticks(range(len(dict_percentage)), list(dict_percentage.keys()))\n",
    "\n",
    "plt.show()\n"
   ]
  },
  {
   "cell_type": "markdown",
   "id": "b5a90252",
   "metadata": {},
   "source": [
    "Plot a graph representing the distribution of events over different days of a week. "
   ]
  },
  {
   "cell_type": "code",
   "execution_count": 35,
   "id": "b313b96d",
   "metadata": {},
   "outputs": [
    {
     "data": {
      "text/plain": [
       "<matplotlib.axes._subplots.AxesSubplot at 0x7fb33a5d76d0>"
      ]
     },
     "execution_count": 35,
     "metadata": {},
     "output_type": "execute_result"
    },
    {
     "data": {
      "image/png": "[encoded data removed]",
      "text/plain": [
       "<Figure size 1440x360 with 1 Axes>"
      ]
     },
     "metadata": {
      "needs_background": "light"
     },
     "output_type": "display_data"
    }
   ],
   "source": [
    "week_event_data = df_event['Event_Time_Stamp'].dt.dayofweek\n",
    "week_event_data.value_counts().sort_index().plot(kind='bar',figsize=(20,5))"
   ]
  },
  {
   "cell_type": "code",
   "execution_count": 36,
   "id": "87303fe1",
   "metadata": {},
   "outputs": [],
   "source": [
    "#There is some variations we see over here. (On Graph its not much, but the scale pf y axis is high)\n",
    "# So lets create a column in df_event for this\n",
    "\n",
    "df_event['Day Of Week'] = df_event['Event_Time_Stamp'].dt.dayofweek\n"
   ]
  },
  {
   "cell_type": "markdown",
   "id": "1b6efe23",
   "metadata": {},
   "source": [
    "Plot a graph representing the distribution of events per hour [for one-week data]."
   ]
  },
  {
   "cell_type": "code",
   "execution_count": 37,
   "id": "aa4f48b9",
   "metadata": {},
   "outputs": [
    {
     "name": "stderr",
     "output_type": "stream",
     "text": [
      "/Users/chiraggodawat/opt/anaconda3/envs/python_3.7/lib/python3.7/site-packages/ipykernel_launcher.py:2: FutureWarning: Series.dt.weekofyear and Series.dt.week have been deprecated.  Please use Series.dt.isocalendar().week instead.\n",
      "  \n"
     ]
    },
    {
     "data": {
      "text/plain": [
       "18    751215\n",
       "17    117842\n",
       "Name: Event_Time_Stamp, dtype: int64"
      ]
     },
     "execution_count": 37,
     "metadata": {},
     "output_type": "execute_result"
    }
   ],
   "source": [
    "#Identifying week of year, to select one particular week\n",
    "df_event['Event_Time_Stamp'].dt.weekofyear.value_counts()"
   ]
  },
  {
   "cell_type": "code",
   "execution_count": 38,
   "id": "04bcab4b",
   "metadata": {},
   "outputs": [
    {
     "name": "stderr",
     "output_type": "stream",
     "text": [
      "/Users/chiraggodawat/opt/anaconda3/envs/python_3.7/lib/python3.7/site-packages/ipykernel_launcher.py:1: FutureWarning: Series.dt.weekofyear and Series.dt.week have been deprecated.  Please use Series.dt.isocalendar().week instead.\n",
      "  \"\"\"Entry point for launching an IPython kernel.\n"
     ]
    },
    {
     "data": {
      "text/plain": [
       "<matplotlib.axes._subplots.AxesSubplot at 0x7fb3c8e22390>"
      ]
     },
     "execution_count": 38,
     "metadata": {},
     "output_type": "execute_result"
    },
    {
     "data": {
      "image/png": "[encoded data removed]",
      "text/plain": [
       "<Figure size 1440x360 with 1 Axes>"
      ]
     },
     "metadata": {
      "needs_background": "light"
     },
     "output_type": "display_data"
    }
   ],
   "source": [
    "hour_event_data = df_event[df_event['Event_Time_Stamp'].dt.weekofyear==18]['Event_Time_Stamp'].dt.hour\n",
    "hour_event_data.value_counts().sort_index().plot(kind='bar',figsize=(20,5))"
   ]
  },
  {
   "cell_type": "code",
   "execution_count": 39,
   "id": "d50d60e1",
   "metadata": {},
   "outputs": [
    {
     "data": {
      "text/html": [
       "<div>\n",
       "<style scoped>\n",
       "    .dataframe tbody tr th:only-of-type {\n",
       "        vertical-align: middle;\n",
       "    }\n",
       "\n",
       "    .dataframe tbody tr th {\n",
       "        vertical-align: top;\n",
       "    }\n",
       "\n",
       "    .dataframe thead th {\n",
       "        text-align: right;\n",
       "    }\n",
       "</style>\n",
       "<table border=\"1\" class=\"dataframe\">\n",
       "  <thead>\n",
       "    <tr style=\"text-align: right;\">\n",
       "      <th></th>\n",
       "      <th>Device_Id</th>\n",
       "      <th>Gender</th>\n",
       "      <th>Age</th>\n",
       "      <th>Age Group</th>\n",
       "      <th>Event_ID</th>\n",
       "      <th>Event_Time_Stamp</th>\n",
       "      <th>Long</th>\n",
       "      <th>Lat</th>\n",
       "      <th>Day Of Week</th>\n",
       "      <th>Hour</th>\n",
       "    </tr>\n",
       "  </thead>\n",
       "  <tbody>\n",
       "    <tr>\n",
       "      <th>0</th>\n",
       "      <td>-7548291590301750000</td>\n",
       "      <td>M</td>\n",
       "      <td>33</td>\n",
       "      <td>M32+</td>\n",
       "      <td>414</td>\n",
       "      <td>2016-05-03 00:05:31</td>\n",
       "      <td>116.79</td>\n",
       "      <td>33.98</td>\n",
       "      <td>1</td>\n",
       "      <td>0</td>\n",
       "    </tr>\n",
       "    <tr>\n",
       "      <th>1</th>\n",
       "      <td>-7548291590301750000</td>\n",
       "      <td>M</td>\n",
       "      <td>33</td>\n",
       "      <td>M32+</td>\n",
       "      <td>2604805</td>\n",
       "      <td>2016-05-04 03:01:32</td>\n",
       "      <td>116.79</td>\n",
       "      <td>33.98</td>\n",
       "      <td>2</td>\n",
       "      <td>3</td>\n",
       "    </tr>\n",
       "    <tr>\n",
       "      <th>2</th>\n",
       "      <td>-7548291590301750000</td>\n",
       "      <td>M</td>\n",
       "      <td>33</td>\n",
       "      <td>M32+</td>\n",
       "      <td>2588911</td>\n",
       "      <td>2016-05-03 16:14:14</td>\n",
       "      <td>116.79</td>\n",
       "      <td>33.98</td>\n",
       "      <td>1</td>\n",
       "      <td>16</td>\n",
       "    </tr>\n",
       "    <tr>\n",
       "      <th>3</th>\n",
       "      <td>-7548291590301750000</td>\n",
       "      <td>M</td>\n",
       "      <td>33</td>\n",
       "      <td>M32+</td>\n",
       "      <td>2586055</td>\n",
       "      <td>2016-05-02 14:36:04</td>\n",
       "      <td>116.79</td>\n",
       "      <td>33.98</td>\n",
       "      <td>0</td>\n",
       "      <td>14</td>\n",
       "    </tr>\n",
       "    <tr>\n",
       "      <th>4</th>\n",
       "      <td>-7548291590301750000</td>\n",
       "      <td>M</td>\n",
       "      <td>33</td>\n",
       "      <td>M32+</td>\n",
       "      <td>2560938</td>\n",
       "      <td>2016-05-02 18:01:00</td>\n",
       "      <td>116.79</td>\n",
       "      <td>33.98</td>\n",
       "      <td>0</td>\n",
       "      <td>18</td>\n",
       "    </tr>\n",
       "  </tbody>\n",
       "</table>\n",
       "</div>"
      ],
      "text/plain": [
       "             Device_Id Gender  Age Age Group Event_ID    Event_Time_Stamp  \\\n",
       "0 -7548291590301750000      M   33      M32+      414 2016-05-03 00:05:31   \n",
       "1 -7548291590301750000      M   33      M32+  2604805 2016-05-04 03:01:32   \n",
       "2 -7548291590301750000      M   33      M32+  2588911 2016-05-03 16:14:14   \n",
       "3 -7548291590301750000      M   33      M32+  2586055 2016-05-02 14:36:04   \n",
       "4 -7548291590301750000      M   33      M32+  2560938 2016-05-02 18:01:00   \n",
       "\n",
       "     Long    Lat  Day Of Week  Hour  \n",
       "0  116.79  33.98            1     0  \n",
       "1  116.79  33.98            2     3  \n",
       "2  116.79  33.98            1    16  \n",
       "3  116.79  33.98            0    14  \n",
       "4  116.79  33.98            0    18  "
      ]
     },
     "execution_count": 39,
     "metadata": {},
     "output_type": "execute_result"
    }
   ],
   "source": [
    "#Clearly there is a pattern in activity based on hour.\n",
    "#So lets add this as a coulmn in our data set\n",
    "\n",
    "df_event['Hour'] = df_event['Event_Time_Stamp'].dt.hour   #converting all time stamps to hours (Not only for one week)\n",
    "df_event.head()"
   ]
  },
  {
   "cell_type": "markdown",
   "id": "ee49552f",
   "metadata": {},
   "source": [
    "The difference in the distribution of events per hour for Male and Female consumers. [Show the difference using an appropriate chart for one-week data.]"
   ]
  },
  {
   "cell_type": "code",
   "execution_count": 40,
   "id": "db1b62ab",
   "metadata": {},
   "outputs": [
    {
     "name": "stderr",
     "output_type": "stream",
     "text": [
      "/Users/chiraggodawat/opt/anaconda3/envs/python_3.7/lib/python3.7/site-packages/ipykernel_launcher.py:4: FutureWarning: Series.dt.weekofyear and Series.dt.week have been deprecated.  Please use Series.dt.isocalendar().week instead.\n",
      "  after removing the cwd from sys.path.\n"
     ]
    },
    {
     "data": {
      "text/plain": [
       "<matplotlib.axes._subplots.AxesSubplot at 0x7fb3787adbd0>"
      ]
     },
     "execution_count": 40,
     "metadata": {},
     "output_type": "execute_result"
    },
    {
     "data": {
      "image/png": "[encoded data removed]",
      "text/plain": [
       "<Figure size 1440x360 with 1 Axes>"
      ]
     },
     "metadata": {
      "needs_background": "light"
     },
     "output_type": "display_data"
    }
   ],
   "source": [
    "hour_range = range(0,23)\n",
    "\n",
    "#Creating dummy df of 1 week (week no 18)\n",
    "df_event_dummy = df_event[df_event['Event_Time_Stamp'].dt.weekofyear==18]\n",
    "\n",
    "\n",
    "hour_male_data = df_event_dummy[df_event_dummy.Gender=='M']['Event_Time_Stamp'].dt.hour.value_counts()\n",
    "\n",
    "hour_female_data = df_event_dummy[df_event_dummy.Gender=='F']['Event_Time_Stamp'].dt.hour.value_counts()\n",
    "\n",
    "combined_df = pd.DataFrame({'Male':hour_male_data, 'Female':hour_female_data}, index=hour_range)\n",
    "\n",
    "combined_df.plot(kind='bar',figsize=(20,5))\n"
   ]
  },
  {
   "cell_type": "markdown",
   "id": "0151c690",
   "metadata": {},
   "source": [
    "Is there any difference in the distribution of Events for different Age Groups over different days of the week? [Consider the following age groups: 0–24, 25–32, 33–45, and 46+]"
   ]
  },
  {
   "cell_type": "code",
   "execution_count": 41,
   "id": "0c6be944",
   "metadata": {},
   "outputs": [
    {
     "data": {
      "image/png": "[encoded data removed]",
      "text/plain": [
       "<Figure size 432x288 with 1 Axes>"
      ]
     },
     "metadata": {
      "needs_background": "light"
     },
     "output_type": "display_data"
    }
   ],
   "source": [
    "dummy_dict = {'0-24': df_event[(df_event['Age']<=24)].shape[0],\n",
    "             '25-32': df_event[(df_event['Age']>24)& (df_event['Age']<=32)].shape[0],\n",
    "             '33-45': df_event[(df_event['Age']>32)& (df_event['Age']<=45)].shape[0],\n",
    "             '46+':df_event[(df_event['Age']>45)].shape[0]}\n",
    "plt.bar(dummy_dict.keys(), dummy_dict.values())\n",
    "plt.show()"
   ]
  },
  {
   "cell_type": "markdown",
   "id": "de226564",
   "metadata": {},
   "source": [
    "Stacked bar chart for the top 10 mobile brands across male and female consumers."
   ]
  },
  {
   "cell_type": "code",
   "execution_count": 42,
   "id": "bbbe3713",
   "metadata": {},
   "outputs": [
    {
     "data": {
      "text/plain": [
       "<matplotlib.axes._subplots.AxesSubplot at 0x7fb3d9f00bd0>"
      ]
     },
     "execution_count": 42,
     "metadata": {},
     "output_type": "execute_result"
    },
    {
     "data": {
      "image/png": "[encoded data removed]",
      "text/plain": [
       "<Figure size 432x288 with 1 Axes>"
      ]
     },
     "metadata": {
      "needs_background": "light"
     },
     "output_type": "display_data"
    }
   ],
   "source": [
    "stacked_data = df_non_event['Phone Brand'].value_counts()[:10] # Top 10 brands\n",
    "\n",
    "\n",
    "stacked_df = df_non_event.loc[(df_non_event['Phone Brand'].isin(list(stacked_data.index)))][['Gender','Phone Brand']].groupby(['Phone Brand','Gender'])['Gender'].count()\n",
    "\n",
    "stacked_df = stacked_df.unstack(level=1)\n",
    "\n",
    "stacked_df.plot(kind='bar', stacked=True)"
   ]
  },
  {
   "cell_type": "code",
   "execution_count": 43,
   "id": "f4b77a83",
   "metadata": {},
   "outputs": [],
   "source": [
    "# As there is a clear pattern in this. So Lets create a flag which tells wether phone brand is in top 10 or not\n",
    "\n",
    "def create_top_phone_brand_flag(row):\n",
    "    if row['Phone Brand'] in list(stacked_data.index):\n",
    "        return 1\n",
    "    else:\n",
    "        return 0"
   ]
  },
  {
   "cell_type": "code",
   "execution_count": 44,
   "id": "7c482437",
   "metadata": {},
   "outputs": [
    {
     "data": {
      "text/html": [
       "<div>\n",
       "<style scoped>\n",
       "    .dataframe tbody tr th:only-of-type {\n",
       "        vertical-align: middle;\n",
       "    }\n",
       "\n",
       "    .dataframe tbody tr th {\n",
       "        vertical-align: top;\n",
       "    }\n",
       "\n",
       "    .dataframe thead th {\n",
       "        text-align: right;\n",
       "    }\n",
       "</style>\n",
       "<table border=\"1\" class=\"dataframe\">\n",
       "  <thead>\n",
       "    <tr style=\"text-align: right;\">\n",
       "      <th></th>\n",
       "      <th>Device_Id</th>\n",
       "      <th>Gender</th>\n",
       "      <th>Age</th>\n",
       "      <th>Age Group</th>\n",
       "      <th>Phone Brand</th>\n",
       "      <th>Device Model</th>\n",
       "      <th>Is_Popular_Phone_Brand</th>\n",
       "    </tr>\n",
       "  </thead>\n",
       "  <tbody>\n",
       "    <tr>\n",
       "      <th>0</th>\n",
       "      <td>-7548291590301750000</td>\n",
       "      <td>M</td>\n",
       "      <td>33</td>\n",
       "      <td>M32+</td>\n",
       "      <td>Huawei</td>\n",
       "      <td>è£è€€3C</td>\n",
       "      <td>1</td>\n",
       "    </tr>\n",
       "    <tr>\n",
       "      <th>1</th>\n",
       "      <td>6943568600617760000</td>\n",
       "      <td>M</td>\n",
       "      <td>37</td>\n",
       "      <td>M32+</td>\n",
       "      <td>Xiaomi</td>\n",
       "      <td>xnote</td>\n",
       "      <td>1</td>\n",
       "    </tr>\n",
       "    <tr>\n",
       "      <th>2</th>\n",
       "      <td>5441349705980020000</td>\n",
       "      <td>M</td>\n",
       "      <td>40</td>\n",
       "      <td>M32+</td>\n",
       "      <td>OPPO</td>\n",
       "      <td>R7s</td>\n",
       "      <td>1</td>\n",
       "    </tr>\n",
       "    <tr>\n",
       "      <th>3</th>\n",
       "      <td>-5393876656119450000</td>\n",
       "      <td>M</td>\n",
       "      <td>33</td>\n",
       "      <td>M32+</td>\n",
       "      <td>Xiaomi</td>\n",
       "      <td>MI 4</td>\n",
       "      <td>1</td>\n",
       "    </tr>\n",
       "    <tr>\n",
       "      <th>4</th>\n",
       "      <td>4543988487649880000</td>\n",
       "      <td>M</td>\n",
       "      <td>53</td>\n",
       "      <td>M32+</td>\n",
       "      <td>samsung</td>\n",
       "      <td>Galaxy S4</td>\n",
       "      <td>1</td>\n",
       "    </tr>\n",
       "  </tbody>\n",
       "</table>\n",
       "</div>"
      ],
      "text/plain": [
       "             Device_Id Gender  Age Age Group Phone Brand Device Model  \\\n",
       "0 -7548291590301750000      M   33      M32+      Huawei     è£è€€3C   \n",
       "1  6943568600617760000      M   37      M32+      Xiaomi        xnote   \n",
       "2  5441349705980020000      M   40      M32+        OPPO          R7s   \n",
       "3 -5393876656119450000      M   33      M32+      Xiaomi         MI 4   \n",
       "4  4543988487649880000      M   53      M32+     samsung    Galaxy S4   \n",
       "\n",
       "   Is_Popular_Phone_Brand  \n",
       "0                       1  \n",
       "1                       1  \n",
       "2                       1  \n",
       "3                       1  \n",
       "4                       1  "
      ]
     },
     "execution_count": 44,
     "metadata": {},
     "output_type": "execute_result"
    }
   ],
   "source": [
    "df_non_event['Is_Popular_Phone_Brand'] = df_non_event.apply(create_top_phone_brand_flag,axis=1)\n",
    "df_non_event.head()"
   ]
  },
  {
   "cell_type": "markdown",
   "id": "8232a01f",
   "metadata": {},
   "source": [
    "Prepare a chart representing the ten frequently used applications and their respective male and female percentage."
   ]
  },
  {
   "cell_type": "code",
   "execution_count": 45,
   "id": "bd16b218",
   "metadata": {},
   "outputs": [],
   "source": [
    "df_app_filtered = df_app[df_app['Is_Active']==1] #Only taking data in which app is being used\n",
    "\n",
    "\n",
    "df_event_filtered = df_event[['Gender','Event_ID']] #creating to get gender and make a merge to get gender precentage\n",
    "\n",
    "df_event_filtered.columns = ['Gender','Event_Id']\n",
    "\n",
    "df_filtered_data = df_app_filtered.merge(df_event_filtered, on='Event_Id',how='left')\n",
    "\n",
    "df_filtered = df_filtered_data[-(df_filtered_data.isnull())]  #Removing Null value Rows after Merge"
   ]
  },
  {
   "cell_type": "code",
   "execution_count": 46,
   "id": "be2b85ed",
   "metadata": {},
   "outputs": [
    {
     "data": {
      "text/plain": [
       "Text(0, 0.5, 'Percentage')"
      ]
     },
     "execution_count": 46,
     "metadata": {},
     "output_type": "execute_result"
    },
    {
     "data": {
      "image/png": "[encoded data removed]",
      "text/plain": [
       "<Figure size 1440x360 with 1 Axes>"
      ]
     },
     "metadata": {
      "needs_background": "light"
     },
     "output_type": "display_data"
    }
   ],
   "source": [
    "top_app_ids = df_filtered['App_Id'].value_counts()[0:10]  # Top 10 App ID\n",
    "\n",
    "stacked_df = df_filtered.loc[(df_filtered['App_Id'].isin(list(top_app_ids.index)))][['Gender','App_Id']].groupby(['App_Id','Gender'])['Gender'].count()\n",
    "\n",
    "stacked_df = stacked_df.unstack(level=1)\n",
    "\n",
    "stacked_df['Total'] = stacked_df['M'] + stacked_df['F']\n",
    "\n",
    "stacked_df['Percentage_M'] = stacked_df['M']*100/stacked_df['Total'] \n",
    "stacked_df['Percentage_F'] = stacked_df['F']*100/stacked_df['Total'] \n",
    "\n",
    "stacked_df.drop(['M','F','Total'], axis='columns',inplace=True)\n",
    "\n",
    "bar_plot_percentage = stacked_df.plot(kind='bar',figsize=(20,5))\n",
    "\n",
    "bar_plot_percentage.set_ylabel('Percentage')"
   ]
  },
  {
   "cell_type": "markdown",
   "id": "52dcedc9",
   "metadata": {},
   "source": [
    "List the top 10 mobile phone brands bought by customers by age groups. [Consider the following age groups: 0–24, 25–32, 33–45, and 46+]"
   ]
  },
  {
   "cell_type": "code",
   "execution_count": 47,
   "id": "5345e426",
   "metadata": {},
   "outputs": [],
   "source": [
    "list_age_group = ['0-24','25-32','33-45','46+']\n",
    "\n",
    "def create_age_group(value):\n",
    "    if value['Age']<=24:\n",
    "        return list_age_group[0]\n",
    "    elif (value['Age']>24 and value['Age']<=32):\n",
    "        return list_age_group[1]\n",
    "    elif (value['Age']>32 and value['Age']<=45):\n",
    "        return list_age_group[2]\n",
    "    elif (value['Age']>45):\n",
    "        return list_age_group[3]"
   ]
  },
  {
   "cell_type": "code",
   "execution_count": 48,
   "id": "92b2957b",
   "metadata": {},
   "outputs": [
    {
     "name": "stderr",
     "output_type": "stream",
     "text": [
      "/Users/chiraggodawat/opt/anaconda3/envs/python_3.7/lib/python3.7/site-packages/ipykernel_launcher.py:3: SettingWithCopyWarning: \n",
      "A value is trying to be set on a copy of a slice from a DataFrame.\n",
      "Try using .loc[row_indexer,col_indexer] = value instead\n",
      "\n",
      "See the caveats in the documentation: https://pandas.pydata.org/pandas-docs/stable/user_guide/indexing.html#returning-a-view-versus-a-copy\n",
      "  This is separate from the ipykernel package so we can avoid doing imports until\n",
      "/Users/chiraggodawat/opt/anaconda3/envs/python_3.7/lib/python3.7/site-packages/pandas/core/frame.py:4913: SettingWithCopyWarning: \n",
      "A value is trying to be set on a copy of a slice from a DataFrame\n",
      "\n",
      "See the caveats in the documentation: https://pandas.pydata.org/pandas-docs/stable/user_guide/indexing.html#returning-a-view-versus-a-copy\n",
      "  errors=errors,\n"
     ]
    }
   ],
   "source": [
    "temp_df_non_event = df_non_event[['Age','Phone Brand']]\n",
    "\n",
    "temp_df_non_event['Age Group'] = temp_df_non_event.apply(create_age_group, axis=1)\n",
    "\n",
    "temp_df_non_event.drop(['Age'],inplace=True,axis='columns')\n",
    "\n",
    "temp_df = temp_df_non_event.groupby(['Age Group','Phone Brand'])['Phone Brand'].count()\n"
   ]
  },
  {
   "cell_type": "code",
   "execution_count": 49,
   "id": "4ea8c9a7",
   "metadata": {},
   "outputs": [
    {
     "name": "stdout",
     "output_type": "stream",
     "text": [
      "Age Group:  0-24\n",
      "Phone Brand\n",
      "Xiaomi     4229\n",
      "Huawei     2443\n",
      "samsung    2358\n",
      "vivo       1975\n",
      "OPPO       1856\n",
      "Meizu      1680\n",
      "Coolpad     808\n",
      "lenovo      612\n",
      "Gionee      328\n",
      "HTC         236\n",
      "Name: Phone Brand, dtype: int64\n",
      "\n",
      "\n",
      "Age Group:  25-32\n",
      "Phone Brand\n",
      "Xiaomi     7537\n",
      "samsung    5555\n",
      "Huawei     5100\n",
      "OPPO       2367\n",
      "vivo       2317\n",
      "Meizu      2052\n",
      "Coolpad    1208\n",
      "lenovo     1005\n",
      "HTC         436\n",
      "Gionee      400\n",
      "Name: Phone Brand, dtype: int64\n",
      "\n",
      "\n",
      "Age Group:  33-45\n",
      "Phone Brand\n",
      "samsung    4175\n",
      "Xiaomi     4000\n",
      "Huawei     3964\n",
      "OPPO       1183\n",
      "vivo       1013\n",
      "Coolpad     942\n",
      "lenovo      738\n",
      "Meizu       687\n",
      "Gionee      278\n",
      "HTC         251\n",
      "Name: Phone Brand, dtype: int64\n",
      "\n",
      "\n",
      "Age Group:  46+\n",
      "Phone Brand\n",
      "samsung    1580\n",
      "Xiaomi     1534\n",
      "Huawei     1453\n",
      "Coolpad     381\n",
      "OPPO        377\n",
      "lenovo      336\n",
      "vivo        332\n",
      "Meizu       276\n",
      "Gionee      117\n",
      "ZTE         115\n",
      "Name: Phone Brand, dtype: int64\n",
      "\n",
      "\n"
     ]
    }
   ],
   "source": [
    "for i in list_age_group:\n",
    "    print(\"Age Group: \", i )\n",
    "    print(temp_df[(i,)].sort_values(ascending=False)[:10]) # List of Top 10 brands for each group seperately\n",
    "    print(\"\\n\")"
   ]
  },
  {
   "cell_type": "code",
   "execution_count": 50,
   "id": "23543d00",
   "metadata": {},
   "outputs": [],
   "source": [
    "# As we have already created hours and weekof day columns in event_data, \n",
    "#lets remove the time stamp column as its not important now\n",
    "\n",
    "df_event.drop(['Event_Time_Stamp'],axis='columns', inplace=True)"
   ]
  },
  {
   "cell_type": "markdown",
   "id": "842eef0e",
   "metadata": {},
   "source": [
    "Lets visualize all our datasets once now"
   ]
  },
  {
   "cell_type": "code",
   "execution_count": 51,
   "id": "9e51ec36",
   "metadata": {},
   "outputs": [
    {
     "data": {
      "text/html": [
       "<div>\n",
       "<style scoped>\n",
       "    .dataframe tbody tr th:only-of-type {\n",
       "        vertical-align: middle;\n",
       "    }\n",
       "\n",
       "    .dataframe tbody tr th {\n",
       "        vertical-align: top;\n",
       "    }\n",
       "\n",
       "    .dataframe thead th {\n",
       "        text-align: right;\n",
       "    }\n",
       "</style>\n",
       "<table border=\"1\" class=\"dataframe\">\n",
       "  <thead>\n",
       "    <tr style=\"text-align: right;\">\n",
       "      <th></th>\n",
       "      <th>Device_Id</th>\n",
       "      <th>Gender</th>\n",
       "      <th>Age</th>\n",
       "      <th>Age Group</th>\n",
       "      <th>Event_ID</th>\n",
       "      <th>Long</th>\n",
       "      <th>Lat</th>\n",
       "      <th>Day Of Week</th>\n",
       "      <th>Hour</th>\n",
       "    </tr>\n",
       "  </thead>\n",
       "  <tbody>\n",
       "    <tr>\n",
       "      <th>0</th>\n",
       "      <td>-7548291590301750000</td>\n",
       "      <td>M</td>\n",
       "      <td>33</td>\n",
       "      <td>M32+</td>\n",
       "      <td>414</td>\n",
       "      <td>116.79</td>\n",
       "      <td>33.98</td>\n",
       "      <td>1</td>\n",
       "      <td>0</td>\n",
       "    </tr>\n",
       "    <tr>\n",
       "      <th>1</th>\n",
       "      <td>-7548291590301750000</td>\n",
       "      <td>M</td>\n",
       "      <td>33</td>\n",
       "      <td>M32+</td>\n",
       "      <td>2604805</td>\n",
       "      <td>116.79</td>\n",
       "      <td>33.98</td>\n",
       "      <td>2</td>\n",
       "      <td>3</td>\n",
       "    </tr>\n",
       "    <tr>\n",
       "      <th>2</th>\n",
       "      <td>-7548291590301750000</td>\n",
       "      <td>M</td>\n",
       "      <td>33</td>\n",
       "      <td>M32+</td>\n",
       "      <td>2588911</td>\n",
       "      <td>116.79</td>\n",
       "      <td>33.98</td>\n",
       "      <td>1</td>\n",
       "      <td>16</td>\n",
       "    </tr>\n",
       "    <tr>\n",
       "      <th>3</th>\n",
       "      <td>-7548291590301750000</td>\n",
       "      <td>M</td>\n",
       "      <td>33</td>\n",
       "      <td>M32+</td>\n",
       "      <td>2586055</td>\n",
       "      <td>116.79</td>\n",
       "      <td>33.98</td>\n",
       "      <td>0</td>\n",
       "      <td>14</td>\n",
       "    </tr>\n",
       "    <tr>\n",
       "      <th>4</th>\n",
       "      <td>-7548291590301750000</td>\n",
       "      <td>M</td>\n",
       "      <td>33</td>\n",
       "      <td>M32+</td>\n",
       "      <td>2560938</td>\n",
       "      <td>116.79</td>\n",
       "      <td>33.98</td>\n",
       "      <td>0</td>\n",
       "      <td>18</td>\n",
       "    </tr>\n",
       "  </tbody>\n",
       "</table>\n",
       "</div>"
      ],
      "text/plain": [
       "             Device_Id Gender  Age Age Group Event_ID    Long    Lat  \\\n",
       "0 -7548291590301750000      M   33      M32+      414  116.79  33.98   \n",
       "1 -7548291590301750000      M   33      M32+  2604805  116.79  33.98   \n",
       "2 -7548291590301750000      M   33      M32+  2588911  116.79  33.98   \n",
       "3 -7548291590301750000      M   33      M32+  2586055  116.79  33.98   \n",
       "4 -7548291590301750000      M   33      M32+  2560938  116.79  33.98   \n",
       "\n",
       "   Day Of Week  Hour  \n",
       "0            1     0  \n",
       "1            2     3  \n",
       "2            1    16  \n",
       "3            0    14  \n",
       "4            0    18  "
      ]
     },
     "execution_count": 51,
     "metadata": {},
     "output_type": "execute_result"
    }
   ],
   "source": [
    "df_event.head()"
   ]
  },
  {
   "cell_type": "code",
   "execution_count": 52,
   "id": "f2621f27",
   "metadata": {},
   "outputs": [
    {
     "data": {
      "text/html": [
       "<div>\n",
       "<style scoped>\n",
       "    .dataframe tbody tr th:only-of-type {\n",
       "        vertical-align: middle;\n",
       "    }\n",
       "\n",
       "    .dataframe tbody tr th {\n",
       "        vertical-align: top;\n",
       "    }\n",
       "\n",
       "    .dataframe thead th {\n",
       "        text-align: right;\n",
       "    }\n",
       "</style>\n",
       "<table border=\"1\" class=\"dataframe\">\n",
       "  <thead>\n",
       "    <tr style=\"text-align: right;\">\n",
       "      <th></th>\n",
       "      <th>Device_Id</th>\n",
       "      <th>Gender</th>\n",
       "      <th>Age</th>\n",
       "      <th>Age Group</th>\n",
       "      <th>Phone Brand</th>\n",
       "      <th>Device Model</th>\n",
       "      <th>Is_Popular_Phone_Brand</th>\n",
       "    </tr>\n",
       "  </thead>\n",
       "  <tbody>\n",
       "    <tr>\n",
       "      <th>0</th>\n",
       "      <td>-7548291590301750000</td>\n",
       "      <td>M</td>\n",
       "      <td>33</td>\n",
       "      <td>M32+</td>\n",
       "      <td>Huawei</td>\n",
       "      <td>è£è€€3C</td>\n",
       "      <td>1</td>\n",
       "    </tr>\n",
       "    <tr>\n",
       "      <th>1</th>\n",
       "      <td>6943568600617760000</td>\n",
       "      <td>M</td>\n",
       "      <td>37</td>\n",
       "      <td>M32+</td>\n",
       "      <td>Xiaomi</td>\n",
       "      <td>xnote</td>\n",
       "      <td>1</td>\n",
       "    </tr>\n",
       "    <tr>\n",
       "      <th>2</th>\n",
       "      <td>5441349705980020000</td>\n",
       "      <td>M</td>\n",
       "      <td>40</td>\n",
       "      <td>M32+</td>\n",
       "      <td>OPPO</td>\n",
       "      <td>R7s</td>\n",
       "      <td>1</td>\n",
       "    </tr>\n",
       "    <tr>\n",
       "      <th>3</th>\n",
       "      <td>-5393876656119450000</td>\n",
       "      <td>M</td>\n",
       "      <td>33</td>\n",
       "      <td>M32+</td>\n",
       "      <td>Xiaomi</td>\n",
       "      <td>MI 4</td>\n",
       "      <td>1</td>\n",
       "    </tr>\n",
       "    <tr>\n",
       "      <th>4</th>\n",
       "      <td>4543988487649880000</td>\n",
       "      <td>M</td>\n",
       "      <td>53</td>\n",
       "      <td>M32+</td>\n",
       "      <td>samsung</td>\n",
       "      <td>Galaxy S4</td>\n",
       "      <td>1</td>\n",
       "    </tr>\n",
       "  </tbody>\n",
       "</table>\n",
       "</div>"
      ],
      "text/plain": [
       "             Device_Id Gender  Age Age Group Phone Brand Device Model  \\\n",
       "0 -7548291590301750000      M   33      M32+      Huawei     è£è€€3C   \n",
       "1  6943568600617760000      M   37      M32+      Xiaomi        xnote   \n",
       "2  5441349705980020000      M   40      M32+        OPPO          R7s   \n",
       "3 -5393876656119450000      M   33      M32+      Xiaomi         MI 4   \n",
       "4  4543988487649880000      M   53      M32+     samsung    Galaxy S4   \n",
       "\n",
       "   Is_Popular_Phone_Brand  \n",
       "0                       1  \n",
       "1                       1  \n",
       "2                       1  \n",
       "3                       1  \n",
       "4                       1  "
      ]
     },
     "execution_count": 52,
     "metadata": {},
     "output_type": "execute_result"
    }
   ],
   "source": [
    "df_non_event.head()"
   ]
  },
  {
   "cell_type": "code",
   "execution_count": 53,
   "id": "54463781",
   "metadata": {},
   "outputs": [
    {
     "data": {
      "text/html": [
       "<div>\n",
       "<style scoped>\n",
       "    .dataframe tbody tr th:only-of-type {\n",
       "        vertical-align: middle;\n",
       "    }\n",
       "\n",
       "    .dataframe tbody tr th {\n",
       "        vertical-align: top;\n",
       "    }\n",
       "\n",
       "    .dataframe thead th {\n",
       "        text-align: right;\n",
       "    }\n",
       "</style>\n",
       "<table border=\"1\" class=\"dataframe\">\n",
       "  <thead>\n",
       "    <tr style=\"text-align: right;\">\n",
       "      <th></th>\n",
       "      <th>Event_Id</th>\n",
       "      <th>App_Id</th>\n",
       "      <th>Is_Installed</th>\n",
       "      <th>Is_Active</th>\n",
       "      <th>Label_Id</th>\n",
       "      <th>Label_Category</th>\n",
       "    </tr>\n",
       "  </thead>\n",
       "  <tbody>\n",
       "    <tr>\n",
       "      <th>0</th>\n",
       "      <td>2</td>\n",
       "      <td>5927333115845830913</td>\n",
       "      <td>1</td>\n",
       "      <td>1</td>\n",
       "      <td>549</td>\n",
       "      <td>Property Industry 1.0</td>\n",
       "    </tr>\n",
       "    <tr>\n",
       "      <th>1</th>\n",
       "      <td>2</td>\n",
       "      <td>5927333115845830913</td>\n",
       "      <td>1</td>\n",
       "      <td>1</td>\n",
       "      <td>172</td>\n",
       "      <td>IM</td>\n",
       "    </tr>\n",
       "    <tr>\n",
       "      <th>2</th>\n",
       "      <td>2</td>\n",
       "      <td>5927333115845830913</td>\n",
       "      <td>1</td>\n",
       "      <td>1</td>\n",
       "      <td>548</td>\n",
       "      <td>Industry tag</td>\n",
       "    </tr>\n",
       "    <tr>\n",
       "      <th>3</th>\n",
       "      <td>2</td>\n",
       "      <td>5927333115845830913</td>\n",
       "      <td>1</td>\n",
       "      <td>1</td>\n",
       "      <td>704</td>\n",
       "      <td>Property Industry 2.0</td>\n",
       "    </tr>\n",
       "    <tr>\n",
       "      <th>4</th>\n",
       "      <td>2</td>\n",
       "      <td>5927333115845830913</td>\n",
       "      <td>1</td>\n",
       "      <td>1</td>\n",
       "      <td>710</td>\n",
       "      <td>Relatives 1</td>\n",
       "    </tr>\n",
       "  </tbody>\n",
       "</table>\n",
       "</div>"
      ],
      "text/plain": [
       "   Event_Id               App_Id  Is_Installed  Is_Active  Label_Id  \\\n",
       "0         2  5927333115845830913             1          1       549   \n",
       "1         2  5927333115845830913             1          1       172   \n",
       "2         2  5927333115845830913             1          1       548   \n",
       "3         2  5927333115845830913             1          1       704   \n",
       "4         2  5927333115845830913             1          1       710   \n",
       "\n",
       "          Label_Category  \n",
       "0  Property Industry 1.0  \n",
       "1                     IM  \n",
       "2           Industry tag  \n",
       "3  Property Industry 2.0  \n",
       "4            Relatives 1  "
      ]
     },
     "execution_count": 53,
     "metadata": {},
     "output_type": "execute_result"
    }
   ],
   "source": [
    "df_app.head()"
   ]
  },
  {
   "cell_type": "markdown",
   "id": "57fa8ebc",
   "metadata": {},
   "source": [
    "# Advanced Visualization and Clustering"
   ]
  },
  {
   "cell_type": "markdown",
   "id": "6efe8ea4",
   "metadata": {},
   "source": [
    "### Geospatial Visualisation"
   ]
  },
  {
   "cell_type": "markdown",
   "id": "3122e270",
   "metadata": {},
   "source": [
    "Plot the visualisation plot for a sample of 1 lakh data points."
   ]
  },
  {
   "cell_type": "code",
   "execution_count": 54,
   "id": "a4dc496a",
   "metadata": {
    "scrolled": true
   },
   "outputs": [
    {
     "name": "stdout",
     "output_type": "stream",
     "text": [
      "<class 'pandas.core.frame.DataFrame'>\n",
      "Int64Index: 869057 entries, 0 to 1251632\n",
      "Data columns (total 9 columns):\n",
      " #   Column       Non-Null Count   Dtype \n",
      "---  ------       --------------   ----- \n",
      " 0   Device_Id    869057 non-null  int64 \n",
      " 1   Gender       869057 non-null  object\n",
      " 2   Age          869057 non-null  int64 \n",
      " 3   Age Group    869057 non-null  object\n",
      " 4   Event_ID     869057 non-null  object\n",
      " 5   Long         869057 non-null  object\n",
      " 6   Lat          869057 non-null  object\n",
      " 7   Day Of Week  869057 non-null  int64 \n",
      " 8   Hour         869057 non-null  int64 \n",
      "dtypes: int64(4), object(5)\n",
      "memory usage: 66.3+ MB\n"
     ]
    }
   ],
   "source": [
    "#df_event = df_event.sample(frac=1).reset_index(drop=True)  ## Shuffling the data\n",
    "\n",
    "df_event.info()"
   ]
  },
  {
   "cell_type": "code",
   "execution_count": 55,
   "id": "1d24ea43",
   "metadata": {},
   "outputs": [
    {
     "name": "stdout",
     "output_type": "stream",
     "text": [
      "<class 'pandas.core.frame.DataFrame'>\n",
      "Int64Index: 869057 entries, 0 to 1251632\n",
      "Data columns (total 9 columns):\n",
      " #   Column       Non-Null Count   Dtype  \n",
      "---  ------       --------------   -----  \n",
      " 0   Device_Id    869057 non-null  int64  \n",
      " 1   Gender       869057 non-null  object \n",
      " 2   Age          869057 non-null  int64  \n",
      " 3   Age Group    869057 non-null  object \n",
      " 4   Event_ID     869057 non-null  object \n",
      " 5   Long         869057 non-null  float64\n",
      " 6   Lat          869057 non-null  float64\n",
      " 7   Day Of Week  869057 non-null  int64  \n",
      " 8   Hour         869057 non-null  int64  \n",
      "dtypes: float64(2), int64(4), object(3)\n",
      "memory usage: 66.3+ MB\n"
     ]
    }
   ],
   "source": [
    "#Converting lat and longitude to int\n",
    "\n",
    "df_event['Lat'] = pd.to_numeric(df_event['Lat'])\n",
    "df_event['Long'] = pd.to_numeric(df_event['Long'])\n",
    "\n",
    "df_event.info()"
   ]
  },
  {
   "cell_type": "code",
   "execution_count": 56,
   "id": "ea1c9400",
   "metadata": {},
   "outputs": [
    {
     "name": "stderr",
     "output_type": "stream",
     "text": [
      "/Users/chiraggodawat/opt/anaconda3/envs/python_3.7/lib/python3.7/site-packages/ipykernel_launcher.py:12: MatplotlibDeprecationWarning: \n",
      "The dedent function was deprecated in Matplotlib 3.1 and will be removed in 3.3. Use inspect.cleandoc instead.\n",
      "  if sys.path[0] == '':\n",
      "/Users/chiraggodawat/opt/anaconda3/envs/python_3.7/lib/python3.7/site-packages/ipykernel_launcher.py:17: MatplotlibDeprecationWarning: \n",
      "The dedent function was deprecated in Matplotlib 3.1 and will be removed in 3.3. Use inspect.cleandoc instead.\n"
     ]
    },
    {
     "data": {
      "image/png": "[encoded data removed]",
      "text/plain": [
       "<Figure size 576x576 with 1 Axes>"
      ]
     },
     "metadata": {},
     "output_type": "display_data"
    }
   ],
   "source": [
    "vis_data = df_event[:100000] #Selecting 1 lakh data points\n",
    "\n",
    "fig = plt.figure(figsize=(8, 8))\n",
    "\n",
    "# Mercator of World\n",
    "m = Basemap(projection='merc',\n",
    "             llcrnrlat=-65,  #latitude of lower left hand corner of the desired map domain\n",
    "             urcrnrlat=85, #latitude of upper right hand corner of the desired map domain\n",
    "             llcrnrlon=-180,#longitude of lower left hand corner of the desired map domain\n",
    "             urcrnrlon=180, #longitude of upper right hand corner of the desired map domain\n",
    "             lat_ts=0, #latitude of true scale\n",
    "             resolution='c') #resolution of boundary dataset being used - c for crude\n",
    "\n",
    "\n",
    "m.fillcontinents(color='#292929',lake_color='#000000') # dark grey land, black lakes\n",
    "m.drawmapboundary(fill_color='#000000')                # black background\n",
    "m.drawcountries(linewidth=0.15, color=\"w\")              # thin white line for country borders\n",
    "\n",
    "# Plot the data\n",
    "mxy = m(vis_data[\"Long\"].tolist(), vis_data[\"Lat\"].tolist())\n",
    "m.scatter(mxy[0], mxy[1], s=5, c=\"y\", zorder=2)\n",
    "\n",
    "plt.title(\"World Map\")\n",
    "plt.show()"
   ]
  },
  {
   "cell_type": "markdown",
   "id": "31916b29",
   "metadata": {},
   "source": [
    "Compare the event visualisation plots based on the users' gender information. [This can be done on the sample of 1 lakh data points.]"
   ]
  },
  {
   "cell_type": "code",
   "execution_count": 57,
   "id": "c502e249",
   "metadata": {},
   "outputs": [
    {
     "name": "stderr",
     "output_type": "stream",
     "text": [
      "/Users/chiraggodawat/opt/anaconda3/envs/python_3.7/lib/python3.7/site-packages/ipykernel_launcher.py:14: MatplotlibDeprecationWarning: \n",
      "The dedent function was deprecated in Matplotlib 3.1 and will be removed in 3.3. Use inspect.cleandoc instead.\n",
      "  \n",
      "/Users/chiraggodawat/opt/anaconda3/envs/python_3.7/lib/python3.7/site-packages/ipykernel_launcher.py:19: MatplotlibDeprecationWarning: \n",
      "The dedent function was deprecated in Matplotlib 3.1 and will be removed in 3.3. Use inspect.cleandoc instead.\n"
     ]
    },
    {
     "data": {
      "image/png": "[encoded data removed]",
      "text/plain": [
       "<Figure size 1800x3600 with 1 Axes>"
      ]
     },
     "metadata": {},
     "output_type": "display_data"
    }
   ],
   "source": [
    "#As seen above most of the data is present in eastern side.\n",
    "\n",
    "#Hence increasing fig_size and adjusting diagram so that gender information is visible\n",
    "\n",
    "fig = plt.figure(figsize=(25, 50))\n",
    "\n",
    "# Mercator of World\n",
    "m = Basemap(projection='merc',\n",
    "             llcrnrlat=-50,  #latitude of lower left hand corner of the desired map domain\n",
    "             urcrnrlat=60, #latitude of upper right hand corner of the desired map domain\n",
    "             llcrnrlon=-20,#longitude of lower left hand corner of the desired map domain\n",
    "             urcrnrlon=180, #longitude of upper right hand corner of the desired map domain\n",
    "             lat_ts=0, #latitude of true scale\n",
    "             resolution='c') #resolution of boundary dataset being used - c for crude\n",
    "\n",
    "\n",
    "m.fillcontinents(color='#292929',lake_color='#000000') # dark grey land, black lakes\n",
    "m.drawmapboundary(fill_color='#000000')                # black background\n",
    "m.drawcountries(linewidth=0.15, color=\"w\")              # thin white line for country borders\n",
    "\n",
    "# Plot the data\n",
    "mxy_male = m(vis_data[vis_data['Gender']==\"M\"][\"Long\"].tolist(), vis_data[vis_data['Gender']==\"M\"][\"Lat\"].tolist())\n",
    "m.scatter(mxy_male[0], mxy_male[1], s=5, c=\"y\", zorder=2)\n",
    "\n",
    "\n",
    "mxy_female = m(vis_data[vis_data['Gender']==\"F\"][\"Long\"].tolist(), vis_data[vis_data['Gender']==\"F\"][\"Lat\"].tolist())\n",
    "m.scatter(mxy_female[0], mxy_female[1], s=5, c=\"m\", zorder=2)\n",
    "\n",
    "\n",
    "plt.title(\"World Map\")\n",
    "plt.show()"
   ]
  },
  {
   "cell_type": "markdown",
   "id": "3b146c5d",
   "metadata": {},
   "source": [
    "Compare the event visualisation plots based on the following age groups:\n",
    "\n",
    "0–24 \n",
    "\n",
    "25–32\n",
    "\n",
    "32+"
   ]
  },
  {
   "cell_type": "code",
   "execution_count": 58,
   "id": "8b6cfe71",
   "metadata": {},
   "outputs": [],
   "source": [
    "list_age_group = ['0-24','25-32','32+']\n",
    "\n",
    "def create_age_group_1(value):\n",
    "    if value['Age']<=24:\n",
    "        return list_age_group[0]\n",
    "    elif (value['Age']>24 and value['Age']<=32):\n",
    "        return list_age_group[1]\n",
    "    elif (value['Age']>32):\n",
    "        return list_age_group[2]\n"
   ]
  },
  {
   "cell_type": "code",
   "execution_count": 59,
   "id": "701485ca",
   "metadata": {},
   "outputs": [
    {
     "name": "stderr",
     "output_type": "stream",
     "text": [
      "/Users/chiraggodawat/opt/anaconda3/envs/python_3.7/lib/python3.7/site-packages/ipykernel_launcher.py:1: SettingWithCopyWarning: \n",
      "A value is trying to be set on a copy of a slice from a DataFrame.\n",
      "Try using .loc[row_indexer,col_indexer] = value instead\n",
      "\n",
      "See the caveats in the documentation: https://pandas.pydata.org/pandas-docs/stable/user_guide/indexing.html#returning-a-view-versus-a-copy\n",
      "  \"\"\"Entry point for launching an IPython kernel.\n"
     ]
    },
    {
     "data": {
      "text/html": [
       "<div>\n",
       "<style scoped>\n",
       "    .dataframe tbody tr th:only-of-type {\n",
       "        vertical-align: middle;\n",
       "    }\n",
       "\n",
       "    .dataframe tbody tr th {\n",
       "        vertical-align: top;\n",
       "    }\n",
       "\n",
       "    .dataframe thead th {\n",
       "        text-align: right;\n",
       "    }\n",
       "</style>\n",
       "<table border=\"1\" class=\"dataframe\">\n",
       "  <thead>\n",
       "    <tr style=\"text-align: right;\">\n",
       "      <th></th>\n",
       "      <th>Device_Id</th>\n",
       "      <th>Gender</th>\n",
       "      <th>Age</th>\n",
       "      <th>Age Group</th>\n",
       "      <th>Event_ID</th>\n",
       "      <th>Long</th>\n",
       "      <th>Lat</th>\n",
       "      <th>Day Of Week</th>\n",
       "      <th>Hour</th>\n",
       "      <th>Only Age Group</th>\n",
       "    </tr>\n",
       "  </thead>\n",
       "  <tbody>\n",
       "    <tr>\n",
       "      <th>0</th>\n",
       "      <td>-7548291590301750000</td>\n",
       "      <td>M</td>\n",
       "      <td>33</td>\n",
       "      <td>M32+</td>\n",
       "      <td>414</td>\n",
       "      <td>116.79</td>\n",
       "      <td>33.98</td>\n",
       "      <td>1</td>\n",
       "      <td>0</td>\n",
       "      <td>32+</td>\n",
       "    </tr>\n",
       "    <tr>\n",
       "      <th>1</th>\n",
       "      <td>-7548291590301750000</td>\n",
       "      <td>M</td>\n",
       "      <td>33</td>\n",
       "      <td>M32+</td>\n",
       "      <td>2604805</td>\n",
       "      <td>116.79</td>\n",
       "      <td>33.98</td>\n",
       "      <td>2</td>\n",
       "      <td>3</td>\n",
       "      <td>32+</td>\n",
       "    </tr>\n",
       "    <tr>\n",
       "      <th>2</th>\n",
       "      <td>-7548291590301750000</td>\n",
       "      <td>M</td>\n",
       "      <td>33</td>\n",
       "      <td>M32+</td>\n",
       "      <td>2588911</td>\n",
       "      <td>116.79</td>\n",
       "      <td>33.98</td>\n",
       "      <td>1</td>\n",
       "      <td>16</td>\n",
       "      <td>32+</td>\n",
       "    </tr>\n",
       "    <tr>\n",
       "      <th>3</th>\n",
       "      <td>-7548291590301750000</td>\n",
       "      <td>M</td>\n",
       "      <td>33</td>\n",
       "      <td>M32+</td>\n",
       "      <td>2586055</td>\n",
       "      <td>116.79</td>\n",
       "      <td>33.98</td>\n",
       "      <td>0</td>\n",
       "      <td>14</td>\n",
       "      <td>32+</td>\n",
       "    </tr>\n",
       "    <tr>\n",
       "      <th>4</th>\n",
       "      <td>-7548291590301750000</td>\n",
       "      <td>M</td>\n",
       "      <td>33</td>\n",
       "      <td>M32+</td>\n",
       "      <td>2560938</td>\n",
       "      <td>116.79</td>\n",
       "      <td>33.98</td>\n",
       "      <td>0</td>\n",
       "      <td>18</td>\n",
       "      <td>32+</td>\n",
       "    </tr>\n",
       "  </tbody>\n",
       "</table>\n",
       "</div>"
      ],
      "text/plain": [
       "             Device_Id Gender  Age Age Group Event_ID    Long    Lat  \\\n",
       "0 -7548291590301750000      M   33      M32+      414  116.79  33.98   \n",
       "1 -7548291590301750000      M   33      M32+  2604805  116.79  33.98   \n",
       "2 -7548291590301750000      M   33      M32+  2588911  116.79  33.98   \n",
       "3 -7548291590301750000      M   33      M32+  2586055  116.79  33.98   \n",
       "4 -7548291590301750000      M   33      M32+  2560938  116.79  33.98   \n",
       "\n",
       "   Day Of Week  Hour Only Age Group  \n",
       "0            1     0            32+  \n",
       "1            2     3            32+  \n",
       "2            1    16            32+  \n",
       "3            0    14            32+  \n",
       "4            0    18            32+  "
      ]
     },
     "execution_count": 59,
     "metadata": {},
     "output_type": "execute_result"
    }
   ],
   "source": [
    "vis_data['Only Age Group'] = vis_data.apply(create_age_group_1, axis=1)\n",
    "vis_data.head()"
   ]
  },
  {
   "cell_type": "code",
   "execution_count": 60,
   "id": "7740f795",
   "metadata": {},
   "outputs": [
    {
     "name": "stderr",
     "output_type": "stream",
     "text": [
      "/Users/chiraggodawat/opt/anaconda3/envs/python_3.7/lib/python3.7/site-packages/ipykernel_launcher.py:10: MatplotlibDeprecationWarning: \n",
      "The dedent function was deprecated in Matplotlib 3.1 and will be removed in 3.3. Use inspect.cleandoc instead.\n",
      "  # Remove the CWD from sys.path while we load stuff.\n",
      "/Users/chiraggodawat/opt/anaconda3/envs/python_3.7/lib/python3.7/site-packages/ipykernel_launcher.py:15: MatplotlibDeprecationWarning: \n",
      "The dedent function was deprecated in Matplotlib 3.1 and will be removed in 3.3. Use inspect.cleandoc instead.\n",
      "  from ipykernel import kernelapp as app\n"
     ]
    },
    {
     "data": {
      "image/png": "[encoded data removed]",
      "text/plain": [
       "<Figure size 1800x3600 with 1 Axes>"
      ]
     },
     "metadata": {},
     "output_type": "display_data"
    }
   ],
   "source": [
    "fig = plt.figure(figsize=(25, 50))\n",
    "\n",
    "# Mercator of World\n",
    "m = Basemap(projection='merc',\n",
    "             llcrnrlat=-50,  #latitude of lower left hand corner of the desired map domain\n",
    "             urcrnrlat=60, #latitude of upper right hand corner of the desired map domain\n",
    "             llcrnrlon=-20,#longitude of lower left hand corner of the desired map domain\n",
    "             urcrnrlon=180, #longitude of upper right hand corner of the desired map domain\n",
    "             lat_ts=0, #latitude of true scale\n",
    "             resolution='c') #resolution of boundary dataset being used - c for crude\n",
    "\n",
    "\n",
    "m.fillcontinents(color='#292929',lake_color='#000000') # dark grey land, black lakes\n",
    "m.drawmapboundary(fill_color='#000000')                # black background\n",
    "m.drawcountries(linewidth=0.15, color=\"w\")              # thin white line for country borders\n",
    "\n",
    "# Plot the data\n",
    "mxy_age_group_1 = m(vis_data[vis_data['Only Age Group']==\"0-24\"][\"Long\"].tolist(), vis_data[vis_data['Only Age Group']==\"0-24\"][\"Lat\"].tolist())\n",
    "m.scatter(mxy_age_group_1[0], mxy_age_group_1[1], s=5, c=\"r\", zorder=2)\n",
    "\n",
    "\n",
    "mxy_age_group_2 = m(vis_data[vis_data['Only Age Group']==\"25-32\"][\"Long\"].tolist(), vis_data[vis_data['Only Age Group']==\"25-32\"][\"Lat\"].tolist())\n",
    "m.scatter(mxy_age_group_2[0], mxy_age_group_2[1], s=5, c=\"g\", zorder=2)\n",
    "\n",
    "mxy_age_group_3 = m(vis_data[vis_data['Only Age Group']==\"32+\"][\"Long\"].tolist(), vis_data[vis_data['Only Age Group']==\"32+\"][\"Lat\"].tolist())\n",
    "m.scatter(mxy_age_group_3[0], mxy_age_group_3[1], s=5, c=\"b\", zorder=2)\n",
    "\n",
    "\n",
    "plt.title(\"World Map\")\n",
    "plt.show()"
   ]
  },
  {
   "cell_type": "markdown",
   "id": "d2811c9d",
   "metadata": {},
   "source": [
    "### DBSCAN Clustering as a preprocessing technique"
   ]
  },
  {
   "cell_type": "code",
   "execution_count": 61,
   "id": "0f20ac5b",
   "metadata": {},
   "outputs": [
    {
     "data": {
      "text/plain": [
       "(869057, 2)"
      ]
     },
     "execution_count": 61,
     "metadata": {},
     "output_type": "execute_result"
    }
   ],
   "source": [
    "coords = df_event[['Lat','Long']].values\n",
    "coords.shape"
   ]
  },
  {
   "cell_type": "code",
   "execution_count": 62,
   "id": "8a336648",
   "metadata": {},
   "outputs": [],
   "source": [
    "kms_per_radian = 6371.0088\n",
    "epsilon = 1/kms_per_radian\n",
    "db = DBSCAN(eps= epsilon, min_samples= 700, algorithm = 'ball_tree', metric = 'haversine').fit(np.radians(coords))"
   ]
  },
  {
   "cell_type": "code",
   "execution_count": 63,
   "id": "af4692c7",
   "metadata": {},
   "outputs": [
    {
     "name": "stdout",
     "output_type": "stream",
     "text": [
      "No. Of Clusters:  70\n"
     ]
    }
   ],
   "source": [
    "print(\"No. Of Clusters: \",len(set(db.labels_)))"
   ]
  },
  {
   "cell_type": "code",
   "execution_count": 64,
   "id": "28b5d2c2",
   "metadata": {},
   "outputs": [
    {
     "data": {
      "text/html": [
       "<div>\n",
       "<style scoped>\n",
       "    .dataframe tbody tr th:only-of-type {\n",
       "        vertical-align: middle;\n",
       "    }\n",
       "\n",
       "    .dataframe tbody tr th {\n",
       "        vertical-align: top;\n",
       "    }\n",
       "\n",
       "    .dataframe thead th {\n",
       "        text-align: right;\n",
       "    }\n",
       "</style>\n",
       "<table border=\"1\" class=\"dataframe\">\n",
       "  <thead>\n",
       "    <tr style=\"text-align: right;\">\n",
       "      <th></th>\n",
       "      <th>Device_Id</th>\n",
       "      <th>Gender</th>\n",
       "      <th>Age</th>\n",
       "      <th>Age Group</th>\n",
       "      <th>Event_ID</th>\n",
       "      <th>Long</th>\n",
       "      <th>Lat</th>\n",
       "      <th>Day Of Week</th>\n",
       "      <th>Hour</th>\n",
       "      <th>Cluster</th>\n",
       "    </tr>\n",
       "  </thead>\n",
       "  <tbody>\n",
       "    <tr>\n",
       "      <th>0</th>\n",
       "      <td>-7548291590301750000</td>\n",
       "      <td>M</td>\n",
       "      <td>33</td>\n",
       "      <td>M32+</td>\n",
       "      <td>414</td>\n",
       "      <td>116.79</td>\n",
       "      <td>33.98</td>\n",
       "      <td>1</td>\n",
       "      <td>0</td>\n",
       "      <td>-1</td>\n",
       "    </tr>\n",
       "    <tr>\n",
       "      <th>1</th>\n",
       "      <td>-7548291590301750000</td>\n",
       "      <td>M</td>\n",
       "      <td>33</td>\n",
       "      <td>M32+</td>\n",
       "      <td>2604805</td>\n",
       "      <td>116.79</td>\n",
       "      <td>33.98</td>\n",
       "      <td>2</td>\n",
       "      <td>3</td>\n",
       "      <td>-1</td>\n",
       "    </tr>\n",
       "    <tr>\n",
       "      <th>2</th>\n",
       "      <td>-7548291590301750000</td>\n",
       "      <td>M</td>\n",
       "      <td>33</td>\n",
       "      <td>M32+</td>\n",
       "      <td>2588911</td>\n",
       "      <td>116.79</td>\n",
       "      <td>33.98</td>\n",
       "      <td>1</td>\n",
       "      <td>16</td>\n",
       "      <td>-1</td>\n",
       "    </tr>\n",
       "    <tr>\n",
       "      <th>3</th>\n",
       "      <td>-7548291590301750000</td>\n",
       "      <td>M</td>\n",
       "      <td>33</td>\n",
       "      <td>M32+</td>\n",
       "      <td>2586055</td>\n",
       "      <td>116.79</td>\n",
       "      <td>33.98</td>\n",
       "      <td>0</td>\n",
       "      <td>14</td>\n",
       "      <td>-1</td>\n",
       "    </tr>\n",
       "    <tr>\n",
       "      <th>4</th>\n",
       "      <td>-7548291590301750000</td>\n",
       "      <td>M</td>\n",
       "      <td>33</td>\n",
       "      <td>M32+</td>\n",
       "      <td>2560938</td>\n",
       "      <td>116.79</td>\n",
       "      <td>33.98</td>\n",
       "      <td>0</td>\n",
       "      <td>18</td>\n",
       "      <td>-1</td>\n",
       "    </tr>\n",
       "  </tbody>\n",
       "</table>\n",
       "</div>"
      ],
      "text/plain": [
       "             Device_Id Gender  Age Age Group Event_ID    Long    Lat  \\\n",
       "0 -7548291590301750000      M   33      M32+      414  116.79  33.98   \n",
       "1 -7548291590301750000      M   33      M32+  2604805  116.79  33.98   \n",
       "2 -7548291590301750000      M   33      M32+  2588911  116.79  33.98   \n",
       "3 -7548291590301750000      M   33      M32+  2586055  116.79  33.98   \n",
       "4 -7548291590301750000      M   33      M32+  2560938  116.79  33.98   \n",
       "\n",
       "   Day Of Week  Hour  Cluster  \n",
       "0            1     0       -1  \n",
       "1            2     3       -1  \n",
       "2            1    16       -1  \n",
       "3            0    14       -1  \n",
       "4            0    18       -1  "
      ]
     },
     "execution_count": 64,
     "metadata": {},
     "output_type": "execute_result"
    }
   ],
   "source": [
    "df_event['Cluster'] = db.labels_\n",
    "df_event.head()"
   ]
  },
  {
   "cell_type": "markdown",
   "id": "e439a7dc",
   "metadata": {},
   "source": [
    "### Final Data Preparation and Train-Test Splitting"
   ]
  },
  {
   "cell_type": "code",
   "execution_count": 65,
   "id": "0bd4351c",
   "metadata": {},
   "outputs": [
    {
     "data": {
      "text/html": [
       "<div>\n",
       "<style scoped>\n",
       "    .dataframe tbody tr th:only-of-type {\n",
       "        vertical-align: middle;\n",
       "    }\n",
       "\n",
       "    .dataframe tbody tr th {\n",
       "        vertical-align: top;\n",
       "    }\n",
       "\n",
       "    .dataframe thead th {\n",
       "        text-align: right;\n",
       "    }\n",
       "</style>\n",
       "<table border=\"1\" class=\"dataframe\">\n",
       "  <thead>\n",
       "    <tr style=\"text-align: right;\">\n",
       "      <th></th>\n",
       "      <th>Device_Id</th>\n",
       "      <th>Gender</th>\n",
       "      <th>Age</th>\n",
       "      <th>Age Group</th>\n",
       "      <th>Event_Id</th>\n",
       "      <th>Long</th>\n",
       "      <th>Lat</th>\n",
       "      <th>Day Of Week</th>\n",
       "      <th>Hour</th>\n",
       "      <th>Cluster</th>\n",
       "      <th>App_Id</th>\n",
       "      <th>Is_Installed</th>\n",
       "      <th>Is_Active</th>\n",
       "      <th>Label_Id</th>\n",
       "      <th>Label_Category</th>\n",
       "    </tr>\n",
       "  </thead>\n",
       "  <tbody>\n",
       "    <tr>\n",
       "      <th>0</th>\n",
       "      <td>-7548291590301750000</td>\n",
       "      <td>M</td>\n",
       "      <td>33</td>\n",
       "      <td>M32+</td>\n",
       "      <td>414</td>\n",
       "      <td>116.79</td>\n",
       "      <td>33.98</td>\n",
       "      <td>1</td>\n",
       "      <td>0</td>\n",
       "      <td>-1</td>\n",
       "      <td>NaN</td>\n",
       "      <td>NaN</td>\n",
       "      <td>NaN</td>\n",
       "      <td>NaN</td>\n",
       "      <td>NaN</td>\n",
       "    </tr>\n",
       "    <tr>\n",
       "      <th>1</th>\n",
       "      <td>-7548291590301750000</td>\n",
       "      <td>M</td>\n",
       "      <td>33</td>\n",
       "      <td>M32+</td>\n",
       "      <td>2604805</td>\n",
       "      <td>116.79</td>\n",
       "      <td>33.98</td>\n",
       "      <td>2</td>\n",
       "      <td>3</td>\n",
       "      <td>-1</td>\n",
       "      <td>NaN</td>\n",
       "      <td>NaN</td>\n",
       "      <td>NaN</td>\n",
       "      <td>NaN</td>\n",
       "      <td>NaN</td>\n",
       "    </tr>\n",
       "    <tr>\n",
       "      <th>2</th>\n",
       "      <td>-7548291590301750000</td>\n",
       "      <td>M</td>\n",
       "      <td>33</td>\n",
       "      <td>M32+</td>\n",
       "      <td>2588911</td>\n",
       "      <td>116.79</td>\n",
       "      <td>33.98</td>\n",
       "      <td>1</td>\n",
       "      <td>16</td>\n",
       "      <td>-1</td>\n",
       "      <td>NaN</td>\n",
       "      <td>NaN</td>\n",
       "      <td>NaN</td>\n",
       "      <td>NaN</td>\n",
       "      <td>NaN</td>\n",
       "    </tr>\n",
       "    <tr>\n",
       "      <th>3</th>\n",
       "      <td>-7548291590301750000</td>\n",
       "      <td>M</td>\n",
       "      <td>33</td>\n",
       "      <td>M32+</td>\n",
       "      <td>2586055</td>\n",
       "      <td>116.79</td>\n",
       "      <td>33.98</td>\n",
       "      <td>0</td>\n",
       "      <td>14</td>\n",
       "      <td>-1</td>\n",
       "      <td>NaN</td>\n",
       "      <td>NaN</td>\n",
       "      <td>NaN</td>\n",
       "      <td>NaN</td>\n",
       "      <td>NaN</td>\n",
       "    </tr>\n",
       "    <tr>\n",
       "      <th>4</th>\n",
       "      <td>-7548291590301750000</td>\n",
       "      <td>M</td>\n",
       "      <td>33</td>\n",
       "      <td>M32+</td>\n",
       "      <td>2560938</td>\n",
       "      <td>116.79</td>\n",
       "      <td>33.98</td>\n",
       "      <td>0</td>\n",
       "      <td>18</td>\n",
       "      <td>-1</td>\n",
       "      <td>NaN</td>\n",
       "      <td>NaN</td>\n",
       "      <td>NaN</td>\n",
       "      <td>NaN</td>\n",
       "      <td>NaN</td>\n",
       "    </tr>\n",
       "  </tbody>\n",
       "</table>\n",
       "</div>"
      ],
      "text/plain": [
       "             Device_Id Gender  Age Age Group Event_Id    Long    Lat  \\\n",
       "0 -7548291590301750000      M   33      M32+      414  116.79  33.98   \n",
       "1 -7548291590301750000      M   33      M32+  2604805  116.79  33.98   \n",
       "2 -7548291590301750000      M   33      M32+  2588911  116.79  33.98   \n",
       "3 -7548291590301750000      M   33      M32+  2586055  116.79  33.98   \n",
       "4 -7548291590301750000      M   33      M32+  2560938  116.79  33.98   \n",
       "\n",
       "   Day Of Week  Hour  Cluster  App_Id  Is_Installed  Is_Active  Label_Id  \\\n",
       "0            1     0       -1     NaN           NaN        NaN       NaN   \n",
       "1            2     3       -1     NaN           NaN        NaN       NaN   \n",
       "2            1    16       -1     NaN           NaN        NaN       NaN   \n",
       "3            0    14       -1     NaN           NaN        NaN       NaN   \n",
       "4            0    18       -1     NaN           NaN        NaN       NaN   \n",
       "\n",
       "  Label_Category  \n",
       "0            NaN  \n",
       "1            NaN  \n",
       "2            NaN  \n",
       "3            NaN  \n",
       "4            NaN  "
      ]
     },
     "execution_count": 65,
     "metadata": {},
     "output_type": "execute_result"
    }
   ],
   "source": [
    "#Creating a join to create 2 data set, with event, and without event (No need of join in non_event as it is already complete)\n",
    "\n",
    "#Creating Left join on event_data with App id, with Event_data being left \n",
    "df_event.rename(columns={'Event_ID':'Event_Id'},inplace=True)\n",
    "df_with_event = df_event.merge(df_app, on='Event_Id',how='left')\n",
    "df_with_event.head()"
   ]
  },
  {
   "cell_type": "code",
   "execution_count": 66,
   "id": "c2f10732",
   "metadata": {},
   "outputs": [
    {
     "data": {
      "text/plain": [
       "Device_Id         0.000000\n",
       "Gender            0.000000\n",
       "Age               0.000000\n",
       "Age Group         0.000000\n",
       "Event_Id          0.000000\n",
       "Long              0.000000\n",
       "Lat               0.000000\n",
       "Day Of Week       0.000000\n",
       "Hour              0.000000\n",
       "Cluster           0.000000\n",
       "App_Id            4.720524\n",
       "Is_Installed      4.720524\n",
       "Is_Active         4.720524\n",
       "Label_Id          4.720524\n",
       "Label_Category    4.720524\n",
       "dtype: float64"
      ]
     },
     "execution_count": 66,
     "metadata": {},
     "output_type": "execute_result"
    }
   ],
   "source": [
    "#Checking null value percentage after merge\n",
    "\n",
    "\n",
    "df_with_event.isnull().sum()*100/df_with_event.count()"
   ]
  },
  {
   "cell_type": "markdown",
   "id": "6260c549",
   "metadata": {},
   "source": [
    "So we have around 4.7% data for which we have the vent information but not the app information. Lets remove them"
   ]
  },
  {
   "cell_type": "code",
   "execution_count": 67,
   "id": "775420ed",
   "metadata": {},
   "outputs": [
    {
     "data": {
      "text/plain": [
       "Device_Id         0\n",
       "Gender            0\n",
       "Age               0\n",
       "Age Group         0\n",
       "Event_Id          0\n",
       "Long              0\n",
       "Lat               0\n",
       "Day Of Week       0\n",
       "Hour              0\n",
       "Cluster           0\n",
       "App_Id            0\n",
       "Is_Installed      0\n",
       "Is_Active         0\n",
       "Label_Id          0\n",
       "Label_Category    0\n",
       "dtype: int64"
      ]
     },
     "execution_count": 67,
     "metadata": {},
     "output_type": "execute_result"
    }
   ],
   "source": [
    "#Removing null values after merge\n",
    "\n",
    "df_with_event.dropna(inplace=True)\n",
    "df_with_event.isna().sum()"
   ]
  },
  {
   "cell_type": "code",
   "execution_count": 68,
   "id": "4d821d66",
   "metadata": {},
   "outputs": [
    {
     "data": {
      "text/plain": [
       " 4.348660e+18    716162\n",
       " 8.693964e+18    394211\n",
       " 5.927333e+18    310200\n",
       " 6.280209e+17    275772\n",
       " 3.379286e+16    252880\n",
       "                  ...  \n",
       "-2.097878e+18         1\n",
       "-3.022873e+18         1\n",
       " 5.909311e+18         1\n",
       " 4.040747e+18         1\n",
       " 5.353758e+18         1\n",
       "Name: App_Id, Length: 9641, dtype: int64"
      ]
     },
     "execution_count": 68,
     "metadata": {},
     "output_type": "execute_result"
    }
   ],
   "source": [
    "#Checking if App_Id is Categorical or not\n",
    "df_with_event.App_Id.value_counts()"
   ]
  },
  {
   "cell_type": "code",
   "execution_count": 69,
   "id": "b333b4a7",
   "metadata": {},
   "outputs": [
    {
     "data": {
      "text/plain": [
       "548.0    1812199\n",
       "704.0    1263773\n",
       "549.0    1045000\n",
       "713.0     627733\n",
       "405.0     612682\n",
       "          ...   \n",
       "998.0          2\n",
       "53.0           2\n",
       "75.0           2\n",
       "81.0           1\n",
       "947.0          1\n",
       "Name: Label_Id, Length: 471, dtype: int64"
      ]
     },
     "execution_count": 69,
     "metadata": {},
     "output_type": "execute_result"
    }
   ],
   "source": [
    "# Checking if Label Id is categorical or not\n",
    "df_with_event.Label_Id.value_counts()"
   ]
  },
  {
   "cell_type": "code",
   "execution_count": 70,
   "id": "18f2bf04",
   "metadata": {},
   "outputs": [
    {
     "data": {
      "text/plain": [
       "Device_Id\n",
       "-9222956879900150000    6814\n",
       "-9221026417907250000     619\n",
       "-9220061629197650000    3253\n",
       "-9218769147970100000     273\n",
       "-9212424538588390000     130\n",
       "                        ... \n",
       " 9212688420052880000     103\n",
       " 9215085115859650000    1726\n",
       " 9216925254504440000    3133\n",
       " 9219164468944550000    7835\n",
       " 9220914901466450000     163\n",
       "Name: Device_Id, Length: 10602, dtype: int64"
      ]
     },
     "execution_count": 70,
     "metadata": {},
     "output_type": "execute_result"
    }
   ],
   "source": [
    "#count of device id might be useful \n",
    "#(no_of_events_for_particular_device_id\n",
    "average_event_df = df_with_event.groupby('Device_Id')['Device_Id'].count()\n",
    "average_event_df"
   ]
  },
  {
   "cell_type": "code",
   "execution_count": 71,
   "id": "5209ad12",
   "metadata": {},
   "outputs": [],
   "source": [
    "def map_count_of_device_id(row):\n",
    "    \n",
    "    return average_event_df[row['Device_Id']]"
   ]
  },
  {
   "cell_type": "code",
   "execution_count": 72,
   "id": "70c4aff9",
   "metadata": {},
   "outputs": [
    {
     "data": {
      "text/html": [
       "<div>\n",
       "<style scoped>\n",
       "    .dataframe tbody tr th:only-of-type {\n",
       "        vertical-align: middle;\n",
       "    }\n",
       "\n",
       "    .dataframe tbody tr th {\n",
       "        vertical-align: top;\n",
       "    }\n",
       "\n",
       "    .dataframe thead th {\n",
       "        text-align: right;\n",
       "    }\n",
       "</style>\n",
       "<table border=\"1\" class=\"dataframe\">\n",
       "  <thead>\n",
       "    <tr style=\"text-align: right;\">\n",
       "      <th></th>\n",
       "      <th>Device_Id</th>\n",
       "      <th>Gender</th>\n",
       "      <th>Age</th>\n",
       "      <th>Age Group</th>\n",
       "      <th>Event_Id</th>\n",
       "      <th>Long</th>\n",
       "      <th>Lat</th>\n",
       "      <th>Day Of Week</th>\n",
       "      <th>Hour</th>\n",
       "      <th>Cluster</th>\n",
       "      <th>App_Id</th>\n",
       "      <th>Is_Installed</th>\n",
       "      <th>Is_Active</th>\n",
       "      <th>Label_Id</th>\n",
       "      <th>Label_Category</th>\n",
       "      <th>Event Count For Device ID</th>\n",
       "    </tr>\n",
       "  </thead>\n",
       "  <tbody>\n",
       "    <tr>\n",
       "      <th>294</th>\n",
       "      <td>4543988487649880000</td>\n",
       "      <td>M</td>\n",
       "      <td>53</td>\n",
       "      <td>M32+</td>\n",
       "      <td>2385752</td>\n",
       "      <td>104.26</td>\n",
       "      <td>30.88</td>\n",
       "      <td>3</td>\n",
       "      <td>4</td>\n",
       "      <td>-1</td>\n",
       "      <td>-5.720079e+18</td>\n",
       "      <td>1.0</td>\n",
       "      <td>1.0</td>\n",
       "      <td>721.0</td>\n",
       "      <td>Personal Effectiveness 1</td>\n",
       "      <td>773</td>\n",
       "    </tr>\n",
       "    <tr>\n",
       "      <th>295</th>\n",
       "      <td>4543988487649880000</td>\n",
       "      <td>M</td>\n",
       "      <td>53</td>\n",
       "      <td>M32+</td>\n",
       "      <td>2385752</td>\n",
       "      <td>104.26</td>\n",
       "      <td>30.88</td>\n",
       "      <td>3</td>\n",
       "      <td>4</td>\n",
       "      <td>-1</td>\n",
       "      <td>-5.720079e+18</td>\n",
       "      <td>1.0</td>\n",
       "      <td>1.0</td>\n",
       "      <td>303.0</td>\n",
       "      <td>unknown</td>\n",
       "      <td>773</td>\n",
       "    </tr>\n",
       "    <tr>\n",
       "      <th>296</th>\n",
       "      <td>4543988487649880000</td>\n",
       "      <td>M</td>\n",
       "      <td>53</td>\n",
       "      <td>M32+</td>\n",
       "      <td>2385752</td>\n",
       "      <td>104.26</td>\n",
       "      <td>30.88</td>\n",
       "      <td>3</td>\n",
       "      <td>4</td>\n",
       "      <td>-1</td>\n",
       "      <td>-5.720079e+18</td>\n",
       "      <td>1.0</td>\n",
       "      <td>1.0</td>\n",
       "      <td>302.0</td>\n",
       "      <td>unknown</td>\n",
       "      <td>773</td>\n",
       "    </tr>\n",
       "    <tr>\n",
       "      <th>297</th>\n",
       "      <td>4543988487649880000</td>\n",
       "      <td>M</td>\n",
       "      <td>53</td>\n",
       "      <td>M32+</td>\n",
       "      <td>2385752</td>\n",
       "      <td>104.26</td>\n",
       "      <td>30.88</td>\n",
       "      <td>3</td>\n",
       "      <td>4</td>\n",
       "      <td>-1</td>\n",
       "      <td>-5.720079e+18</td>\n",
       "      <td>1.0</td>\n",
       "      <td>1.0</td>\n",
       "      <td>548.0</td>\n",
       "      <td>Industry tag</td>\n",
       "      <td>773</td>\n",
       "    </tr>\n",
       "    <tr>\n",
       "      <th>298</th>\n",
       "      <td>4543988487649880000</td>\n",
       "      <td>M</td>\n",
       "      <td>53</td>\n",
       "      <td>M32+</td>\n",
       "      <td>2385752</td>\n",
       "      <td>104.26</td>\n",
       "      <td>30.88</td>\n",
       "      <td>3</td>\n",
       "      <td>4</td>\n",
       "      <td>-1</td>\n",
       "      <td>-5.720079e+18</td>\n",
       "      <td>1.0</td>\n",
       "      <td>1.0</td>\n",
       "      <td>704.0</td>\n",
       "      <td>Property Industry 2.0</td>\n",
       "      <td>773</td>\n",
       "    </tr>\n",
       "  </tbody>\n",
       "</table>\n",
       "</div>"
      ],
      "text/plain": [
       "               Device_Id Gender  Age Age Group Event_Id    Long    Lat  \\\n",
       "294  4543988487649880000      M   53      M32+  2385752  104.26  30.88   \n",
       "295  4543988487649880000      M   53      M32+  2385752  104.26  30.88   \n",
       "296  4543988487649880000      M   53      M32+  2385752  104.26  30.88   \n",
       "297  4543988487649880000      M   53      M32+  2385752  104.26  30.88   \n",
       "298  4543988487649880000      M   53      M32+  2385752  104.26  30.88   \n",
       "\n",
       "     Day Of Week  Hour  Cluster        App_Id  Is_Installed  Is_Active  \\\n",
       "294            3     4       -1 -5.720079e+18           1.0        1.0   \n",
       "295            3     4       -1 -5.720079e+18           1.0        1.0   \n",
       "296            3     4       -1 -5.720079e+18           1.0        1.0   \n",
       "297            3     4       -1 -5.720079e+18           1.0        1.0   \n",
       "298            3     4       -1 -5.720079e+18           1.0        1.0   \n",
       "\n",
       "     Label_Id            Label_Category  Event Count For Device ID  \n",
       "294     721.0  Personal Effectiveness 1                        773  \n",
       "295     303.0                   unknown                        773  \n",
       "296     302.0                   unknown                        773  \n",
       "297     548.0              Industry tag                        773  \n",
       "298     704.0     Property Industry 2.0                        773  "
      ]
     },
     "execution_count": 72,
     "metadata": {},
     "output_type": "execute_result"
    }
   ],
   "source": [
    "df_with_event['Event Count For Device ID'] = df_with_event.apply(map_count_of_device_id,axis=1)\n",
    "df_with_event.head()"
   ]
  },
  {
   "cell_type": "code",
   "execution_count": 73,
   "id": "dda147a7",
   "metadata": {},
   "outputs": [
    {
     "data": {
      "text/html": [
       "<div>\n",
       "<style scoped>\n",
       "    .dataframe tbody tr th:only-of-type {\n",
       "        vertical-align: middle;\n",
       "    }\n",
       "\n",
       "    .dataframe tbody tr th {\n",
       "        vertical-align: top;\n",
       "    }\n",
       "\n",
       "    .dataframe thead th {\n",
       "        text-align: right;\n",
       "    }\n",
       "</style>\n",
       "<table border=\"1\" class=\"dataframe\">\n",
       "  <thead>\n",
       "    <tr style=\"text-align: right;\">\n",
       "      <th></th>\n",
       "      <th>Device_Id</th>\n",
       "      <th>Gender</th>\n",
       "      <th>Age</th>\n",
       "      <th>Age Group</th>\n",
       "      <th>Long</th>\n",
       "      <th>Lat</th>\n",
       "      <th>Day Of Week</th>\n",
       "      <th>Hour</th>\n",
       "      <th>Cluster</th>\n",
       "      <th>App_Id</th>\n",
       "      <th>Is_Installed</th>\n",
       "      <th>Is_Active</th>\n",
       "      <th>Label_Id</th>\n",
       "      <th>Event Count For Device ID</th>\n",
       "    </tr>\n",
       "  </thead>\n",
       "  <tbody>\n",
       "    <tr>\n",
       "      <th>0</th>\n",
       "      <td>4543988487649880000</td>\n",
       "      <td>M</td>\n",
       "      <td>53</td>\n",
       "      <td>M32+</td>\n",
       "      <td>104.26</td>\n",
       "      <td>30.88</td>\n",
       "      <td>3</td>\n",
       "      <td>4</td>\n",
       "      <td>-1</td>\n",
       "      <td>-5.720079e+18</td>\n",
       "      <td>1.0</td>\n",
       "      <td>1.0</td>\n",
       "      <td>721.0</td>\n",
       "      <td>773</td>\n",
       "    </tr>\n",
       "    <tr>\n",
       "      <th>1</th>\n",
       "      <td>4543988487649880000</td>\n",
       "      <td>M</td>\n",
       "      <td>53</td>\n",
       "      <td>M32+</td>\n",
       "      <td>104.26</td>\n",
       "      <td>30.88</td>\n",
       "      <td>3</td>\n",
       "      <td>4</td>\n",
       "      <td>-1</td>\n",
       "      <td>-5.720079e+18</td>\n",
       "      <td>1.0</td>\n",
       "      <td>1.0</td>\n",
       "      <td>303.0</td>\n",
       "      <td>773</td>\n",
       "    </tr>\n",
       "    <tr>\n",
       "      <th>2</th>\n",
       "      <td>4543988487649880000</td>\n",
       "      <td>M</td>\n",
       "      <td>53</td>\n",
       "      <td>M32+</td>\n",
       "      <td>104.26</td>\n",
       "      <td>30.88</td>\n",
       "      <td>3</td>\n",
       "      <td>4</td>\n",
       "      <td>-1</td>\n",
       "      <td>-5.720079e+18</td>\n",
       "      <td>1.0</td>\n",
       "      <td>1.0</td>\n",
       "      <td>302.0</td>\n",
       "      <td>773</td>\n",
       "    </tr>\n",
       "    <tr>\n",
       "      <th>3</th>\n",
       "      <td>4543988487649880000</td>\n",
       "      <td>M</td>\n",
       "      <td>53</td>\n",
       "      <td>M32+</td>\n",
       "      <td>104.26</td>\n",
       "      <td>30.88</td>\n",
       "      <td>3</td>\n",
       "      <td>4</td>\n",
       "      <td>-1</td>\n",
       "      <td>-5.720079e+18</td>\n",
       "      <td>1.0</td>\n",
       "      <td>1.0</td>\n",
       "      <td>548.0</td>\n",
       "      <td>773</td>\n",
       "    </tr>\n",
       "    <tr>\n",
       "      <th>4</th>\n",
       "      <td>4543988487649880000</td>\n",
       "      <td>M</td>\n",
       "      <td>53</td>\n",
       "      <td>M32+</td>\n",
       "      <td>104.26</td>\n",
       "      <td>30.88</td>\n",
       "      <td>3</td>\n",
       "      <td>4</td>\n",
       "      <td>-1</td>\n",
       "      <td>-5.720079e+18</td>\n",
       "      <td>1.0</td>\n",
       "      <td>1.0</td>\n",
       "      <td>704.0</td>\n",
       "      <td>773</td>\n",
       "    </tr>\n",
       "  </tbody>\n",
       "</table>\n",
       "</div>"
      ],
      "text/plain": [
       "             Device_Id Gender  Age Age Group    Long    Lat  Day Of Week  \\\n",
       "0  4543988487649880000      M   53      M32+  104.26  30.88            3   \n",
       "1  4543988487649880000      M   53      M32+  104.26  30.88            3   \n",
       "2  4543988487649880000      M   53      M32+  104.26  30.88            3   \n",
       "3  4543988487649880000      M   53      M32+  104.26  30.88            3   \n",
       "4  4543988487649880000      M   53      M32+  104.26  30.88            3   \n",
       "\n",
       "   Hour  Cluster        App_Id  Is_Installed  Is_Active  Label_Id  \\\n",
       "0     4       -1 -5.720079e+18           1.0        1.0     721.0   \n",
       "1     4       -1 -5.720079e+18           1.0        1.0     303.0   \n",
       "2     4       -1 -5.720079e+18           1.0        1.0     302.0   \n",
       "3     4       -1 -5.720079e+18           1.0        1.0     548.0   \n",
       "4     4       -1 -5.720079e+18           1.0        1.0     704.0   \n",
       "\n",
       "   Event Count For Device ID  \n",
       "0                        773  \n",
       "1                        773  \n",
       "2                        773  \n",
       "3                        773  \n",
       "4                        773  "
      ]
     },
     "execution_count": 73,
     "metadata": {},
     "output_type": "execute_result"
    }
   ],
   "source": [
    "# Remove the ID Columns as they wont help in training model\n",
    "# Keeping App_Id and Label_id as they are categorical in nature, and removing Label_Category as Label_Id would be in sync with Label-Category \n",
    "\n",
    "df_with_event.drop(columns=['Event_Id','Label_Category'], axis=1, inplace=True)\n",
    "df_with_event.reset_index(drop=True,inplace=True)\n",
    "df_with_event.head()"
   ]
  },
  {
   "cell_type": "code",
   "execution_count": 74,
   "id": "f7c1c038",
   "metadata": {},
   "outputs": [],
   "source": [
    "def gender_to_categorical(row):\n",
    "    if(row['Gender']=='M'):\n",
    "        return 0\n",
    "    else:\n",
    "        return 1"
   ]
  },
  {
   "cell_type": "code",
   "execution_count": 75,
   "id": "369a5445",
   "metadata": {},
   "outputs": [
    {
     "data": {
      "text/html": [
       "<div>\n",
       "<style scoped>\n",
       "    .dataframe tbody tr th:only-of-type {\n",
       "        vertical-align: middle;\n",
       "    }\n",
       "\n",
       "    .dataframe tbody tr th {\n",
       "        vertical-align: top;\n",
       "    }\n",
       "\n",
       "    .dataframe thead th {\n",
       "        text-align: right;\n",
       "    }\n",
       "</style>\n",
       "<table border=\"1\" class=\"dataframe\">\n",
       "  <thead>\n",
       "    <tr style=\"text-align: right;\">\n",
       "      <th></th>\n",
       "      <th>Device_Id</th>\n",
       "      <th>Gender</th>\n",
       "      <th>Age</th>\n",
       "      <th>Age Group</th>\n",
       "      <th>Long</th>\n",
       "      <th>Lat</th>\n",
       "      <th>Day Of Week</th>\n",
       "      <th>Hour</th>\n",
       "      <th>Cluster</th>\n",
       "      <th>App_Id</th>\n",
       "      <th>Is_Installed</th>\n",
       "      <th>Is_Active</th>\n",
       "      <th>Label_Id</th>\n",
       "      <th>Event Count For Device ID</th>\n",
       "    </tr>\n",
       "  </thead>\n",
       "  <tbody>\n",
       "    <tr>\n",
       "      <th>0</th>\n",
       "      <td>4543988487649880000</td>\n",
       "      <td>0</td>\n",
       "      <td>53</td>\n",
       "      <td>M32+</td>\n",
       "      <td>104.26</td>\n",
       "      <td>30.88</td>\n",
       "      <td>3</td>\n",
       "      <td>4</td>\n",
       "      <td>-1</td>\n",
       "      <td>-5.720079e+18</td>\n",
       "      <td>1.0</td>\n",
       "      <td>1.0</td>\n",
       "      <td>721.0</td>\n",
       "      <td>773</td>\n",
       "    </tr>\n",
       "    <tr>\n",
       "      <th>1</th>\n",
       "      <td>4543988487649880000</td>\n",
       "      <td>0</td>\n",
       "      <td>53</td>\n",
       "      <td>M32+</td>\n",
       "      <td>104.26</td>\n",
       "      <td>30.88</td>\n",
       "      <td>3</td>\n",
       "      <td>4</td>\n",
       "      <td>-1</td>\n",
       "      <td>-5.720079e+18</td>\n",
       "      <td>1.0</td>\n",
       "      <td>1.0</td>\n",
       "      <td>303.0</td>\n",
       "      <td>773</td>\n",
       "    </tr>\n",
       "    <tr>\n",
       "      <th>2</th>\n",
       "      <td>4543988487649880000</td>\n",
       "      <td>0</td>\n",
       "      <td>53</td>\n",
       "      <td>M32+</td>\n",
       "      <td>104.26</td>\n",
       "      <td>30.88</td>\n",
       "      <td>3</td>\n",
       "      <td>4</td>\n",
       "      <td>-1</td>\n",
       "      <td>-5.720079e+18</td>\n",
       "      <td>1.0</td>\n",
       "      <td>1.0</td>\n",
       "      <td>302.0</td>\n",
       "      <td>773</td>\n",
       "    </tr>\n",
       "    <tr>\n",
       "      <th>3</th>\n",
       "      <td>4543988487649880000</td>\n",
       "      <td>0</td>\n",
       "      <td>53</td>\n",
       "      <td>M32+</td>\n",
       "      <td>104.26</td>\n",
       "      <td>30.88</td>\n",
       "      <td>3</td>\n",
       "      <td>4</td>\n",
       "      <td>-1</td>\n",
       "      <td>-5.720079e+18</td>\n",
       "      <td>1.0</td>\n",
       "      <td>1.0</td>\n",
       "      <td>548.0</td>\n",
       "      <td>773</td>\n",
       "    </tr>\n",
       "    <tr>\n",
       "      <th>4</th>\n",
       "      <td>4543988487649880000</td>\n",
       "      <td>0</td>\n",
       "      <td>53</td>\n",
       "      <td>M32+</td>\n",
       "      <td>104.26</td>\n",
       "      <td>30.88</td>\n",
       "      <td>3</td>\n",
       "      <td>4</td>\n",
       "      <td>-1</td>\n",
       "      <td>-5.720079e+18</td>\n",
       "      <td>1.0</td>\n",
       "      <td>1.0</td>\n",
       "      <td>704.0</td>\n",
       "      <td>773</td>\n",
       "    </tr>\n",
       "  </tbody>\n",
       "</table>\n",
       "</div>"
      ],
      "text/plain": [
       "             Device_Id  Gender  Age Age Group    Long    Lat  Day Of Week  \\\n",
       "0  4543988487649880000       0   53      M32+  104.26  30.88            3   \n",
       "1  4543988487649880000       0   53      M32+  104.26  30.88            3   \n",
       "2  4543988487649880000       0   53      M32+  104.26  30.88            3   \n",
       "3  4543988487649880000       0   53      M32+  104.26  30.88            3   \n",
       "4  4543988487649880000       0   53      M32+  104.26  30.88            3   \n",
       "\n",
       "   Hour  Cluster        App_Id  Is_Installed  Is_Active  Label_Id  \\\n",
       "0     4       -1 -5.720079e+18           1.0        1.0     721.0   \n",
       "1     4       -1 -5.720079e+18           1.0        1.0     303.0   \n",
       "2     4       -1 -5.720079e+18           1.0        1.0     302.0   \n",
       "3     4       -1 -5.720079e+18           1.0        1.0     548.0   \n",
       "4     4       -1 -5.720079e+18           1.0        1.0     704.0   \n",
       "\n",
       "   Event Count For Device ID  \n",
       "0                        773  \n",
       "1                        773  \n",
       "2                        773  \n",
       "3                        773  \n",
       "4                        773  "
      ]
     },
     "execution_count": 75,
     "metadata": {},
     "output_type": "execute_result"
    }
   ],
   "source": [
    "df_with_event['Gender'] = df_with_event.apply(gender_to_categorical, axis=1)\n",
    "df_with_event.head()"
   ]
  },
  {
   "cell_type": "code",
   "execution_count": 76,
   "id": "355cab2b",
   "metadata": {},
   "outputs": [],
   "source": [
    "#Creating Age Group column as pure age and not gender age combined\n",
    "\n",
    "dict_age_group_mapping = {0:'0-24',1:'25-32',2:'32+'}\n",
    "def create_age_group_2(row):\n",
    "    age = row['Age']\n",
    "    \n",
    "    if(age<=24):\n",
    "        return 0\n",
    "    elif (age>24 and age<=32):\n",
    "        return 1\n",
    "    else:\n",
    "        return 2"
   ]
  },
  {
   "cell_type": "code",
   "execution_count": 77,
   "id": "d2e5d7d0",
   "metadata": {},
   "outputs": [
    {
     "data": {
      "text/html": [
       "<div>\n",
       "<style scoped>\n",
       "    .dataframe tbody tr th:only-of-type {\n",
       "        vertical-align: middle;\n",
       "    }\n",
       "\n",
       "    .dataframe tbody tr th {\n",
       "        vertical-align: top;\n",
       "    }\n",
       "\n",
       "    .dataframe thead th {\n",
       "        text-align: right;\n",
       "    }\n",
       "</style>\n",
       "<table border=\"1\" class=\"dataframe\">\n",
       "  <thead>\n",
       "    <tr style=\"text-align: right;\">\n",
       "      <th></th>\n",
       "      <th>Device_Id</th>\n",
       "      <th>Gender</th>\n",
       "      <th>Age</th>\n",
       "      <th>Age Group</th>\n",
       "      <th>Long</th>\n",
       "      <th>Lat</th>\n",
       "      <th>Day Of Week</th>\n",
       "      <th>Hour</th>\n",
       "      <th>Cluster</th>\n",
       "      <th>App_Id</th>\n",
       "      <th>Is_Installed</th>\n",
       "      <th>Is_Active</th>\n",
       "      <th>Label_Id</th>\n",
       "      <th>Event Count For Device ID</th>\n",
       "    </tr>\n",
       "  </thead>\n",
       "  <tbody>\n",
       "    <tr>\n",
       "      <th>0</th>\n",
       "      <td>4543988487649880000</td>\n",
       "      <td>0</td>\n",
       "      <td>53</td>\n",
       "      <td>2</td>\n",
       "      <td>104.26</td>\n",
       "      <td>30.88</td>\n",
       "      <td>3</td>\n",
       "      <td>4</td>\n",
       "      <td>-1</td>\n",
       "      <td>-5.720079e+18</td>\n",
       "      <td>1.0</td>\n",
       "      <td>1.0</td>\n",
       "      <td>721.0</td>\n",
       "      <td>773</td>\n",
       "    </tr>\n",
       "    <tr>\n",
       "      <th>1</th>\n",
       "      <td>4543988487649880000</td>\n",
       "      <td>0</td>\n",
       "      <td>53</td>\n",
       "      <td>2</td>\n",
       "      <td>104.26</td>\n",
       "      <td>30.88</td>\n",
       "      <td>3</td>\n",
       "      <td>4</td>\n",
       "      <td>-1</td>\n",
       "      <td>-5.720079e+18</td>\n",
       "      <td>1.0</td>\n",
       "      <td>1.0</td>\n",
       "      <td>303.0</td>\n",
       "      <td>773</td>\n",
       "    </tr>\n",
       "    <tr>\n",
       "      <th>2</th>\n",
       "      <td>4543988487649880000</td>\n",
       "      <td>0</td>\n",
       "      <td>53</td>\n",
       "      <td>2</td>\n",
       "      <td>104.26</td>\n",
       "      <td>30.88</td>\n",
       "      <td>3</td>\n",
       "      <td>4</td>\n",
       "      <td>-1</td>\n",
       "      <td>-5.720079e+18</td>\n",
       "      <td>1.0</td>\n",
       "      <td>1.0</td>\n",
       "      <td>302.0</td>\n",
       "      <td>773</td>\n",
       "    </tr>\n",
       "    <tr>\n",
       "      <th>3</th>\n",
       "      <td>4543988487649880000</td>\n",
       "      <td>0</td>\n",
       "      <td>53</td>\n",
       "      <td>2</td>\n",
       "      <td>104.26</td>\n",
       "      <td>30.88</td>\n",
       "      <td>3</td>\n",
       "      <td>4</td>\n",
       "      <td>-1</td>\n",
       "      <td>-5.720079e+18</td>\n",
       "      <td>1.0</td>\n",
       "      <td>1.0</td>\n",
       "      <td>548.0</td>\n",
       "      <td>773</td>\n",
       "    </tr>\n",
       "    <tr>\n",
       "      <th>4</th>\n",
       "      <td>4543988487649880000</td>\n",
       "      <td>0</td>\n",
       "      <td>53</td>\n",
       "      <td>2</td>\n",
       "      <td>104.26</td>\n",
       "      <td>30.88</td>\n",
       "      <td>3</td>\n",
       "      <td>4</td>\n",
       "      <td>-1</td>\n",
       "      <td>-5.720079e+18</td>\n",
       "      <td>1.0</td>\n",
       "      <td>1.0</td>\n",
       "      <td>704.0</td>\n",
       "      <td>773</td>\n",
       "    </tr>\n",
       "  </tbody>\n",
       "</table>\n",
       "</div>"
      ],
      "text/plain": [
       "             Device_Id  Gender  Age  Age Group    Long    Lat  Day Of Week  \\\n",
       "0  4543988487649880000       0   53          2  104.26  30.88            3   \n",
       "1  4543988487649880000       0   53          2  104.26  30.88            3   \n",
       "2  4543988487649880000       0   53          2  104.26  30.88            3   \n",
       "3  4543988487649880000       0   53          2  104.26  30.88            3   \n",
       "4  4543988487649880000       0   53          2  104.26  30.88            3   \n",
       "\n",
       "   Hour  Cluster        App_Id  Is_Installed  Is_Active  Label_Id  \\\n",
       "0     4       -1 -5.720079e+18           1.0        1.0     721.0   \n",
       "1     4       -1 -5.720079e+18           1.0        1.0     303.0   \n",
       "2     4       -1 -5.720079e+18           1.0        1.0     302.0   \n",
       "3     4       -1 -5.720079e+18           1.0        1.0     548.0   \n",
       "4     4       -1 -5.720079e+18           1.0        1.0     704.0   \n",
       "\n",
       "   Event Count For Device ID  \n",
       "0                        773  \n",
       "1                        773  \n",
       "2                        773  \n",
       "3                        773  \n",
       "4                        773  "
      ]
     },
     "execution_count": 77,
     "metadata": {},
     "output_type": "execute_result"
    }
   ],
   "source": [
    "df_with_event['Age Group'] = df_with_event.apply(create_age_group_2,axis=1)\n",
    "df_with_event.head()"
   ]
  },
  {
   "cell_type": "code",
   "execution_count": 78,
   "id": "b0d09188",
   "metadata": {},
   "outputs": [
    {
     "data": {
      "text/html": [
       "<div>\n",
       "<style scoped>\n",
       "    .dataframe tbody tr th:only-of-type {\n",
       "        vertical-align: middle;\n",
       "    }\n",
       "\n",
       "    .dataframe tbody tr th {\n",
       "        vertical-align: top;\n",
       "    }\n",
       "\n",
       "    .dataframe thead th {\n",
       "        text-align: right;\n",
       "    }\n",
       "</style>\n",
       "<table border=\"1\" class=\"dataframe\">\n",
       "  <thead>\n",
       "    <tr style=\"text-align: right;\">\n",
       "      <th></th>\n",
       "      <th>Device_Id</th>\n",
       "      <th>Gender</th>\n",
       "      <th>Age</th>\n",
       "      <th>Age Group</th>\n",
       "      <th>Long</th>\n",
       "      <th>Lat</th>\n",
       "      <th>Day Of Week</th>\n",
       "      <th>Hour</th>\n",
       "      <th>Cluster</th>\n",
       "      <th>Is_Installed</th>\n",
       "      <th>Is_Active</th>\n",
       "      <th>Label_Id</th>\n",
       "      <th>Event Count For Device ID</th>\n",
       "      <th>App Id Categorical</th>\n",
       "    </tr>\n",
       "  </thead>\n",
       "  <tbody>\n",
       "    <tr>\n",
       "      <th>0</th>\n",
       "      <td>4543988487649880000</td>\n",
       "      <td>0</td>\n",
       "      <td>53</td>\n",
       "      <td>2</td>\n",
       "      <td>104.26</td>\n",
       "      <td>30.88</td>\n",
       "      <td>3</td>\n",
       "      <td>4</td>\n",
       "      <td>-1</td>\n",
       "      <td>1.0</td>\n",
       "      <td>1.0</td>\n",
       "      <td>721.0</td>\n",
       "      <td>773</td>\n",
       "      <td>1634</td>\n",
       "    </tr>\n",
       "    <tr>\n",
       "      <th>1</th>\n",
       "      <td>4543988487649880000</td>\n",
       "      <td>0</td>\n",
       "      <td>53</td>\n",
       "      <td>2</td>\n",
       "      <td>104.26</td>\n",
       "      <td>30.88</td>\n",
       "      <td>3</td>\n",
       "      <td>4</td>\n",
       "      <td>-1</td>\n",
       "      <td>1.0</td>\n",
       "      <td>1.0</td>\n",
       "      <td>303.0</td>\n",
       "      <td>773</td>\n",
       "      <td>1634</td>\n",
       "    </tr>\n",
       "    <tr>\n",
       "      <th>2</th>\n",
       "      <td>4543988487649880000</td>\n",
       "      <td>0</td>\n",
       "      <td>53</td>\n",
       "      <td>2</td>\n",
       "      <td>104.26</td>\n",
       "      <td>30.88</td>\n",
       "      <td>3</td>\n",
       "      <td>4</td>\n",
       "      <td>-1</td>\n",
       "      <td>1.0</td>\n",
       "      <td>1.0</td>\n",
       "      <td>302.0</td>\n",
       "      <td>773</td>\n",
       "      <td>1634</td>\n",
       "    </tr>\n",
       "    <tr>\n",
       "      <th>3</th>\n",
       "      <td>4543988487649880000</td>\n",
       "      <td>0</td>\n",
       "      <td>53</td>\n",
       "      <td>2</td>\n",
       "      <td>104.26</td>\n",
       "      <td>30.88</td>\n",
       "      <td>3</td>\n",
       "      <td>4</td>\n",
       "      <td>-1</td>\n",
       "      <td>1.0</td>\n",
       "      <td>1.0</td>\n",
       "      <td>548.0</td>\n",
       "      <td>773</td>\n",
       "      <td>1634</td>\n",
       "    </tr>\n",
       "    <tr>\n",
       "      <th>4</th>\n",
       "      <td>4543988487649880000</td>\n",
       "      <td>0</td>\n",
       "      <td>53</td>\n",
       "      <td>2</td>\n",
       "      <td>104.26</td>\n",
       "      <td>30.88</td>\n",
       "      <td>3</td>\n",
       "      <td>4</td>\n",
       "      <td>-1</td>\n",
       "      <td>1.0</td>\n",
       "      <td>1.0</td>\n",
       "      <td>704.0</td>\n",
       "      <td>773</td>\n",
       "      <td>1634</td>\n",
       "    </tr>\n",
       "  </tbody>\n",
       "</table>\n",
       "</div>"
      ],
      "text/plain": [
       "             Device_Id  Gender  Age  Age Group    Long    Lat  Day Of Week  \\\n",
       "0  4543988487649880000       0   53          2  104.26  30.88            3   \n",
       "1  4543988487649880000       0   53          2  104.26  30.88            3   \n",
       "2  4543988487649880000       0   53          2  104.26  30.88            3   \n",
       "3  4543988487649880000       0   53          2  104.26  30.88            3   \n",
       "4  4543988487649880000       0   53          2  104.26  30.88            3   \n",
       "\n",
       "   Hour  Cluster  Is_Installed  Is_Active  Label_Id  \\\n",
       "0     4       -1           1.0        1.0     721.0   \n",
       "1     4       -1           1.0        1.0     303.0   \n",
       "2     4       -1           1.0        1.0     302.0   \n",
       "3     4       -1           1.0        1.0     548.0   \n",
       "4     4       -1           1.0        1.0     704.0   \n",
       "\n",
       "   Event Count For Device ID  App Id Categorical  \n",
       "0                        773                1634  \n",
       "1                        773                1634  \n",
       "2                        773                1634  \n",
       "3                        773                1634  \n",
       "4                        773                1634  "
      ]
     },
     "execution_count": 78,
     "metadata": {},
     "output_type": "execute_result"
    }
   ],
   "source": [
    "#Creating a categorical variable from AppID as App ID values are too large\n",
    "\n",
    "df_with_event.App_Id = pd.Categorical(df_with_event.App_Id )\n",
    "df_with_event['App Id Categorical'] = df_with_event.App_Id.cat.codes\n",
    "df_with_event.drop(['App_Id'],inplace=True,axis=1)\n",
    "df_with_event.head()"
   ]
  },
  {
   "cell_type": "code",
   "execution_count": 79,
   "id": "4375701b",
   "metadata": {},
   "outputs": [
    {
     "data": {
      "text/html": [
       "<div>\n",
       "<style scoped>\n",
       "    .dataframe tbody tr th:only-of-type {\n",
       "        vertical-align: middle;\n",
       "    }\n",
       "\n",
       "    .dataframe tbody tr th {\n",
       "        vertical-align: top;\n",
       "    }\n",
       "\n",
       "    .dataframe thead th {\n",
       "        text-align: right;\n",
       "    }\n",
       "</style>\n",
       "<table border=\"1\" class=\"dataframe\">\n",
       "  <thead>\n",
       "    <tr style=\"text-align: right;\">\n",
       "      <th></th>\n",
       "      <th>Device_Id</th>\n",
       "      <th>Gender</th>\n",
       "      <th>Age</th>\n",
       "      <th>Age Group</th>\n",
       "      <th>Long</th>\n",
       "      <th>Lat</th>\n",
       "      <th>Day Of Week</th>\n",
       "      <th>Hour</th>\n",
       "      <th>Cluster</th>\n",
       "      <th>Is_Installed</th>\n",
       "      <th>Is_Active</th>\n",
       "      <th>Event Count For Device ID</th>\n",
       "      <th>App Id Categorical</th>\n",
       "      <th>Label Id Categorical</th>\n",
       "    </tr>\n",
       "  </thead>\n",
       "  <tbody>\n",
       "    <tr>\n",
       "      <th>0</th>\n",
       "      <td>4543988487649880000</td>\n",
       "      <td>0</td>\n",
       "      <td>53</td>\n",
       "      <td>2</td>\n",
       "      <td>104.26</td>\n",
       "      <td>30.88</td>\n",
       "      <td>3</td>\n",
       "      <td>4</td>\n",
       "      <td>-1</td>\n",
       "      <td>1.0</td>\n",
       "      <td>1.0</td>\n",
       "      <td>773</td>\n",
       "      <td>1634</td>\n",
       "      <td>274</td>\n",
       "    </tr>\n",
       "    <tr>\n",
       "      <th>1</th>\n",
       "      <td>4543988487649880000</td>\n",
       "      <td>0</td>\n",
       "      <td>53</td>\n",
       "      <td>2</td>\n",
       "      <td>104.26</td>\n",
       "      <td>30.88</td>\n",
       "      <td>3</td>\n",
       "      <td>4</td>\n",
       "      <td>-1</td>\n",
       "      <td>1.0</td>\n",
       "      <td>1.0</td>\n",
       "      <td>773</td>\n",
       "      <td>1634</td>\n",
       "      <td>227</td>\n",
       "    </tr>\n",
       "    <tr>\n",
       "      <th>2</th>\n",
       "      <td>4543988487649880000</td>\n",
       "      <td>0</td>\n",
       "      <td>53</td>\n",
       "      <td>2</td>\n",
       "      <td>104.26</td>\n",
       "      <td>30.88</td>\n",
       "      <td>3</td>\n",
       "      <td>4</td>\n",
       "      <td>-1</td>\n",
       "      <td>1.0</td>\n",
       "      <td>1.0</td>\n",
       "      <td>773</td>\n",
       "      <td>1634</td>\n",
       "      <td>226</td>\n",
       "    </tr>\n",
       "    <tr>\n",
       "      <th>3</th>\n",
       "      <td>4543988487649880000</td>\n",
       "      <td>0</td>\n",
       "      <td>53</td>\n",
       "      <td>2</td>\n",
       "      <td>104.26</td>\n",
       "      <td>30.88</td>\n",
       "      <td>3</td>\n",
       "      <td>4</td>\n",
       "      <td>-1</td>\n",
       "      <td>1.0</td>\n",
       "      <td>1.0</td>\n",
       "      <td>773</td>\n",
       "      <td>1634</td>\n",
       "      <td>236</td>\n",
       "    </tr>\n",
       "    <tr>\n",
       "      <th>4</th>\n",
       "      <td>4543988487649880000</td>\n",
       "      <td>0</td>\n",
       "      <td>53</td>\n",
       "      <td>2</td>\n",
       "      <td>104.26</td>\n",
       "      <td>30.88</td>\n",
       "      <td>3</td>\n",
       "      <td>4</td>\n",
       "      <td>-1</td>\n",
       "      <td>1.0</td>\n",
       "      <td>1.0</td>\n",
       "      <td>773</td>\n",
       "      <td>1634</td>\n",
       "      <td>257</td>\n",
       "    </tr>\n",
       "  </tbody>\n",
       "</table>\n",
       "</div>"
      ],
      "text/plain": [
       "             Device_Id  Gender  Age  Age Group    Long    Lat  Day Of Week  \\\n",
       "0  4543988487649880000       0   53          2  104.26  30.88            3   \n",
       "1  4543988487649880000       0   53          2  104.26  30.88            3   \n",
       "2  4543988487649880000       0   53          2  104.26  30.88            3   \n",
       "3  4543988487649880000       0   53          2  104.26  30.88            3   \n",
       "4  4543988487649880000       0   53          2  104.26  30.88            3   \n",
       "\n",
       "   Hour  Cluster  Is_Installed  Is_Active  Event Count For Device ID  \\\n",
       "0     4       -1           1.0        1.0                        773   \n",
       "1     4       -1           1.0        1.0                        773   \n",
       "2     4       -1           1.0        1.0                        773   \n",
       "3     4       -1           1.0        1.0                        773   \n",
       "4     4       -1           1.0        1.0                        773   \n",
       "\n",
       "   App Id Categorical  Label Id Categorical  \n",
       "0                1634                   274  \n",
       "1                1634                   227  \n",
       "2                1634                   226  \n",
       "3                1634                   236  \n",
       "4                1634                   257  "
      ]
     },
     "execution_count": 79,
     "metadata": {},
     "output_type": "execute_result"
    }
   ],
   "source": [
    "#Same thing with Label ID\n",
    "df_with_event.Label_Id = pd.Categorical(df_with_event.Label_Id )\n",
    "df_with_event['Label Id Categorical'] = df_with_event.Label_Id.cat.codes\n",
    "df_with_event.drop(['Label_Id'],inplace=True,axis=1)\n",
    "df_with_event.head()\n",
    "\n",
    "#Now this data looks good. lets check non_event data"
   ]
  },
  {
   "cell_type": "code",
   "execution_count": 80,
   "id": "e6510157",
   "metadata": {
    "scrolled": true
   },
   "outputs": [
    {
     "data": {
      "text/html": [
       "<div>\n",
       "<style scoped>\n",
       "    .dataframe tbody tr th:only-of-type {\n",
       "        vertical-align: middle;\n",
       "    }\n",
       "\n",
       "    .dataframe tbody tr th {\n",
       "        vertical-align: top;\n",
       "    }\n",
       "\n",
       "    .dataframe thead th {\n",
       "        text-align: right;\n",
       "    }\n",
       "</style>\n",
       "<table border=\"1\" class=\"dataframe\">\n",
       "  <thead>\n",
       "    <tr style=\"text-align: right;\">\n",
       "      <th></th>\n",
       "      <th>Device_Id</th>\n",
       "      <th>Gender</th>\n",
       "      <th>Age</th>\n",
       "      <th>Age Group</th>\n",
       "      <th>Phone Brand</th>\n",
       "      <th>Device Model</th>\n",
       "      <th>Is_Popular_Phone_Brand</th>\n",
       "    </tr>\n",
       "  </thead>\n",
       "  <tbody>\n",
       "    <tr>\n",
       "      <th>0</th>\n",
       "      <td>-7548291590301750000</td>\n",
       "      <td>M</td>\n",
       "      <td>33</td>\n",
       "      <td>M32+</td>\n",
       "      <td>Huawei</td>\n",
       "      <td>è£è€€3C</td>\n",
       "      <td>1</td>\n",
       "    </tr>\n",
       "    <tr>\n",
       "      <th>1</th>\n",
       "      <td>6943568600617760000</td>\n",
       "      <td>M</td>\n",
       "      <td>37</td>\n",
       "      <td>M32+</td>\n",
       "      <td>Xiaomi</td>\n",
       "      <td>xnote</td>\n",
       "      <td>1</td>\n",
       "    </tr>\n",
       "    <tr>\n",
       "      <th>2</th>\n",
       "      <td>5441349705980020000</td>\n",
       "      <td>M</td>\n",
       "      <td>40</td>\n",
       "      <td>M32+</td>\n",
       "      <td>OPPO</td>\n",
       "      <td>R7s</td>\n",
       "      <td>1</td>\n",
       "    </tr>\n",
       "    <tr>\n",
       "      <th>3</th>\n",
       "      <td>-5393876656119450000</td>\n",
       "      <td>M</td>\n",
       "      <td>33</td>\n",
       "      <td>M32+</td>\n",
       "      <td>Xiaomi</td>\n",
       "      <td>MI 4</td>\n",
       "      <td>1</td>\n",
       "    </tr>\n",
       "    <tr>\n",
       "      <th>4</th>\n",
       "      <td>4543988487649880000</td>\n",
       "      <td>M</td>\n",
       "      <td>53</td>\n",
       "      <td>M32+</td>\n",
       "      <td>samsung</td>\n",
       "      <td>Galaxy S4</td>\n",
       "      <td>1</td>\n",
       "    </tr>\n",
       "  </tbody>\n",
       "</table>\n",
       "</div>"
      ],
      "text/plain": [
       "             Device_Id Gender  Age Age Group Phone Brand Device Model  \\\n",
       "0 -7548291590301750000      M   33      M32+      Huawei     è£è€€3C   \n",
       "1  6943568600617760000      M   37      M32+      Xiaomi        xnote   \n",
       "2  5441349705980020000      M   40      M32+        OPPO          R7s   \n",
       "3 -5393876656119450000      M   33      M32+      Xiaomi         MI 4   \n",
       "4  4543988487649880000      M   53      M32+     samsung    Galaxy S4   \n",
       "\n",
       "   Is_Popular_Phone_Brand  \n",
       "0                       1  \n",
       "1                       1  \n",
       "2                       1  \n",
       "3                       1  \n",
       "4                       1  "
      ]
     },
     "execution_count": 80,
     "metadata": {},
     "output_type": "execute_result"
    }
   ],
   "source": [
    "#Non Event Data\n",
    "\n",
    "df_non_event.head()"
   ]
  },
  {
   "cell_type": "code",
   "execution_count": 81,
   "id": "fbaccf52",
   "metadata": {},
   "outputs": [
    {
     "data": {
      "text/html": [
       "<div>\n",
       "<style scoped>\n",
       "    .dataframe tbody tr th:only-of-type {\n",
       "        vertical-align: middle;\n",
       "    }\n",
       "\n",
       "    .dataframe tbody tr th {\n",
       "        vertical-align: top;\n",
       "    }\n",
       "\n",
       "    .dataframe thead th {\n",
       "        text-align: right;\n",
       "    }\n",
       "</style>\n",
       "<table border=\"1\" class=\"dataframe\">\n",
       "  <thead>\n",
       "    <tr style=\"text-align: right;\">\n",
       "      <th></th>\n",
       "      <th>Device_Id</th>\n",
       "      <th>Gender</th>\n",
       "      <th>Age</th>\n",
       "      <th>Age Group</th>\n",
       "      <th>Phone Brand</th>\n",
       "      <th>Device Model</th>\n",
       "      <th>Is_Popular_Phone_Brand</th>\n",
       "    </tr>\n",
       "  </thead>\n",
       "  <tbody>\n",
       "    <tr>\n",
       "      <th>0</th>\n",
       "      <td>-7548291590301750000</td>\n",
       "      <td>0</td>\n",
       "      <td>33</td>\n",
       "      <td>2</td>\n",
       "      <td>11</td>\n",
       "      <td>1389</td>\n",
       "      <td>1</td>\n",
       "    </tr>\n",
       "    <tr>\n",
       "      <th>1</th>\n",
       "      <td>6943568600617760000</td>\n",
       "      <td>0</td>\n",
       "      <td>37</td>\n",
       "      <td>2</td>\n",
       "      <td>37</td>\n",
       "      <td>1322</td>\n",
       "      <td>1</td>\n",
       "    </tr>\n",
       "    <tr>\n",
       "      <th>2</th>\n",
       "      <td>5441349705980020000</td>\n",
       "      <td>0</td>\n",
       "      <td>40</td>\n",
       "      <td>2</td>\n",
       "      <td>24</td>\n",
       "      <td>838</td>\n",
       "      <td>1</td>\n",
       "    </tr>\n",
       "    <tr>\n",
       "      <th>3</th>\n",
       "      <td>-5393876656119450000</td>\n",
       "      <td>0</td>\n",
       "      <td>33</td>\n",
       "      <td>2</td>\n",
       "      <td>37</td>\n",
       "      <td>687</td>\n",
       "      <td>1</td>\n",
       "    </tr>\n",
       "    <tr>\n",
       "      <th>4</th>\n",
       "      <td>4543988487649880000</td>\n",
       "      <td>0</td>\n",
       "      <td>53</td>\n",
       "      <td>2</td>\n",
       "      <td>86</td>\n",
       "      <td>519</td>\n",
       "      <td>1</td>\n",
       "    </tr>\n",
       "  </tbody>\n",
       "</table>\n",
       "</div>"
      ],
      "text/plain": [
       "             Device_Id  Gender  Age  Age Group  Phone Brand  Device Model  \\\n",
       "0 -7548291590301750000       0   33          2           11          1389   \n",
       "1  6943568600617760000       0   37          2           37          1322   \n",
       "2  5441349705980020000       0   40          2           24           838   \n",
       "3 -5393876656119450000       0   33          2           37           687   \n",
       "4  4543988487649880000       0   53          2           86           519   \n",
       "\n",
       "   Is_Popular_Phone_Brand  \n",
       "0                       1  \n",
       "1                       1  \n",
       "2                       1  \n",
       "3                       1  \n",
       "4                       1  "
      ]
     },
     "execution_count": 81,
     "metadata": {},
     "output_type": "execute_result"
    }
   ],
   "source": [
    "df_non_event['Gender'] = df_non_event.apply(gender_to_categorical, axis=1) #Categorising gender\n",
    "df_non_event['Age Group'] = df_non_event.apply(create_age_group_2,axis=1) #Categorising Age Group\n",
    "\n",
    "df_non_event['Phone Brand'] = pd.Categorical(df_non_event['Phone Brand'])\n",
    "df_non_event['Phone Brand'] = df_non_event['Phone Brand'].cat.codes\n",
    "\n",
    "df_non_event['Device Model']= pd.Categorical(df_non_event['Device Model'])\n",
    "df_non_event['Device Model'] = df_non_event['Device Model'].cat.codes\n",
    "\n",
    "df_non_event.head()\n"
   ]
  },
  {
   "cell_type": "code",
   "execution_count": 82,
   "id": "9ab6b4a8",
   "metadata": {},
   "outputs": [
    {
     "data": {
      "text/html": [
       "<div>\n",
       "<style scoped>\n",
       "    .dataframe tbody tr th:only-of-type {\n",
       "        vertical-align: middle;\n",
       "    }\n",
       "\n",
       "    .dataframe tbody tr th {\n",
       "        vertical-align: top;\n",
       "    }\n",
       "\n",
       "    .dataframe thead th {\n",
       "        text-align: right;\n",
       "    }\n",
       "</style>\n",
       "<table border=\"1\" class=\"dataframe\">\n",
       "  <thead>\n",
       "    <tr style=\"text-align: right;\">\n",
       "      <th></th>\n",
       "      <th>Device_Id</th>\n",
       "      <th>train_test_flag</th>\n",
       "    </tr>\n",
       "  </thead>\n",
       "  <tbody>\n",
       "    <tr>\n",
       "      <th>0</th>\n",
       "      <td>-7548291590301750000</td>\n",
       "      <td>train</td>\n",
       "    </tr>\n",
       "    <tr>\n",
       "      <th>1</th>\n",
       "      <td>6943568600617760000</td>\n",
       "      <td>train</td>\n",
       "    </tr>\n",
       "    <tr>\n",
       "      <th>2</th>\n",
       "      <td>5441349705980020000</td>\n",
       "      <td>train</td>\n",
       "    </tr>\n",
       "    <tr>\n",
       "      <th>3</th>\n",
       "      <td>-5393876656119450000</td>\n",
       "      <td>train</td>\n",
       "    </tr>\n",
       "    <tr>\n",
       "      <th>4</th>\n",
       "      <td>4543988487649880000</td>\n",
       "      <td>train</td>\n",
       "    </tr>\n",
       "    <tr>\n",
       "      <th>...</th>\n",
       "      <td>...</td>\n",
       "      <td>...</td>\n",
       "    </tr>\n",
       "    <tr>\n",
       "      <th>74640</th>\n",
       "      <td>-8270585312108800000</td>\n",
       "      <td>test</td>\n",
       "    </tr>\n",
       "    <tr>\n",
       "      <th>74641</th>\n",
       "      <td>9140950698473710000</td>\n",
       "      <td>test</td>\n",
       "    </tr>\n",
       "    <tr>\n",
       "      <th>74642</th>\n",
       "      <td>-5051737733034250000</td>\n",
       "      <td>test</td>\n",
       "    </tr>\n",
       "    <tr>\n",
       "      <th>74643</th>\n",
       "      <td>-6901678500015010000</td>\n",
       "      <td>test</td>\n",
       "    </tr>\n",
       "    <tr>\n",
       "      <th>74644</th>\n",
       "      <td>6076451050607320000</td>\n",
       "      <td>test</td>\n",
       "    </tr>\n",
       "  </tbody>\n",
       "</table>\n",
       "<p>74645 rows × 2 columns</p>\n",
       "</div>"
      ],
      "text/plain": [
       "                 Device_Id train_test_flag\n",
       "0     -7548291590301750000           train\n",
       "1      6943568600617760000           train\n",
       "2      5441349705980020000           train\n",
       "3     -5393876656119450000           train\n",
       "4      4543988487649880000           train\n",
       "...                    ...             ...\n",
       "74640 -8270585312108800000            test\n",
       "74641  9140950698473710000            test\n",
       "74642 -5051737733034250000            test\n",
       "74643 -6901678500015010000            test\n",
       "74644  6076451050607320000            test\n",
       "\n",
       "[74645 rows x 2 columns]"
      ]
     },
     "execution_count": 82,
     "metadata": {},
     "output_type": "execute_result"
    }
   ],
   "source": [
    "#Test Train Split\n",
    "df_test_train_split = pd.read_csv(\"train_test_split.csv\")\n",
    "df_test_train_split.rename(columns={'device_id':'Device_Id'},inplace=True)\n",
    "df_test_train_split = df_test_train_split[['Device_Id','train_test_flag']]\n",
    "df_test_train_split"
   ]
  },
  {
   "cell_type": "code",
   "execution_count": 83,
   "id": "2846b461",
   "metadata": {},
   "outputs": [
    {
     "data": {
      "text/html": [
       "<div>\n",
       "<style scoped>\n",
       "    .dataframe tbody tr th:only-of-type {\n",
       "        vertical-align: middle;\n",
       "    }\n",
       "\n",
       "    .dataframe tbody tr th {\n",
       "        vertical-align: top;\n",
       "    }\n",
       "\n",
       "    .dataframe thead th {\n",
       "        text-align: right;\n",
       "    }\n",
       "</style>\n",
       "<table border=\"1\" class=\"dataframe\">\n",
       "  <thead>\n",
       "    <tr style=\"text-align: right;\">\n",
       "      <th></th>\n",
       "      <th>Device_Id</th>\n",
       "      <th>Gender</th>\n",
       "      <th>Age</th>\n",
       "      <th>Age Group</th>\n",
       "      <th>Long</th>\n",
       "      <th>Lat</th>\n",
       "      <th>Day Of Week</th>\n",
       "      <th>Hour</th>\n",
       "      <th>Cluster</th>\n",
       "      <th>Is_Installed</th>\n",
       "      <th>Is_Active</th>\n",
       "      <th>Event Count For Device ID</th>\n",
       "      <th>App Id Categorical</th>\n",
       "      <th>Label Id Categorical</th>\n",
       "      <th>train_test_flag</th>\n",
       "    </tr>\n",
       "  </thead>\n",
       "  <tbody>\n",
       "    <tr>\n",
       "      <th>0</th>\n",
       "      <td>4543988487649880000</td>\n",
       "      <td>0</td>\n",
       "      <td>53</td>\n",
       "      <td>2</td>\n",
       "      <td>104.26</td>\n",
       "      <td>30.88</td>\n",
       "      <td>3</td>\n",
       "      <td>4</td>\n",
       "      <td>-1</td>\n",
       "      <td>1.0</td>\n",
       "      <td>1.0</td>\n",
       "      <td>773</td>\n",
       "      <td>1634</td>\n",
       "      <td>274</td>\n",
       "      <td>train</td>\n",
       "    </tr>\n",
       "    <tr>\n",
       "      <th>1</th>\n",
       "      <td>4543988487649880000</td>\n",
       "      <td>0</td>\n",
       "      <td>53</td>\n",
       "      <td>2</td>\n",
       "      <td>104.26</td>\n",
       "      <td>30.88</td>\n",
       "      <td>3</td>\n",
       "      <td>4</td>\n",
       "      <td>-1</td>\n",
       "      <td>1.0</td>\n",
       "      <td>1.0</td>\n",
       "      <td>773</td>\n",
       "      <td>1634</td>\n",
       "      <td>227</td>\n",
       "      <td>train</td>\n",
       "    </tr>\n",
       "    <tr>\n",
       "      <th>2</th>\n",
       "      <td>4543988487649880000</td>\n",
       "      <td>0</td>\n",
       "      <td>53</td>\n",
       "      <td>2</td>\n",
       "      <td>104.26</td>\n",
       "      <td>30.88</td>\n",
       "      <td>3</td>\n",
       "      <td>4</td>\n",
       "      <td>-1</td>\n",
       "      <td>1.0</td>\n",
       "      <td>1.0</td>\n",
       "      <td>773</td>\n",
       "      <td>1634</td>\n",
       "      <td>226</td>\n",
       "      <td>train</td>\n",
       "    </tr>\n",
       "    <tr>\n",
       "      <th>3</th>\n",
       "      <td>4543988487649880000</td>\n",
       "      <td>0</td>\n",
       "      <td>53</td>\n",
       "      <td>2</td>\n",
       "      <td>104.26</td>\n",
       "      <td>30.88</td>\n",
       "      <td>3</td>\n",
       "      <td>4</td>\n",
       "      <td>-1</td>\n",
       "      <td>1.0</td>\n",
       "      <td>1.0</td>\n",
       "      <td>773</td>\n",
       "      <td>1634</td>\n",
       "      <td>236</td>\n",
       "      <td>train</td>\n",
       "    </tr>\n",
       "    <tr>\n",
       "      <th>4</th>\n",
       "      <td>4543988487649880000</td>\n",
       "      <td>0</td>\n",
       "      <td>53</td>\n",
       "      <td>2</td>\n",
       "      <td>104.26</td>\n",
       "      <td>30.88</td>\n",
       "      <td>3</td>\n",
       "      <td>4</td>\n",
       "      <td>-1</td>\n",
       "      <td>1.0</td>\n",
       "      <td>1.0</td>\n",
       "      <td>773</td>\n",
       "      <td>1634</td>\n",
       "      <td>257</td>\n",
       "      <td>train</td>\n",
       "    </tr>\n",
       "    <tr>\n",
       "      <th>...</th>\n",
       "      <td>...</td>\n",
       "      <td>...</td>\n",
       "      <td>...</td>\n",
       "      <td>...</td>\n",
       "      <td>...</td>\n",
       "      <td>...</td>\n",
       "      <td>...</td>\n",
       "      <td>...</td>\n",
       "      <td>...</td>\n",
       "      <td>...</td>\n",
       "      <td>...</td>\n",
       "      <td>...</td>\n",
       "      <td>...</td>\n",
       "      <td>...</td>\n",
       "      <td>...</td>\n",
       "    </tr>\n",
       "    <tr>\n",
       "      <th>15676667</th>\n",
       "      <td>-6245867196994660000</td>\n",
       "      <td>0</td>\n",
       "      <td>46</td>\n",
       "      <td>2</td>\n",
       "      <td>120.18</td>\n",
       "      <td>32.21</td>\n",
       "      <td>5</td>\n",
       "      <td>19</td>\n",
       "      <td>-1</td>\n",
       "      <td>1.0</td>\n",
       "      <td>1.0</td>\n",
       "      <td>1710</td>\n",
       "      <td>1111</td>\n",
       "      <td>308</td>\n",
       "      <td>test</td>\n",
       "    </tr>\n",
       "    <tr>\n",
       "      <th>15676668</th>\n",
       "      <td>-6245867196994660000</td>\n",
       "      <td>0</td>\n",
       "      <td>46</td>\n",
       "      <td>2</td>\n",
       "      <td>120.18</td>\n",
       "      <td>32.21</td>\n",
       "      <td>5</td>\n",
       "      <td>19</td>\n",
       "      <td>-1</td>\n",
       "      <td>1.0</td>\n",
       "      <td>1.0</td>\n",
       "      <td>1710</td>\n",
       "      <td>1111</td>\n",
       "      <td>304</td>\n",
       "      <td>test</td>\n",
       "    </tr>\n",
       "    <tr>\n",
       "      <th>15676669</th>\n",
       "      <td>-6245867196994660000</td>\n",
       "      <td>0</td>\n",
       "      <td>46</td>\n",
       "      <td>2</td>\n",
       "      <td>120.18</td>\n",
       "      <td>32.21</td>\n",
       "      <td>5</td>\n",
       "      <td>19</td>\n",
       "      <td>-1</td>\n",
       "      <td>1.0</td>\n",
       "      <td>1.0</td>\n",
       "      <td>1710</td>\n",
       "      <td>1111</td>\n",
       "      <td>293</td>\n",
       "      <td>test</td>\n",
       "    </tr>\n",
       "    <tr>\n",
       "      <th>15676670</th>\n",
       "      <td>-6245867196994660000</td>\n",
       "      <td>0</td>\n",
       "      <td>46</td>\n",
       "      <td>2</td>\n",
       "      <td>120.18</td>\n",
       "      <td>32.21</td>\n",
       "      <td>5</td>\n",
       "      <td>19</td>\n",
       "      <td>-1</td>\n",
       "      <td>1.0</td>\n",
       "      <td>1.0</td>\n",
       "      <td>1710</td>\n",
       "      <td>1111</td>\n",
       "      <td>292</td>\n",
       "      <td>test</td>\n",
       "    </tr>\n",
       "    <tr>\n",
       "      <th>15676671</th>\n",
       "      <td>-6245867196994660000</td>\n",
       "      <td>0</td>\n",
       "      <td>46</td>\n",
       "      <td>2</td>\n",
       "      <td>120.18</td>\n",
       "      <td>32.21</td>\n",
       "      <td>5</td>\n",
       "      <td>19</td>\n",
       "      <td>-1</td>\n",
       "      <td>1.0</td>\n",
       "      <td>1.0</td>\n",
       "      <td>1710</td>\n",
       "      <td>1111</td>\n",
       "      <td>278</td>\n",
       "      <td>test</td>\n",
       "    </tr>\n",
       "  </tbody>\n",
       "</table>\n",
       "<p>15676672 rows × 15 columns</p>\n",
       "</div>"
      ],
      "text/plain": [
       "                    Device_Id  Gender  Age  Age Group    Long    Lat  \\\n",
       "0         4543988487649880000       0   53          2  104.26  30.88   \n",
       "1         4543988487649880000       0   53          2  104.26  30.88   \n",
       "2         4543988487649880000       0   53          2  104.26  30.88   \n",
       "3         4543988487649880000       0   53          2  104.26  30.88   \n",
       "4         4543988487649880000       0   53          2  104.26  30.88   \n",
       "...                       ...     ...  ...        ...     ...    ...   \n",
       "15676667 -6245867196994660000       0   46          2  120.18  32.21   \n",
       "15676668 -6245867196994660000       0   46          2  120.18  32.21   \n",
       "15676669 -6245867196994660000       0   46          2  120.18  32.21   \n",
       "15676670 -6245867196994660000       0   46          2  120.18  32.21   \n",
       "15676671 -6245867196994660000       0   46          2  120.18  32.21   \n",
       "\n",
       "          Day Of Week  Hour  Cluster  Is_Installed  Is_Active  \\\n",
       "0                   3     4       -1           1.0        1.0   \n",
       "1                   3     4       -1           1.0        1.0   \n",
       "2                   3     4       -1           1.0        1.0   \n",
       "3                   3     4       -1           1.0        1.0   \n",
       "4                   3     4       -1           1.0        1.0   \n",
       "...               ...   ...      ...           ...        ...   \n",
       "15676667            5    19       -1           1.0        1.0   \n",
       "15676668            5    19       -1           1.0        1.0   \n",
       "15676669            5    19       -1           1.0        1.0   \n",
       "15676670            5    19       -1           1.0        1.0   \n",
       "15676671            5    19       -1           1.0        1.0   \n",
       "\n",
       "          Event Count For Device ID  App Id Categorical  Label Id Categorical  \\\n",
       "0                               773                1634                   274   \n",
       "1                               773                1634                   227   \n",
       "2                               773                1634                   226   \n",
       "3                               773                1634                   236   \n",
       "4                               773                1634                   257   \n",
       "...                             ...                 ...                   ...   \n",
       "15676667                       1710                1111                   308   \n",
       "15676668                       1710                1111                   304   \n",
       "15676669                       1710                1111                   293   \n",
       "15676670                       1710                1111                   292   \n",
       "15676671                       1710                1111                   278   \n",
       "\n",
       "         train_test_flag  \n",
       "0                  train  \n",
       "1                  train  \n",
       "2                  train  \n",
       "3                  train  \n",
       "4                  train  \n",
       "...                  ...  \n",
       "15676667            test  \n",
       "15676668            test  \n",
       "15676669            test  \n",
       "15676670            test  \n",
       "15676671            test  \n",
       "\n",
       "[15676672 rows x 15 columns]"
      ]
     },
     "execution_count": 83,
     "metadata": {},
     "output_type": "execute_result"
    }
   ],
   "source": [
    "#For event_data\n",
    "\n",
    "df_event_train_test = df_with_event.merge(df_test_train_split,on='Device_Id', how='left')\n",
    "df_event_train_test"
   ]
  },
  {
   "cell_type": "code",
   "execution_count": 84,
   "id": "d26d4da5",
   "metadata": {},
   "outputs": [
    {
     "data": {
      "text/plain": [
       "Device_Id                    0\n",
       "Gender                       0\n",
       "Age                          0\n",
       "Age Group                    0\n",
       "Long                         0\n",
       "Lat                          0\n",
       "Day Of Week                  0\n",
       "Hour                         0\n",
       "Cluster                      0\n",
       "Is_Installed                 0\n",
       "Is_Active                    0\n",
       "Event Count For Device ID    0\n",
       "App Id Categorical           0\n",
       "Label Id Categorical         0\n",
       "train_test_flag              0\n",
       "dtype: int64"
      ]
     },
     "execution_count": 84,
     "metadata": {},
     "output_type": "execute_result"
    }
   ],
   "source": [
    "#Sanity check after merge\n",
    "df_event_train_test.isnull().sum()"
   ]
  },
  {
   "cell_type": "code",
   "execution_count": 85,
   "id": "5d56568e",
   "metadata": {
    "scrolled": true
   },
   "outputs": [
    {
     "data": {
      "text/html": [
       "<div>\n",
       "<style scoped>\n",
       "    .dataframe tbody tr th:only-of-type {\n",
       "        vertical-align: middle;\n",
       "    }\n",
       "\n",
       "    .dataframe tbody tr th {\n",
       "        vertical-align: top;\n",
       "    }\n",
       "\n",
       "    .dataframe thead th {\n",
       "        text-align: right;\n",
       "    }\n",
       "</style>\n",
       "<table border=\"1\" class=\"dataframe\">\n",
       "  <thead>\n",
       "    <tr style=\"text-align: right;\">\n",
       "      <th></th>\n",
       "      <th>Device_Id</th>\n",
       "      <th>Gender</th>\n",
       "      <th>Age</th>\n",
       "      <th>Age Group</th>\n",
       "      <th>Phone Brand</th>\n",
       "      <th>Device Model</th>\n",
       "      <th>Is_Popular_Phone_Brand</th>\n",
       "      <th>train_test_flag</th>\n",
       "    </tr>\n",
       "  </thead>\n",
       "  <tbody>\n",
       "    <tr>\n",
       "      <th>0</th>\n",
       "      <td>-7548291590301750000</td>\n",
       "      <td>0</td>\n",
       "      <td>33</td>\n",
       "      <td>2</td>\n",
       "      <td>11</td>\n",
       "      <td>1389</td>\n",
       "      <td>1</td>\n",
       "      <td>train</td>\n",
       "    </tr>\n",
       "    <tr>\n",
       "      <th>1</th>\n",
       "      <td>6943568600617760000</td>\n",
       "      <td>0</td>\n",
       "      <td>37</td>\n",
       "      <td>2</td>\n",
       "      <td>37</td>\n",
       "      <td>1322</td>\n",
       "      <td>1</td>\n",
       "      <td>train</td>\n",
       "    </tr>\n",
       "    <tr>\n",
       "      <th>2</th>\n",
       "      <td>5441349705980020000</td>\n",
       "      <td>0</td>\n",
       "      <td>40</td>\n",
       "      <td>2</td>\n",
       "      <td>24</td>\n",
       "      <td>838</td>\n",
       "      <td>1</td>\n",
       "      <td>train</td>\n",
       "    </tr>\n",
       "    <tr>\n",
       "      <th>3</th>\n",
       "      <td>-5393876656119450000</td>\n",
       "      <td>0</td>\n",
       "      <td>33</td>\n",
       "      <td>2</td>\n",
       "      <td>37</td>\n",
       "      <td>687</td>\n",
       "      <td>1</td>\n",
       "      <td>train</td>\n",
       "    </tr>\n",
       "    <tr>\n",
       "      <th>4</th>\n",
       "      <td>4543988487649880000</td>\n",
       "      <td>0</td>\n",
       "      <td>53</td>\n",
       "      <td>2</td>\n",
       "      <td>86</td>\n",
       "      <td>519</td>\n",
       "      <td>1</td>\n",
       "      <td>train</td>\n",
       "    </tr>\n",
       "    <tr>\n",
       "      <th>...</th>\n",
       "      <td>...</td>\n",
       "      <td>...</td>\n",
       "      <td>...</td>\n",
       "      <td>...</td>\n",
       "      <td>...</td>\n",
       "      <td>...</td>\n",
       "      <td>...</td>\n",
       "      <td>...</td>\n",
       "    </tr>\n",
       "    <tr>\n",
       "      <th>74636</th>\n",
       "      <td>-8270585312108800000</td>\n",
       "      <td>1</td>\n",
       "      <td>32</td>\n",
       "      <td>1</td>\n",
       "      <td>24</td>\n",
       "      <td>1020</td>\n",
       "      <td>1</td>\n",
       "      <td>test</td>\n",
       "    </tr>\n",
       "    <tr>\n",
       "      <th>74637</th>\n",
       "      <td>9140950698473710000</td>\n",
       "      <td>0</td>\n",
       "      <td>41</td>\n",
       "      <td>2</td>\n",
       "      <td>11</td>\n",
       "      <td>709</td>\n",
       "      <td>1</td>\n",
       "      <td>test</td>\n",
       "    </tr>\n",
       "    <tr>\n",
       "      <th>74638</th>\n",
       "      <td>-5051737733034250000</td>\n",
       "      <td>0</td>\n",
       "      <td>25</td>\n",
       "      <td>1</td>\n",
       "      <td>37</td>\n",
       "      <td>1317</td>\n",
       "      <td>1</td>\n",
       "      <td>test</td>\n",
       "    </tr>\n",
       "    <tr>\n",
       "      <th>74639</th>\n",
       "      <td>-6901678500015010000</td>\n",
       "      <td>1</td>\n",
       "      <td>20</td>\n",
       "      <td>0</td>\n",
       "      <td>88</td>\n",
       "      <td>1122</td>\n",
       "      <td>1</td>\n",
       "      <td>test</td>\n",
       "    </tr>\n",
       "    <tr>\n",
       "      <th>74640</th>\n",
       "      <td>6076451050607320000</td>\n",
       "      <td>0</td>\n",
       "      <td>21</td>\n",
       "      <td>0</td>\n",
       "      <td>37</td>\n",
       "      <td>686</td>\n",
       "      <td>1</td>\n",
       "      <td>test</td>\n",
       "    </tr>\n",
       "  </tbody>\n",
       "</table>\n",
       "<p>74641 rows × 8 columns</p>\n",
       "</div>"
      ],
      "text/plain": [
       "                 Device_Id  Gender  Age  Age Group  Phone Brand  Device Model  \\\n",
       "0     -7548291590301750000       0   33          2           11          1389   \n",
       "1      6943568600617760000       0   37          2           37          1322   \n",
       "2      5441349705980020000       0   40          2           24           838   \n",
       "3     -5393876656119450000       0   33          2           37           687   \n",
       "4      4543988487649880000       0   53          2           86           519   \n",
       "...                    ...     ...  ...        ...          ...           ...   \n",
       "74636 -8270585312108800000       1   32          1           24          1020   \n",
       "74637  9140950698473710000       0   41          2           11           709   \n",
       "74638 -5051737733034250000       0   25          1           37          1317   \n",
       "74639 -6901678500015010000       1   20          0           88          1122   \n",
       "74640  6076451050607320000       0   21          0           37           686   \n",
       "\n",
       "       Is_Popular_Phone_Brand train_test_flag  \n",
       "0                           1           train  \n",
       "1                           1           train  \n",
       "2                           1           train  \n",
       "3                           1           train  \n",
       "4                           1           train  \n",
       "...                       ...             ...  \n",
       "74636                       1            test  \n",
       "74637                       1            test  \n",
       "74638                       1            test  \n",
       "74639                       1            test  \n",
       "74640                       1            test  \n",
       "\n",
       "[74641 rows x 8 columns]"
      ]
     },
     "execution_count": 85,
     "metadata": {},
     "output_type": "execute_result"
    }
   ],
   "source": [
    "#With non event data\n",
    "\n",
    "df_non_event_train_test = df_non_event.merge(df_test_train_split,on='Device_Id', how='left')\n",
    "df_non_event_train_test"
   ]
  },
  {
   "cell_type": "code",
   "execution_count": 86,
   "id": "d3085061",
   "metadata": {},
   "outputs": [
    {
     "data": {
      "text/plain": [
       "Device_Id                 0\n",
       "Gender                    0\n",
       "Age                       0\n",
       "Age Group                 0\n",
       "Phone Brand               0\n",
       "Device Model              0\n",
       "Is_Popular_Phone_Brand    0\n",
       "train_test_flag           0\n",
       "dtype: int64"
      ]
     },
     "execution_count": 86,
     "metadata": {},
     "output_type": "execute_result"
    }
   ],
   "source": [
    "#Sanity check after merge\n",
    "df_non_event_train_test.isnull().sum()"
   ]
  },
  {
   "cell_type": "markdown",
   "id": "fb231c28",
   "metadata": {},
   "source": [
    "# Model Building: Different Models"
   ]
  },
  {
   "cell_type": "markdown",
   "id": "17d5cb40",
   "metadata": {},
   "source": [
    "Using Classifier for age prediction as predicting a class makes it easier for prediction and improves accuracy. As compared to regression where we need to compare the exact age.\n",
    "\n",
    "Eg. If the age predicted in regression is 32 (24-32 group) and actual is 33 (32+ group). So even a small error in age prediction of regression changes the entire age age group."
   ]
  },
  {
   "cell_type": "markdown",
   "id": "dac20785",
   "metadata": {},
   "source": [
    "### Segmenting the data [Scenario 1 and Scenario 2] "
   ]
  },
  {
   "cell_type": "code",
   "execution_count": 87,
   "id": "c4cb5af5",
   "metadata": {},
   "outputs": [],
   "source": [
    "#Not considering Device ID as it is not a feature but a id unique to a device\n",
    "\n",
    "x_train_1 = df_event_train_test[df_event_train_test['train_test_flag']=='train'][\n",
    "    ['Long','Lat','Day Of Week','Hour','Cluster','Is_Installed','Is_Active','Event Count For Device ID',\n",
    "     'App Id Categorical', 'Label Id Categorical']] #'Device_Id',\n",
    "\n",
    "\n",
    "y_train_1_Age = df_event_train_test[df_event_train_test['train_test_flag']=='train']['Age Group']\n",
    "\n",
    "y_train_1_Gender = df_event_train_test[df_event_train_test['train_test_flag']=='train']['Gender']"
   ]
  },
  {
   "cell_type": "code",
   "execution_count": 88,
   "id": "9341ce7c",
   "metadata": {},
   "outputs": [],
   "source": [
    "x_train_2 = df_non_event_train_test[df_non_event_train_test['train_test_flag']=='train'][\n",
    "    ['Phone Brand','Device Model','Is_Popular_Phone_Brand']]  #'Device_Id',\n",
    "\n",
    "y_train_2_Age = df_non_event_train_test[df_non_event_train_test['train_test_flag']=='train']['Age Group']\n",
    "\n",
    "y_train_2_Gender = df_non_event_train_test[df_non_event_train_test['train_test_flag']=='train']['Gender']"
   ]
  },
  {
   "cell_type": "code",
   "execution_count": 89,
   "id": "6a76e0f4",
   "metadata": {},
   "outputs": [],
   "source": [
    "x_test_1 = df_event_train_test[df_event_train_test['train_test_flag']=='test'][\n",
    "    ['Long','Lat','Day Of Week','Hour','Cluster','Is_Installed','Is_Active','Event Count For Device ID',\n",
    "     'App Id Categorical', 'Label Id Categorical']] #'Device_Id',\n",
    "\n",
    "\n",
    "y_test_1_Age = df_event_train_test[df_event_train_test['train_test_flag']=='test']['Age Group']\n",
    "\n",
    "y_test_1_Gender = df_event_train_test[df_event_train_test['train_test_flag']=='test']['Gender']"
   ]
  },
  {
   "cell_type": "code",
   "execution_count": 90,
   "id": "4b1de90a",
   "metadata": {},
   "outputs": [],
   "source": [
    "x_test_2 = df_non_event_train_test[df_non_event_train_test['train_test_flag']=='test'][\n",
    "    ['Phone Brand','Device Model','Is_Popular_Phone_Brand']]  #'Device_Id',\n",
    "\n",
    "y_test_2_Age = df_non_event_train_test[df_non_event_train_test['train_test_flag']=='test']['Age Group']\n",
    "\n",
    "y_test_2_Gender = df_non_event_train_test[df_non_event_train_test['train_test_flag']=='test']['Gender']"
   ]
  },
  {
   "cell_type": "code",
   "execution_count": 91,
   "id": "eb71309e",
   "metadata": {},
   "outputs": [
    {
     "name": "stdout",
     "output_type": "stream",
     "text": [
      "xtrain 1       :  (12218474, 10)\n",
      "ytrain 1 Age   :  (12218474,)\n",
      "ytrain 1 Gender:  (12218474,)\n",
      "xtrain 2       :  (58546, 3)\n",
      "ytrain 2 Age   :  (58546,)\n",
      "ytrain 2 Gender:  (58546,)\n",
      "xtest 1       :  (3458198, 10)\n",
      "ytest 1 Age   :  (3458198,)\n",
      "ytest 1 Gender:  (3458198,)\n",
      "xtest 2       :  (16095, 3)\n",
      "ytest 2 Age   :  (16095,)\n",
      "ytest 2 Gender:  (16095,)\n"
     ]
    }
   ],
   "source": [
    "#Checking Shapes.\n",
    "\n",
    "\n",
    "print(\"xtrain 1       : \", x_train_1.shape)\n",
    "print(\"ytrain 1 Age   : \", y_train_1_Age.shape)\n",
    "print(\"ytrain 1 Gender: \", y_train_1_Gender.shape)\n",
    "\n",
    "print(\"xtrain 2       : \", x_train_2.shape)\n",
    "print(\"ytrain 2 Age   : \", y_train_2_Age.shape)\n",
    "print(\"ytrain 2 Gender: \", y_train_2_Gender.shape)\n",
    "\n",
    "print(\"xtest 1       : \", x_test_1.shape)\n",
    "print(\"ytest 1 Age   : \", y_test_1_Age.shape)\n",
    "print(\"ytest 1 Gender: \", y_test_1_Gender.shape)\n",
    "\n",
    "print(\"xtest 2       : \", x_test_2.shape)\n",
    "print(\"ytest 2 Age   : \", y_test_2_Age.shape)\n",
    "print(\"ytest 2 Gender: \", y_test_2_Gender.shape)"
   ]
  },
  {
   "cell_type": "markdown",
   "id": "5b64d176",
   "metadata": {},
   "source": [
    "#### Scenario 1"
   ]
  },
  {
   "cell_type": "markdown",
   "id": "32224690",
   "metadata": {},
   "source": [
    "Gender Prediction"
   ]
  },
  {
   "cell_type": "code",
   "execution_count": 92,
   "id": "d94f14b5",
   "metadata": {},
   "outputs": [],
   "source": [
    "# 1. XGBoost with HyperParameter Tuning\n",
    "xgb = XGBClassifier(eval_metric='error')\n",
    "\n",
    "params = {\n",
    "\n",
    "        'min_child_weight': [1, 5, 10],\n",
    "\n",
    "        'gamma': [ 0.5,1, 1.5],\n",
    "\n",
    "        'subsample': [0.6, 0.8, 1.0],\n",
    "\n",
    "        'colsample_bytree': [0.6, 0.8, 1.0]\n",
    "\n",
    "#         'max_depth': [3, 4, 5],\n",
    "\n",
    "#         'n_estimators': range(60, 240, 60),\n",
    "\n",
    "#         'learning_rate': [0.1, 0.01, 0.05]\n",
    "\n",
    " }"
   ]
  },
  {
   "cell_type": "code",
   "execution_count": 93,
   "id": "91b1fb0c",
   "metadata": {},
   "outputs": [],
   "source": [
    "from sklearn.model_selection import GridSearchCV\n",
    "with warnings.catch_warnings():\n",
    "    warnings.simplefilter(\"ignore\")\n",
    "    xgb_cv_1_gender = GridSearchCV(xgb,params)\n",
    "    xgb_cv_1_gender.fit(x_train_1.iloc[:10000],y_train_1_Gender.iloc[:10000])"
   ]
  },
  {
   "cell_type": "code",
   "execution_count": 94,
   "id": "03d45e67",
   "metadata": {},
   "outputs": [
    {
     "name": "stdout",
     "output_type": "stream",
     "text": [
      "0.9882\n",
      "{'colsample_bytree': 0.6, 'gamma': 0.5, 'min_child_weight': 1, 'subsample': 0.6}\n"
     ]
    }
   ],
   "source": [
    "print(xgb_cv_1_gender.best_score_)\n",
    "print(xgb_cv_1_gender.best_params_)\n"
   ]
  },
  {
   "cell_type": "code",
   "execution_count": 95,
   "id": "fe5ea54a",
   "metadata": {},
   "outputs": [],
   "source": [
    "clf1 = LogisticRegression()\n",
    "clf2 = RandomForestClassifier(random_state=1, n_estimators=10)\n",
    "\n",
    "stacking_1_gender = StackingCVClassifier(classifiers=[clf1, clf2], meta_classifier=xgb_cv_1_gender, use_probas=True, cv=3)\n"
   ]
  },
  {
   "cell_type": "code",
   "execution_count": 96,
   "id": "ad552edb",
   "metadata": {},
   "outputs": [
    {
     "name": "stdout",
     "output_type": "stream",
     "text": [
      "Accuracy: 0.89 (+/- 0.07) [lr]\n",
      "Accuracy: 0.92 (+/- 0.13) [Random Forest]\n",
      "Accuracy: 0.92 (+/- 0.13) [StackingClassifier]\n"
     ]
    }
   ],
   "source": [
    "# Cross Validation with 5 fold cv. (KFold implemented in the cross_val_score function itself)\n",
    "with warnings.catch_warnings():\n",
    "    warnings.simplefilter(\"ignore\")\n",
    "    for clf, label in zip([clf1, clf2, stacking_1_gender], \n",
    "                      ['lr', \n",
    "                       'Random Forest', \n",
    "                       'StackingClassifier']):\n",
    "\n",
    "        scores = model_selection.cross_val_score(clf, x_train_1.iloc[:10000], y_train_1_Gender.iloc[:10000], cv=5, scoring='accuracy')\n",
    "        print(\"Accuracy: %0.2f (+/- %0.2f) [%s]\" % (scores.mean(), scores.std(), label))"
   ]
  },
  {
   "cell_type": "code",
   "execution_count": 97,
   "id": "df3ed7c5",
   "metadata": {},
   "outputs": [],
   "source": [
    "with warnings.catch_warnings():\n",
    "    warnings.simplefilter(\"ignore\")\n",
    "    stacking_1_gender.fit(x_train_1.iloc[:10000], y_train_1_Gender.iloc[:10000])\n"
   ]
  },
  {
   "cell_type": "markdown",
   "id": "2d2ec53e",
   "metadata": {},
   "source": [
    "Age Prediction"
   ]
  },
  {
   "cell_type": "code",
   "execution_count": 98,
   "id": "f9a0a4b9",
   "metadata": {},
   "outputs": [],
   "source": [
    "# 1. XGBoost with HyperParameter Tuning\n",
    "xgb = XGBClassifier(eval_metric='error')\n",
    "\n",
    "params = {\n",
    "\n",
    "        'min_child_weight': [1, 5, 10],\n",
    "\n",
    "        'gamma': [ 0.5,1, 1.5],\n",
    "\n",
    "        'subsample': [0.6, 0.8, 1.0],\n",
    "\n",
    "        'colsample_bytree': [0.6, 0.8, 1.0]\n",
    "\n",
    "#         'max_depth': [3, 4, 5],\n",
    "\n",
    "#         'n_estimators': range(60, 240, 60),\n",
    "\n",
    "#         'learning_rate': [0.1, 0.01, 0.05]\n",
    "\n",
    " }"
   ]
  },
  {
   "cell_type": "code",
   "execution_count": 99,
   "id": "f51e8719",
   "metadata": {},
   "outputs": [],
   "source": [
    "with warnings.catch_warnings():\n",
    "    warnings.simplefilter(\"ignore\")\n",
    "    xgb_cv_1_age = GridSearchCV(xgb,params)\n",
    "    xgb_cv_1_age.fit(x_train_1.iloc[:10000],y_train_1_Age.iloc[:10000])"
   ]
  },
  {
   "cell_type": "code",
   "execution_count": 100,
   "id": "9a21ddbf",
   "metadata": {},
   "outputs": [
    {
     "name": "stdout",
     "output_type": "stream",
     "text": [
      "0.7553000000000001\n",
      "{'colsample_bytree': 0.8, 'gamma': 0.5, 'min_child_weight': 5, 'subsample': 1.0}\n"
     ]
    }
   ],
   "source": [
    "print(xgb_cv_1_age.best_score_)\n",
    "print(xgb_cv_1_age.best_params_)"
   ]
  },
  {
   "cell_type": "code",
   "execution_count": 101,
   "id": "0a2375dc",
   "metadata": {},
   "outputs": [],
   "source": [
    "clf1 = LogisticRegression()\n",
    "clf2 = RandomForestClassifier(random_state=1, n_estimators=10)\n",
    "\n",
    "stacking_1_age = StackingCVClassifier(classifiers=[clf1, clf2], meta_classifier=xgb_cv_1_age, use_probas=True, cv=3)\n"
   ]
  },
  {
   "cell_type": "code",
   "execution_count": 102,
   "id": "4194cfa9",
   "metadata": {},
   "outputs": [
    {
     "name": "stdout",
     "output_type": "stream",
     "text": [
      "Accuracy: 0.48 (+/- 0.27) [lr]\n",
      "Accuracy: 0.75 (+/- 0.21) [Random Forest]\n",
      "Accuracy: 0.74 (+/- 0.21) [StackingClassifier]\n"
     ]
    }
   ],
   "source": [
    "# Cross Validation with 5 fold cv. (KFold implemented in the cross_val_score function itself)\n",
    "with warnings.catch_warnings():\n",
    "    warnings.simplefilter(\"ignore\")\n",
    "    for clf, label in zip([clf1, clf2, stacking_1_age], \n",
    "                      ['lr', \n",
    "                       'Random Forest', \n",
    "                       'StackingClassifier']):\n",
    "\n",
    "        scores = model_selection.cross_val_score(clf, x_train_1.iloc[:10000], y_train_1_Age.iloc[:10000], cv=5, scoring='accuracy')\n",
    "        print(\"Accuracy: %0.2f (+/- %0.2f) [%s]\" % (scores.mean(), scores.std(), label))"
   ]
  },
  {
   "cell_type": "code",
   "execution_count": 103,
   "id": "32ca848e",
   "metadata": {},
   "outputs": [],
   "source": [
    "with warnings.catch_warnings():\n",
    "    warnings.simplefilter(\"ignore\")\n",
    "    stacking_1_age.fit(x_train_1.iloc[:10000], y_train_1_Age.iloc[:10000])\n"
   ]
  },
  {
   "cell_type": "markdown",
   "id": "c8619f28",
   "metadata": {},
   "source": [
    "#### Scenario 2"
   ]
  },
  {
   "cell_type": "markdown",
   "id": "8d12d7e3",
   "metadata": {},
   "source": [
    "Gender Prediction"
   ]
  },
  {
   "cell_type": "code",
   "execution_count": 104,
   "id": "3b67ee14",
   "metadata": {},
   "outputs": [],
   "source": [
    "# 1. XGBoost with HyperParameter Tuning\n",
    "xgb = XGBClassifier(eval_metric='error')\n",
    "\n",
    "params = {\n",
    "\n",
    "        'min_child_weight': [1, 5, 10],\n",
    "\n",
    "        'gamma': [ 0.5,1, 1.5],\n",
    "\n",
    "        'subsample': [0.6, 0.8, 1.0],\n",
    "\n",
    "        'colsample_bytree': [0.6, 0.8, 1.0]\n",
    "\n",
    "#         'max_depth': [3, 4, 5],\n",
    "\n",
    "#         'n_estimators': range(60, 240, 60),\n",
    "\n",
    "#         'learning_rate': [0.1, 0.01, 0.05]\n",
    "\n",
    " }"
   ]
  },
  {
   "cell_type": "code",
   "execution_count": 105,
   "id": "e118794c",
   "metadata": {},
   "outputs": [],
   "source": [
    "with warnings.catch_warnings():\n",
    "    warnings.simplefilter(\"ignore\")\n",
    "    xgb_cv_2_gender = GridSearchCV(xgb,params)\n",
    "    xgb_cv_2_gender.fit(x_train_2.iloc[:10000],y_train_2_Gender.iloc[:10000])"
   ]
  },
  {
   "cell_type": "code",
   "execution_count": 106,
   "id": "8e5ae816",
   "metadata": {},
   "outputs": [
    {
     "name": "stdout",
     "output_type": "stream",
     "text": [
      "0.6557999999999999\n",
      "{'colsample_bytree': 0.6, 'gamma': 1.5, 'min_child_weight': 1, 'subsample': 1.0}\n"
     ]
    }
   ],
   "source": [
    "print(xgb_cv_2_gender.best_score_)\n",
    "print(xgb_cv_2_gender.best_params_)"
   ]
  },
  {
   "cell_type": "code",
   "execution_count": 107,
   "id": "c19e5365",
   "metadata": {},
   "outputs": [],
   "source": [
    "clf1 = LogisticRegression()\n",
    "clf2 = RandomForestClassifier(random_state=1, n_estimators=10)\n",
    "\n",
    "stacking_2_gender = StackingCVClassifier(classifiers=[clf1, clf2], meta_classifier=xgb_cv_2_gender, use_probas=True, cv=3)\n"
   ]
  },
  {
   "cell_type": "code",
   "execution_count": 108,
   "id": "98045270",
   "metadata": {},
   "outputs": [
    {
     "name": "stdout",
     "output_type": "stream",
     "text": [
      "Accuracy: 0.66 (+/- 0.00) [lr]\n",
      "Accuracy: 0.64 (+/- 0.00) [Random Forest]\n",
      "Accuracy: 0.65 (+/- 0.00) [StackingClassifier]\n"
     ]
    }
   ],
   "source": [
    "# Cross Validation with 5 fold cv. (KFold implemented in the cross_val_score function itself)\n",
    "with warnings.catch_warnings():\n",
    "    warnings.simplefilter(\"ignore\")\n",
    "    for clf, label in zip([clf1, clf2, stacking_2_gender], \n",
    "                      ['lr', \n",
    "                       'Random Forest', \n",
    "                       'StackingClassifier']):\n",
    "\n",
    "        scores = model_selection.cross_val_score(clf, x_train_2.iloc[:10000], y_train_2_Gender.iloc[:10000], cv=5, scoring='accuracy')\n",
    "        print(\"Accuracy: %0.2f (+/- %0.2f) [%s]\" % (scores.mean(), scores.std(), label))"
   ]
  },
  {
   "cell_type": "code",
   "execution_count": 109,
   "id": "93941177",
   "metadata": {},
   "outputs": [],
   "source": [
    "with warnings.catch_warnings():\n",
    "    warnings.simplefilter(\"ignore\")\n",
    "    stacking_2_gender.fit(x_train_2.iloc[:10000], y_train_2_Gender.iloc[:10000])\n"
   ]
  },
  {
   "cell_type": "markdown",
   "id": "679cf7fe",
   "metadata": {},
   "source": [
    "Age Prediction"
   ]
  },
  {
   "cell_type": "code",
   "execution_count": 110,
   "id": "93469a78",
   "metadata": {},
   "outputs": [],
   "source": [
    "# 1. XGBoost with HyperParameter Tuning\n",
    "xgb = XGBClassifier(eval_metric='error')\n",
    "\n",
    "params = {\n",
    "\n",
    "        'min_child_weight': [1, 5, 10],\n",
    "\n",
    "        'gamma': [ 0.5,1, 1.5],\n",
    "\n",
    "        'subsample': [0.6, 0.8, 1.0],\n",
    "\n",
    "        'colsample_bytree': [0.6, 0.8, 1.0]\n",
    "\n",
    "#         'max_depth': [3, 4, 5],\n",
    "\n",
    "#         'n_estimators': range(60, 240, 60),\n",
    "\n",
    "#         'learning_rate': [0.1, 0.01, 0.05]\n",
    "\n",
    " }"
   ]
  },
  {
   "cell_type": "code",
   "execution_count": 111,
   "id": "38a234cd",
   "metadata": {},
   "outputs": [],
   "source": [
    "with warnings.catch_warnings():\n",
    "    warnings.simplefilter(\"ignore\")\n",
    "    xgb_cv_2_age = GridSearchCV(xgb,params)\n",
    "    xgb_cv_2_age.fit(x_train_2.iloc[:10000],y_train_2_Age.iloc[:10000])"
   ]
  },
  {
   "cell_type": "code",
   "execution_count": 112,
   "id": "de440c3b",
   "metadata": {},
   "outputs": [
    {
     "name": "stdout",
     "output_type": "stream",
     "text": [
      "0.44820000000000004\n",
      "{'colsample_bytree': 0.8, 'gamma': 1, 'min_child_weight': 10, 'subsample': 1.0}\n"
     ]
    }
   ],
   "source": [
    "print(xgb_cv_2_age.best_score_)\n",
    "print(xgb_cv_2_age.best_params_)"
   ]
  },
  {
   "cell_type": "code",
   "execution_count": 113,
   "id": "ab7636b5",
   "metadata": {},
   "outputs": [],
   "source": [
    "clf1 = LogisticRegression()\n",
    "clf2 = RandomForestClassifier(random_state=1, n_estimators=10)\n",
    "\n",
    "stacking_2_age = StackingCVClassifier(classifiers=[clf1, clf2], meta_classifier=xgb_cv_2_age, use_probas=True, cv=3)\n"
   ]
  },
  {
   "cell_type": "code",
   "execution_count": 114,
   "id": "46aac3cd",
   "metadata": {},
   "outputs": [
    {
     "name": "stdout",
     "output_type": "stream",
     "text": [
      "Accuracy: 0.40 (+/- 0.03) [lr]\n",
      "Accuracy: 0.39 (+/- 0.01) [Random Forest]\n",
      "Accuracy: 0.38 (+/- 0.05) [StackingClassifier]\n"
     ]
    }
   ],
   "source": [
    "# Cross Validation with 5 fold cv. (KFold implemented in the cross_val_score function itself)\n",
    "with warnings.catch_warnings():\n",
    "    warnings.simplefilter(\"ignore\")\n",
    "    for clf, label in zip([clf1, clf2, stacking_2_age], \n",
    "                      ['lr', \n",
    "                       'Random Forest', \n",
    "                       'StackingClassifier']):\n",
    "\n",
    "        scores = model_selection.cross_val_score(clf, x_train_2.iloc[:1000], y_train_2_Age.iloc[:1000], cv=5, scoring='accuracy')\n",
    "        print(\"Accuracy: %0.2f (+/- %0.2f) [%s]\" % (scores.mean(), scores.std(), label))"
   ]
  },
  {
   "cell_type": "code",
   "execution_count": 115,
   "id": "d055356e",
   "metadata": {},
   "outputs": [],
   "source": [
    "with warnings.catch_warnings():\n",
    "    warnings.simplefilter(\"ignore\")\n",
    "    stacking_2_age.fit(x_train_2.iloc[:10000], y_train_2_Age.iloc[:10000])\n"
   ]
  },
  {
   "cell_type": "markdown",
   "id": "c878dd3e",
   "metadata": {},
   "source": [
    "### Model Evaluation"
   ]
  },
  {
   "cell_type": "markdown",
   "id": "f83485cc",
   "metadata": {},
   "source": [
    "Scenario 1 Gender Prediction\n"
   ]
  },
  {
   "cell_type": "code",
   "execution_count": 116,
   "id": "7ec13a96",
   "metadata": {},
   "outputs": [
    {
     "name": "stdout",
     "output_type": "stream",
     "text": [
      "              precision    recall  f1-score   support\n",
      "\n",
      "           0       0.77      0.93      0.84   2639870\n",
      "           1       0.29      0.09      0.14    818328\n",
      "\n",
      "    accuracy                           0.73   3458198\n",
      "   macro avg       0.53      0.51      0.49   3458198\n",
      "weighted avg       0.66      0.73      0.68   3458198\n",
      "\n"
     ]
    }
   ],
   "source": [
    "y_pred = stacking_1_gender.predict(x_test_1)\n",
    "print(classification_report(y_test_1_Gender.values,y_pred))"
   ]
  },
  {
   "cell_type": "code",
   "execution_count": 117,
   "id": "af889f9e",
   "metadata": {},
   "outputs": [
    {
     "data": {
      "text/plain": [
       "array([[2466442,  173428],\n",
       "       [ 746294,   72034]])"
      ]
     },
     "execution_count": 117,
     "metadata": {},
     "output_type": "execute_result"
    }
   ],
   "source": [
    "confusion_matrix(y_test_1_Gender,y_pred)"
   ]
  },
  {
   "cell_type": "code",
   "execution_count": 120,
   "id": "eb6a6134",
   "metadata": {},
   "outputs": [
    {
     "data": {
      "text/plain": [
       "0.5111650845091444"
      ]
     },
     "execution_count": 120,
     "metadata": {},
     "output_type": "execute_result"
    }
   ],
   "source": [
    "roc_auc_score(y_test_1_Gender.values,y_pred)"
   ]
  },
  {
   "cell_type": "markdown",
   "id": "b5d0b67d",
   "metadata": {},
   "source": [
    "Scenario 2 Gender Prediction\n"
   ]
  },
  {
   "cell_type": "code",
   "execution_count": 121,
   "id": "98f68aa6",
   "metadata": {},
   "outputs": [
    {
     "name": "stdout",
     "output_type": "stream",
     "text": [
      "              precision    recall  f1-score   support\n",
      "\n",
      "           0       0.64      0.99      0.78     10356\n",
      "           1       0.43      0.01      0.02      5739\n",
      "\n",
      "    accuracy                           0.64     16095\n",
      "   macro avg       0.54      0.50      0.40     16095\n",
      "weighted avg       0.57      0.64      0.51     16095\n",
      "\n"
     ]
    }
   ],
   "source": [
    "y_pred = stacking_2_gender.predict(x_test_2)\n",
    "print(classification_report(y_test_2_Gender.values,y_pred))"
   ]
  },
  {
   "cell_type": "code",
   "execution_count": null,
   "id": "ef99820f",
   "metadata": {},
   "outputs": [],
   "source": [
    "confusion_matrix(y_test_2_Gender,y_pred)"
   ]
  },
  {
   "cell_type": "markdown",
   "id": "84c81d0b",
   "metadata": {},
   "source": [
    "Scenario 1 Age Prediction\n"
   ]
  },
  {
   "cell_type": "code",
   "execution_count": null,
   "id": "19c00197",
   "metadata": {},
   "outputs": [],
   "source": [
    "y_pred = stacking_1_age.predict(x_test_1)\n",
    "print(classification_report(y_test_1_Age.values,y_pred))"
   ]
  },
  {
   "cell_type": "code",
   "execution_count": null,
   "id": "453154fa",
   "metadata": {},
   "outputs": [],
   "source": [
    "confusion_matrix(y_test_1_Age.values,y_pred)"
   ]
  },
  {
   "cell_type": "code",
   "execution_count": null,
   "id": "23ea984d",
   "metadata": {},
   "outputs": [],
   "source": [
    "y_pred_proba = stacking_1_age.predict_proba(x_test_1)\n",
    "log_loss(y_test_1_Age.values,y_pred_proba)"
   ]
  },
  {
   "cell_type": "markdown",
   "id": "8e36d7ff",
   "metadata": {},
   "source": [
    "Scenario 2 Age Prediction\n"
   ]
  },
  {
   "cell_type": "code",
   "execution_count": null,
   "id": "5cb57e35",
   "metadata": {},
   "outputs": [],
   "source": [
    "y_pred = stacking_2_age.predict(x_test_2)\n",
    "print(classification_report(y_test_2_Age.values,y_pred))"
   ]
  },
  {
   "cell_type": "code",
   "execution_count": null,
   "id": "6cf053f2",
   "metadata": {},
   "outputs": [],
   "source": [
    "confusion_matrix(y_test_2_Age.values,y_pred)"
   ]
  },
  {
   "cell_type": "code",
   "execution_count": null,
   "id": "c66be2b4",
   "metadata": {},
   "outputs": [],
   "source": [
    "y_pred_proba = stacking_2_age.predict_proba(x_test_2)\n",
    "log_loss(y_test_2_Age.values,y_pred_proba)"
   ]
  },
  {
   "cell_type": "markdown",
   "id": "e8452358",
   "metadata": {},
   "source": [
    "# Deployment"
   ]
  },
  {
   "cell_type": "markdown",
   "id": "26e5e8cb",
   "metadata": {},
   "source": [
    "### Exporting model for scenario 1"
   ]
  },
  {
   "cell_type": "code",
   "execution_count": null,
   "id": "7d949d68",
   "metadata": {},
   "outputs": [],
   "source": [
    "pickle.dump(stacking_1_age,open(\"Model_Age.sav\",\"wb\"))\n",
    "pickle.dump(stacking_1_gender, open(\"Model_Gender.sav\",\"wb\"))"
   ]
  },
  {
   "cell_type": "code",
   "execution_count": null,
   "id": "4f00b750",
   "metadata": {},
   "outputs": [],
   "source": [
    "#Selecting 50 device id for flask testing\n",
    "x_train_1.sample(frac=1).reset_index(drop=True, inplace=True)\n",
    "x_train_1.iloc[0:50].to_csv(\"Test_Flask.csv\",index=False)"
   ]
  }
 ],
 "metadata": {
  "kernelspec": {
   "display_name": "Python 3 (ipykernel)",
   "language": "python",
   "name": "python3"
  },
  "language_info": {
   "codemirror_mode": {
    "name": "ipython",
    "version": 3
   },
   "file_extension": ".py",
   "mimetype": "text/x-python",
   "name": "python",
   "nbconvert_exporter": "python",
   "pygments_lexer": "ipython3",
   "version": "3.7.7"
  }
 },
 "nbformat": 4,
 "nbformat_minor": 5
}
